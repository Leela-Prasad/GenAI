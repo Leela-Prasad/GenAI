{
 "cells": [
  {
   "cell_type": "code",
   "execution_count": null,
   "id": "cb182bbc",
   "metadata": {},
   "outputs": [
    {
     "ename": "SyntaxError",
     "evalue": "invalid syntax (3838213292.py, line 1)",
     "output_type": "error",
     "traceback": [
      "  \u001b[36mCell\u001b[39m\u001b[36m \u001b[39m\u001b[32mIn[5]\u001b[39m\u001b[32m, line 1\u001b[39m\n\u001b[31m    \u001b[39m\u001b[31mpip install langchain-huggingface\u001b[39m\n        ^\n\u001b[31mSyntaxError\u001b[39m\u001b[31m:\u001b[39m invalid syntax\n"
     ]
    }
   ],
   "source": [
    "pip install langchain-huggingface"
   ]
  },
  {
   "cell_type": "code",
   "execution_count": 1,
   "id": "86640ea9",
   "metadata": {},
   "outputs": [],
   "source": [
    "from langchain_core.documents import Document\n",
    "\n",
    "# sample document structure\n",
    "doc = Document(\n",
    "    page_content=\"A bunch of scientists bring back dinosaurs and mayhem breaks loose\",\n",
    "    metadata={\"year\": 1993, \"rating\": 7.7, \"genre\": \"science fiction\"}\n",
    ")"
   ]
  },
  {
   "cell_type": "code",
   "execution_count": 2,
   "id": "030e489c",
   "metadata": {},
   "outputs": [
    {
     "data": {
      "text/plain": [
       "Document(metadata={'year': 1993, 'rating': 7.7, 'genre': 'science fiction'}, page_content='A bunch of scientists bring back dinosaurs and mayhem breaks loose')"
      ]
     },
     "execution_count": 2,
     "metadata": {},
     "output_type": "execute_result"
    }
   ],
   "source": [
    "doc"
   ]
  },
  {
   "cell_type": "code",
   "execution_count": 2,
   "id": "0d4d2b25",
   "metadata": {},
   "outputs": [
    {
     "name": "stdout",
     "output_type": "stream",
     "text": [
      "Requirement already satisfied: pypdf in c:\\leela\\genai_workspace\\.venv\\lib\\site-packages (6.0.0)\n",
      "Collecting pymupdf\n",
      "  Downloading pymupdf-1.26.4-cp39-abi3-win_amd64.whl.metadata (3.4 kB)\n",
      "Downloading pymupdf-1.26.4-cp39-abi3-win_amd64.whl (18.7 MB)\n",
      "   ---------------------------------------- 0.0/18.7 MB ? eta -:--:--\n",
      "   --- ------------------------------------ 1.6/18.7 MB 8.3 MB/s eta 0:00:03\n",
      "   ------ --------------------------------- 2.9/18.7 MB 7.3 MB/s eta 0:00:03\n",
      "   ---------- ----------------------------- 4.7/18.7 MB 7.5 MB/s eta 0:00:02\n",
      "   ------------- -------------------------- 6.6/18.7 MB 7.7 MB/s eta 0:00:02\n",
      "   ----------------- ---------------------- 8.4/18.7 MB 7.9 MB/s eta 0:00:02\n",
      "   -------------------- ------------------- 9.4/18.7 MB 7.6 MB/s eta 0:00:02\n",
      "   ------------------------ --------------- 11.3/18.7 MB 7.7 MB/s eta 0:00:01\n",
      "   --------------------------- ------------ 13.1/18.7 MB 8.0 MB/s eta 0:00:01\n",
      "   --------------------------------- ------ 15.5/18.7 MB 8.2 MB/s eta 0:00:01\n",
      "   ------------------------------------- -- 17.6/18.7 MB 8.4 MB/s eta 0:00:01\n",
      "   ---------------------------------------- 18.7/18.7 MB 8.3 MB/s eta 0:00:00\n",
      "Installing collected packages: pymupdf\n",
      "Successfully installed pymupdf-1.26.4\n",
      "Note: you may need to restart the kernel to use updated packages.\n"
     ]
    },
    {
     "name": "stderr",
     "output_type": "stream",
     "text": [
      "\n",
      "[notice] A new release of pip is available: 25.1.1 -> 25.2\n",
      "[notice] To update, run: python.exe -m pip install --upgrade pip\n"
     ]
    }
   ],
   "source": [
    "pip install pypdf pymupdf "
   ]
  },
  {
   "cell_type": "code",
   "execution_count": null,
   "id": "d5c9d635",
   "metadata": {},
   "outputs": [],
   "source": [
    "from langchain_community.document_loaders.pdf import PyPDFLoader, PyMuPDFLoader\n",
    "\n",
    "loader = PyPDFLoader(\"letter.pdf\")\n",
    "documents = loader.load()"
   ]
  },
  {
   "cell_type": "code",
   "execution_count": 4,
   "id": "7ebeffaf",
   "metadata": {},
   "outputs": [
    {
     "data": {
      "text/plain": [
       "1"
      ]
     },
     "execution_count": 4,
     "metadata": {},
     "output_type": "execute_result"
    }
   ],
   "source": [
    "len(documents)"
   ]
  },
  {
   "cell_type": "code",
   "execution_count": null,
   "id": "07fa9715",
   "metadata": {},
   "outputs": [],
   "source": [
    "documents[0]"
   ]
  },
  {
   "cell_type": "code",
   "execution_count": 9,
   "id": "c282e5f3",
   "metadata": {},
   "outputs": [
    {
     "name": "stderr",
     "output_type": "stream",
     "text": [
      "Created a chunk of size 29, which is longer than the specified 10\n",
      "Created a chunk of size 53, which is longer than the specified 10\n",
      "Created a chunk of size 55, which is longer than the specified 10\n",
      "Created a chunk of size 34, which is longer than the specified 10\n",
      "Created a chunk of size 19, which is longer than the specified 10\n",
      "Created a chunk of size 31, which is longer than the specified 10\n",
      "Created a chunk of size 23, which is longer than the specified 10\n",
      "Created a chunk of size 29, which is longer than the specified 10\n",
      "Created a chunk of size 112, which is longer than the specified 10\n",
      "Created a chunk of size 99, which is longer than the specified 10\n",
      "Created a chunk of size 112, which is longer than the specified 10\n",
      "Created a chunk of size 63, which is longer than the specified 10\n",
      "Created a chunk of size 16, which is longer than the specified 10\n",
      "Created a chunk of size 21, which is longer than the specified 10\n",
      "Created a chunk of size 29, which is longer than the specified 10\n",
      "Created a chunk of size 19, which is longer than the specified 10\n",
      "Created a chunk of size 40, which is longer than the specified 10\n",
      "Created a chunk of size 27, which is longer than the specified 10\n",
      "Created a chunk of size 47, which is longer than the specified 10\n",
      "Created a chunk of size 21, which is longer than the specified 10\n",
      "Created a chunk of size 27, which is longer than the specified 10\n",
      "Created a chunk of size 27, which is longer than the specified 10\n"
     ]
    },
    {
     "name": "stdout",
     "output_type": "stream",
     "text": [
      "[Document(metadata={'producer': 'Microsoft® Word for Microsoft 365', 'creator': 'Microsoft® Word for Microsoft 365', 'creationdate': '2023-08-25T12:28:08+05:30', 'author': 'Suresh Babu', 'moddate': '2023-08-25T12:28:08+05:30', 'source': 'letter.pdf', 'total_pages': 1, 'page': 0, 'page_label': '1'}, page_content='BA Continuum India Pvt. Ltd.'), Document(metadata={'producer': 'Microsoft® Word for Microsoft 365', 'creator': 'Microsoft® Word for Microsoft 365', 'creationdate': '2023-08-25T12:28:08+05:30', 'author': 'Suresh Babu', 'moddate': '2023-08-25T12:28:08+05:30', 'source': 'letter.pdf', 'total_pages': 1, 'page': 0, 'page_label': '1'}, page_content='A nonbank subsidiary of Bank of America Corporation'), Document(metadata={'producer': 'Microsoft® Word for Microsoft 365', 'creator': 'Microsoft® Word for Microsoft 365', 'creationdate': '2023-08-25T12:28:08+05:30', 'author': 'Suresh Babu', 'moddate': '2023-08-25T12:28:08+05:30', 'source': 'letter.pdf', 'total_pages': 1, 'page': 0, 'page_label': '1'}, page_content='Building Number 5, Mindspace-Raheja IT Park HITEC City'), Document(metadata={'producer': 'Microsoft® Word for Microsoft 365', 'creator': 'Microsoft® Word for Microsoft 365', 'creationdate': '2023-08-25T12:28:08+05:30', 'author': 'Suresh Babu', 'moddate': '2023-08-25T12:28:08+05:30', 'source': 'letter.pdf', 'total_pages': 1, 'page': 0, 'page_label': '1'}, page_content='Madhapur, Hyderabad-500081, India'), Document(metadata={'producer': 'Microsoft® Word for Microsoft 365', 'creator': 'Microsoft® Word for Microsoft 365', 'creationdate': '2023-08-25T12:28:08+05:30', 'author': 'Suresh Babu', 'moddate': '2023-08-25T12:28:08+05:30', 'source': 'letter.pdf', 'total_pages': 1, 'page': 0, 'page_label': '1'}, page_content='Ref: # 1751752/A22'), Document(metadata={'producer': 'Microsoft® Word for Microsoft 365', 'creator': 'Microsoft® Word for Microsoft 365', 'creationdate': '2023-08-25T12:28:08+05:30', 'author': 'Suresh Babu', 'moddate': '2023-08-25T12:28:08+05:30', 'source': 'letter.pdf', 'total_pages': 1, 'page': 0, 'page_label': '1'}, page_content='25-Aug-23'), Document(metadata={'producer': 'Microsoft® Word for Microsoft 365', 'creator': 'Microsoft® Word for Microsoft 365', 'creationdate': '2023-08-25T12:28:08+05:30', 'author': 'Suresh Babu', 'moddate': '2023-08-25T12:28:08+05:30', 'source': 'letter.pdf', 'total_pages': 1, 'page': 0, 'page_label': '1'}, page_content='Full Name  : Leela Prasad Jagu'), Document(metadata={'producer': 'Microsoft® Word for Microsoft 365', 'creator': 'Microsoft® Word for Microsoft 365', 'creationdate': '2023-08-25T12:28:08+05:30', 'author': 'Suresh Babu', 'moddate': '2023-08-25T12:28:08+05:30', 'source': 'letter.pdf', 'total_pages': 1, 'page': 0, 'page_label': '1'}, page_content='Person No.  : 27353082'), Document(metadata={'producer': 'Microsoft® Word for Microsoft 365', 'creator': 'Microsoft® Word for Microsoft 365', 'creationdate': '2023-08-25T12:28:08+05:30', 'author': 'Suresh Babu', 'moddate': '2023-08-25T12:28:08+05:30', 'source': 'letter.pdf', 'total_pages': 1, 'page': 0, 'page_label': '1'}, page_content='TO WHOMSOEVER IT MAY CONCERN'), Document(metadata={'producer': 'Microsoft® Word for Microsoft 365', 'creator': 'Microsoft® Word for Microsoft 365', 'creationdate': '2023-08-25T12:28:08+05:30', 'author': 'Suresh Babu', 'moddate': '2023-08-25T12:28:08+05:30', 'source': 'letter.pdf', 'total_pages': 1, 'page': 0, 'page_label': '1'}, page_content='This is to certify that Leela Prasad Jagu has been working with BA Continuum India Pvt. Ltd. since 10-Jan-18.'), Document(metadata={'producer': 'Microsoft® Word for Microsoft 365', 'creator': 'Microsoft® Word for Microsoft 365', 'creationdate': '2023-08-25T12:28:08+05:30', 'author': 'Suresh Babu', 'moddate': '2023-08-25T12:28:08+05:30', 'source': 'letter.pdf', 'total_pages': 1, 'page': 0, 'page_label': '1'}, page_content='Leela Prasad’s title at the time of leaving the organization was Software Engineer II A - GBS IND.'), Document(metadata={'producer': 'Microsoft® Word for Microsoft 365', 'creator': 'Microsoft® Word for Microsoft 365', 'creationdate': '2023-08-25T12:28:08+05:30', 'author': 'Suresh Babu', 'moddate': '2023-08-25T12:28:08+05:30', 'source': 'letter.pdf', 'total_pages': 1, 'page': 0, 'page_label': '1'}, page_content='Leela Prasad is being relieved from the services of the organization w.e.f. 21-Aug-23, close of business hours.'), Document(metadata={'producer': 'Microsoft® Word for Microsoft 365', 'creator': 'Microsoft® Word for Microsoft 365', 'creationdate': '2023-08-25T12:28:08+05:30', 'author': 'Suresh Babu', 'moddate': '2023-08-25T12:28:08+05:30', 'source': 'letter.pdf', 'total_pages': 1, 'page': 0, 'page_label': '1'}, page_content='We take this opportunity to wish Leela Prasad a bright future.'), Document(metadata={'producer': 'Microsoft® Word for Microsoft 365', 'creator': 'Microsoft® Word for Microsoft 365', 'creationdate': '2023-08-25T12:28:08+05:30', 'author': 'Suresh Babu', 'moddate': '2023-08-25T12:28:08+05:30', 'source': 'letter.pdf', 'total_pages': 1, 'page': 0, 'page_label': '1'}, page_content='Yours sincerely'), Document(metadata={'producer': 'Microsoft® Word for Microsoft 365', 'creator': 'Microsoft® Word for Microsoft 365', 'creationdate': '2023-08-25T12:28:08+05:30', 'author': 'Suresh Babu', 'moddate': '2023-08-25T12:28:08+05:30', 'source': 'letter.pdf', 'total_pages': 1, 'page': 0, 'page_label': '1'}, page_content='For and on behalf of'), Document(metadata={'producer': 'Microsoft® Word for Microsoft 365', 'creator': 'Microsoft® Word for Microsoft 365', 'creationdate': '2023-08-25T12:28:08+05:30', 'author': 'Suresh Babu', 'moddate': '2023-08-25T12:28:08+05:30', 'source': 'letter.pdf', 'total_pages': 1, 'page': 0, 'page_label': '1'}, page_content='BA Continuum India Pvt. Ltd.'), Document(metadata={'producer': 'Microsoft® Word for Microsoft 365', 'creator': 'Microsoft® Word for Microsoft 365', 'creationdate': '2023-08-25T12:28:08+05:30', 'author': 'Suresh Babu', 'moddate': '2023-08-25T12:28:08+05:30', 'source': 'letter.pdf', 'total_pages': 1, 'page': 0, 'page_label': '1'}, page_content='Anupam Chakraborty'), Document(metadata={'producer': 'Microsoft® Word for Microsoft 365', 'creator': 'Microsoft® Word for Microsoft 365', 'creationdate': '2023-08-25T12:28:08+05:30', 'author': 'Suresh Babu', 'moddate': '2023-08-25T12:28:08+05:30', 'source': 'letter.pdf', 'total_pages': 1, 'page': 0, 'page_label': '1'}, page_content='Senior Vice President - Human Resources'), Document(metadata={'producer': 'Microsoft® Word for Microsoft 365', 'creator': 'Microsoft® Word for Microsoft 365', 'creationdate': '2023-08-25T12:28:08+05:30', 'author': 'Suresh Babu', 'moddate': '2023-08-25T12:28:08+05:30', 'source': 'letter.pdf', 'total_pages': 1, 'page': 0, 'page_label': '1'}, page_content='Registered office address:'), Document(metadata={'producer': 'Microsoft® Word for Microsoft 365', 'creator': 'Microsoft® Word for Microsoft 365', 'creationdate': '2023-08-25T12:28:08+05:30', 'author': 'Suresh Babu', 'moddate': '2023-08-25T12:28:08+05:30', 'source': 'letter.pdf', 'total_pages': 1, 'page': 0, 'page_label': '1'}, page_content='Building Number 5, Mind Space – Raheja IT Park'), Document(metadata={'producer': 'Microsoft® Word for Microsoft 365', 'creator': 'Microsoft® Word for Microsoft 365', 'creationdate': '2023-08-25T12:28:08+05:30', 'author': 'Suresh Babu', 'moddate': '2023-08-25T12:28:08+05:30', 'source': 'letter.pdf', 'total_pages': 1, 'page': 0, 'page_label': '1'}, page_content='HITEC City, Madhapur'), Document(metadata={'producer': 'Microsoft® Word for Microsoft 365', 'creator': 'Microsoft® Word for Microsoft 365', 'creationdate': '2023-08-25T12:28:08+05:30', 'author': 'Suresh Babu', 'moddate': '2023-08-25T12:28:08+05:30', 'source': 'letter.pdf', 'total_pages': 1, 'page': 0, 'page_label': '1'}, page_content='Hyderabad – 500 081, India'), Document(metadata={'producer': 'Microsoft® Word for Microsoft 365', 'creator': 'Microsoft® Word for Microsoft 365', 'creationdate': '2023-08-25T12:28:08+05:30', 'author': 'Suresh Babu', 'moddate': '2023-08-25T12:28:08+05:30', 'source': 'letter.pdf', 'total_pages': 1, 'page': 0, 'page_label': '1'}, page_content='Phone number: 040 71065000'), Document(metadata={'producer': 'Microsoft® Word for Microsoft 365', 'creator': 'Microsoft® Word for Microsoft 365', 'creationdate': '2023-08-25T12:28:08+05:30', 'author': 'Suresh Babu', 'moddate': '2023-08-25T12:28:08+05:30', 'source': 'letter.pdf', 'total_pages': 1, 'page': 0, 'page_label': '1'}, page_content='CIN: U72200TG2003PTC041835')]\n"
     ]
    },
    {
     "data": {
      "text/plain": [
       "24"
      ]
     },
     "execution_count": 9,
     "metadata": {},
     "output_type": "execute_result"
    }
   ],
   "source": [
    "from langchain.text_splitter import CharacterTextSplitter\n",
    "\n",
    "text_splitter = CharacterTextSplitter(chunk_size=10, chunk_overlap=3, separator=\"\\n\")\n",
    "chunks = text_splitter.split_documents(documents=documents)\n",
    "print(chunks)\n",
    "len(chunks)"
   ]
  },
  {
   "cell_type": "code",
   "execution_count": null,
   "id": "057f5108",
   "metadata": {},
   "outputs": [],
   "source": [
    "from langchain.text_splitter import CharacterTextSplitter\n",
    "\n",
    "text_splitter = CharacterTextSplitter(chunk_size=10, chunk_overlap=3)\n",
    "chunks = text_splitter.split_documents(documents=documents)\n",
    "print(chunks)\n",
    "len(chunks)\n"
   ]
  },
  {
   "cell_type": "code",
   "execution_count": null,
   "id": "c06bb7f8",
   "metadata": {},
   "outputs": [],
   "source": [
    "from langchain.text_splitter import CharacterTextSplitter\n",
    "\n",
    "text_splitter = CharacterTextSplitter(separator=\"\\n\")\n",
    "chunks = text_splitter.split_documents(documents=documents)\n",
    "print(chunks)\n",
    "len(chunks)\n"
   ]
  },
  {
   "cell_type": "code",
   "execution_count": null,
   "id": "010c84f6",
   "metadata": {},
   "outputs": [],
   "source": [
    "from langchain_community.document_loaders.pdf import PyPDFLoader\n",
    "\n",
    "loader = PyPDFLoader(\"letter.pdf\")\n",
    "documents = loader.load()"
   ]
  },
  {
   "cell_type": "code",
   "execution_count": null,
   "id": "daf5bc16",
   "metadata": {},
   "outputs": [],
   "source": [
    "from langchain.text_splitter import CharacterTextSplitter\n",
    "\n",
    "text_splitter = CharacterTextSplitter(chunk_size=1000, chunk_overlap=200, separator=\"\\n\")\n",
    "chunks = text_splitter.split_documents(documents=documents)"
   ]
  },
  {
   "cell_type": "code",
   "execution_count": null,
   "id": "6ad6bf88",
   "metadata": {},
   "outputs": [],
   "source": [
    "pip install langchain-chroma"
   ]
  },
  {
   "cell_type": "code",
   "execution_count": 4,
   "id": "2adeb70d",
   "metadata": {},
   "outputs": [
    {
     "data": {
      "text/plain": [
       "3"
      ]
     },
     "execution_count": 4,
     "metadata": {},
     "output_type": "execute_result"
    }
   ],
   "source": [
    "len(chunks)"
   ]
  },
  {
   "cell_type": "code",
   "execution_count": null,
   "id": "fb148c0c",
   "metadata": {},
   "outputs": [],
   "source": [
    "from langchain_openai import OpenAIEmbeddings\n",
    "\n",
    "embeddings = OpenAIEmbeddings(model=\"text-embedding-3-small\")"
   ]
  },
  {
   "cell_type": "code",
   "execution_count": null,
   "id": "7ba19656",
   "metadata": {},
   "outputs": [],
   "source": [
    "from langchain_huggingface import HuggingFaceEmbeddings\n",
    "\n",
    "embeddings = HuggingFaceEmbeddings()"
   ]
  },
  {
   "cell_type": "code",
   "execution_count": null,
   "id": "1982875e",
   "metadata": {},
   "outputs": [
    {
     "name": "stdout",
     "output_type": "stream",
     "text": [
      "Embedding successful\n"
     ]
    },
    {
     "ename": "",
     "evalue": "",
     "output_type": "error",
     "traceback": [
      "\u001b[1;31mThe Kernel crashed while executing code in the current cell or a previous cell. \n",
      "\u001b[1;31mPlease review the code in the cell(s) to identify a possible cause of the failure. \n",
      "\u001b[1;31mClick <a href='https://aka.ms/vscodeJupyterKernelCrash'>here</a> for more info. \n",
      "\u001b[1;31mView Jupyter <a href='command:jupyter.viewOutput'>log</a> for further details."
     ]
    }
   ],
   "source": [
    "\n",
    "from langchain_chroma import Chroma\n",
    "\n",
    "\n",
    "vectorstore = Chroma.from_documents(documents=documents, embedding=embeddings, persist_directory=\"chroma_db\")\n",
    "\n",
    "# Retreiving from persistant vector store\n",
    "vectorstore = Chroma(persist_directory=\"chroma_db\", embedding_function=embeddings)"
   ]
  },
  {
   "cell_type": "code",
   "execution_count": null,
   "id": "643b490d",
   "metadata": {},
   "outputs": [],
   "source": [
    "from langchain_community.vectorstores import FAISS\n",
    "\n",
    "\n",
    "vectorstore = FAISS.from_documents(documents, embeddings)\n",
    "vectorstore.save_local(\"faiss_store\")\n",
    "\n",
    "#Retrieving from persistant vector store\n",
    "vectorstore = FAISS.load_local(\"faiss_store\", embeddings=embeddings, allow_dangerous_deserialization=True)"
   ]
  },
  {
   "cell_type": "code",
   "execution_count": null,
   "id": "f867c56e",
   "metadata": {},
   "outputs": [],
   "source": [
    "retriever = vectorstore.as_retriever(\n",
    "                search_type = \"similarity\",\n",
    "                searcg_kwargs = {\"k\": 4}\n",
    "            )\n",
    "\n",
    "retriever.invoke(\"what is the relieving date\")"
   ]
  },
  {
   "cell_type": "code",
   "execution_count": null,
   "id": "153c953d",
   "metadata": {},
   "outputs": [],
   "source": [
    "from langchain.prompts import ChatPromptTemplate\n",
    "from langchain_openai import ChatOpenAI\n",
    "from langchain_core.runnables import RunnablePassthrough\n",
    "\n",
    "message = \"\"\"\n",
    "            Answer this question using the provided context only.\n",
    "            If the information is not available in the context, justy reply with \"I dont know\"\n",
    "            {input}\n",
    "            Context: {context}\n",
    "          \"\"\"\n",
    "\n",
    "prompt = ChatPromptTemplate.from_messages([\n",
    "    (\"human\", message)\n",
    "])\n",
    "\n",
    "llm = ChatOpenAI(model = \"gpt-4o-mini\")\n",
    "\n",
    "# Augmenting Context without Document Stuffing\n",
    "chain = {\"input\": RunnablePassthrough(), \"context\": retriever} | prompt | llm\n",
    "chain.invoke(\"what is the relieving date\")\n"
   ]
  },
  {
   "cell_type": "code",
   "execution_count": null,
   "id": "cad15e99",
   "metadata": {},
   "outputs": [],
   "source": [
    "from langchain.prompts import ChatPromptTemplate\n",
    "from langchain_openai import ChatOpenAI\n",
    "from langchain_core.runnables import RunnablePassthrough\n",
    "from langchain.chains.combine_documents.stuff import create_stuff_documents_chain\n",
    "from langchain.chains.retrieval import create_retrieval_chain\n",
    "\n",
    "message = \"\"\"\n",
    "            Answer this question using the provided context only.\n",
    "            If the information is not available in the context, justy reply with \"I dont know\"\n",
    "            {input}\n",
    "            Context: {context}\n",
    "          \"\"\"\n",
    "\n",
    "prompt = ChatPromptTemplate.from_messages([\n",
    "    (\"human\", message)\n",
    "])\n",
    "\n",
    "llm = ChatOpenAI(model = \"gpt-4o-mini\")\n",
    "\n",
    "question_answer_chain = create_stuff_documents_chain(llm, prompt)\n",
    "rag_chain = create_retrieval_chain(retriever, question_answer_chain)\n",
    "\n",
    "response = rag_chain.invoke({\"input\": \"what is the relieving date\"})\n",
    "\n",
    "print(response)\n"
   ]
  }
 ],
 "metadata": {
  "kernelspec": {
   "display_name": ".venv",
   "language": "python",
   "name": "python3"
  },
  "language_info": {
   "codemirror_mode": {
    "name": "ipython",
    "version": 3
   },
   "file_extension": ".py",
   "mimetype": "text/x-python",
   "name": "python",
   "nbconvert_exporter": "python",
   "pygments_lexer": "ipython3",
   "version": "3.11.7"
  }
 },
 "nbformat": 4,
 "nbformat_minor": 5
}
