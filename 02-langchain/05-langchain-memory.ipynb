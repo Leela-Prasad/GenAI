{
 "cells": [
  {
   "cell_type": "code",
   "execution_count": 6,
   "id": "a87735cd",
   "metadata": {},
   "outputs": [
    {
     "data": {
      "text/plain": [
       "True"
      ]
     },
     "execution_count": 6,
     "metadata": {},
     "output_type": "execute_result"
    }
   ],
   "source": [
    "from dotenv import load_dotenv\n",
    "load_dotenv()"
   ]
  },
  {
   "cell_type": "code",
   "execution_count": 3,
   "id": "871232aa",
   "metadata": {},
   "outputs": [],
   "source": [
    "from langchain_core.prompts import ChatPromptTemplate, MessagesPlaceholder\n",
    "\n",
    "prompt_template = ChatPromptTemplate.from_messages([\n",
    "                    (\"system\", \"You are a helpful assistant. Answer all questions to the best of your ability\"),\n",
    "                    MessagesPlaceholder(variable_name=\"messages\")\n",
    "                ])"
   ]
  },
  {
   "cell_type": "code",
   "execution_count": 4,
   "id": "405d39bc",
   "metadata": {},
   "outputs": [],
   "source": [
    "from langchain_openai import ChatOpenAI\n",
    "\n",
    "model = ChatOpenAI(model=\"gpt-4o-mini\")"
   ]
  },
  {
   "cell_type": "code",
   "execution_count": null,
   "id": "8303e86b",
   "metadata": {},
   "outputs": [],
   "source": [
    "pip install langchain_community"
   ]
  },
  {
   "cell_type": "code",
   "execution_count": 7,
   "id": "cae3109c",
   "metadata": {},
   "outputs": [
    {
     "data": {
      "text/plain": [
       "AIMessage(content='The translation of \"I love Programming\" in French is \"J\\'aime la programmation.\"', additional_kwargs={'refusal': None}, response_metadata={'token_usage': {'completion_tokens': 17, 'prompt_tokens': 37, 'total_tokens': 54, 'completion_tokens_details': {'accepted_prediction_tokens': 0, 'audio_tokens': 0, 'reasoning_tokens': 0, 'rejected_prediction_tokens': 0}, 'prompt_tokens_details': {'audio_tokens': 0, 'cached_tokens': 0}}, 'model_name': 'gpt-4o-mini-2024-07-18', 'system_fingerprint': 'fp_560af6e559', 'id': 'chatcmpl-CAHSbE6NAIBeJoOOY41sQO78sR2Mg', 'service_tier': 'default', 'finish_reason': 'stop', 'logprobs': None}, id='run--67d92670-431f-4be0-9b09-7ffc7fe0dbdc-0', usage_metadata={'input_tokens': 37, 'output_tokens': 17, 'total_tokens': 54, 'input_token_details': {'audio': 0, 'cache_read': 0}, 'output_token_details': {'audio': 0, 'reasoning': 0}})"
      ]
     },
     "execution_count": 7,
     "metadata": {},
     "output_type": "execute_result"
    }
   ],
   "source": [
    "from langchain_community.chat_message_histories import ChatMessageHistory\n",
    "\n",
    "chat_message_history = ChatMessageHistory()\n",
    "chat_message_history.add_user_message(\"Translate this sentence from English to French: I love Programming\")\n",
    "\n",
    "chain = prompt_template | model\n",
    "response = chain.invoke({\n",
    "                \"messages\": chat_message_history.messages\n",
    "            })\n",
    "response"
   ]
  },
  {
   "cell_type": "code",
   "execution_count": 9,
   "id": "4087c4c8",
   "metadata": {},
   "outputs": [
    {
     "data": {
      "text/plain": [
       "AIMessage(content='You asked me to translate the sentence \"I love Programming\" from English to French.', additional_kwargs={'refusal': None}, response_metadata={'token_usage': {'completion_tokens': 17, 'prompt_tokens': 97, 'total_tokens': 114, 'completion_tokens_details': {'accepted_prediction_tokens': 0, 'audio_tokens': 0, 'reasoning_tokens': 0, 'rejected_prediction_tokens': 0}, 'prompt_tokens_details': {'audio_tokens': 0, 'cached_tokens': 0}}, 'model_name': 'gpt-4o-mini-2024-07-18', 'system_fingerprint': 'fp_560af6e559', 'id': 'chatcmpl-CAHUXn9mAZGMkrHwA0rdC9EF61o0a', 'service_tier': 'default', 'finish_reason': 'stop', 'logprobs': None}, id='run--e4712e22-c99a-46cd-84ed-c4e8f0fb155e-0', usage_metadata={'input_tokens': 97, 'output_tokens': 17, 'total_tokens': 114, 'input_token_details': {'audio': 0, 'cache_read': 0}, 'output_token_details': {'audio': 0, 'reasoning': 0}})"
      ]
     },
     "execution_count": 9,
     "metadata": {},
     "output_type": "execute_result"
    }
   ],
   "source": [
    "chat_message_history.add_ai_message(response)\n",
    "chat_message_history.add_user_message(\"What did I ask you\")\n",
    "\n",
    "response = chain.invoke({\"messages\": chat_message_history.messages})\n",
    "response"
   ]
  },
  {
   "cell_type": "code",
   "execution_count": 10,
   "id": "d9be475f",
   "metadata": {},
   "outputs": [
    {
     "data": {
      "text/plain": [
       "[HumanMessage(content='Translate this sentence from English to French: I love Programming', additional_kwargs={}, response_metadata={}),\n",
       " AIMessage(content='The translation of \"I love Programming\" in French is \"J\\'aime la programmation.\"', additional_kwargs={'refusal': None}, response_metadata={'token_usage': {'completion_tokens': 17, 'prompt_tokens': 37, 'total_tokens': 54, 'completion_tokens_details': {'accepted_prediction_tokens': 0, 'audio_tokens': 0, 'reasoning_tokens': 0, 'rejected_prediction_tokens': 0}, 'prompt_tokens_details': {'audio_tokens': 0, 'cached_tokens': 0}}, 'model_name': 'gpt-4o-mini-2024-07-18', 'system_fingerprint': 'fp_560af6e559', 'id': 'chatcmpl-CAHSbE6NAIBeJoOOY41sQO78sR2Mg', 'service_tier': 'default', 'finish_reason': 'stop', 'logprobs': None}, id='run--67d92670-431f-4be0-9b09-7ffc7fe0dbdc-0', usage_metadata={'input_tokens': 37, 'output_tokens': 17, 'total_tokens': 54, 'input_token_details': {'audio': 0, 'cache_read': 0}, 'output_token_details': {'audio': 0, 'reasoning': 0}}),\n",
       " HumanMessage(content='What did I ask you', additional_kwargs={}, response_metadata={}),\n",
       " AIMessage(content='The translation of \"I love Programming\" in French is \"J\\'aime la programmation.\"', additional_kwargs={'refusal': None}, response_metadata={'token_usage': {'completion_tokens': 17, 'prompt_tokens': 37, 'total_tokens': 54, 'completion_tokens_details': {'accepted_prediction_tokens': 0, 'audio_tokens': 0, 'reasoning_tokens': 0, 'rejected_prediction_tokens': 0}, 'prompt_tokens_details': {'audio_tokens': 0, 'cached_tokens': 0}}, 'model_name': 'gpt-4o-mini-2024-07-18', 'system_fingerprint': 'fp_560af6e559', 'id': 'chatcmpl-CAHSbE6NAIBeJoOOY41sQO78sR2Mg', 'service_tier': 'default', 'finish_reason': 'stop', 'logprobs': None}, id='run--67d92670-431f-4be0-9b09-7ffc7fe0dbdc-0', usage_metadata={'input_tokens': 37, 'output_tokens': 17, 'total_tokens': 54, 'input_token_details': {'audio': 0, 'cache_read': 0}, 'output_token_details': {'audio': 0, 'reasoning': 0}}),\n",
       " HumanMessage(content='What did I ask you', additional_kwargs={}, response_metadata={})]"
      ]
     },
     "execution_count": 10,
     "metadata": {},
     "output_type": "execute_result"
    }
   ],
   "source": [
    "chat_message_history.messages"
   ]
  },
  {
   "cell_type": "markdown",
   "id": "02530543",
   "metadata": {},
   "source": [
    "Storing Chat Messages Automatically Using RunnableWithMessageHistory"
   ]
  },
  {
   "cell_type": "code",
   "execution_count": 2,
   "id": "d52aa98d",
   "metadata": {},
   "outputs": [],
   "source": [
    "from langchain_community.chat_message_histories import ChatMessageHistory\n",
    "store = {}\n",
    "\n",
    "def get_session_history(session_id: str) -> ChatMessageHistory:\n",
    "    if session_id not in store:\n",
    "        store[session_id] = ChatMessageHistory()\n",
    "    return store[session_id]\n",
    "        "
   ]
  },
  {
   "cell_type": "code",
   "execution_count": 3,
   "id": "c8ca93e4",
   "metadata": {},
   "outputs": [],
   "source": [
    "from langchain_core.runnables.history import RunnableWithMessageHistory\n",
    "from langchain_openai import ChatOpenAI\n",
    "\n",
    "model = ChatOpenAI(model=\"gpt-4o-mini\")\n",
    "\n",
    "model_with_message_history = RunnableWithMessageHistory(model, get_session_history)"
   ]
  },
  {
   "cell_type": "code",
   "execution_count": 6,
   "id": "38afa37d",
   "metadata": {},
   "outputs": [
    {
     "data": {
      "text/plain": [
       "AIMessage(content='Your name is Leela! How can I assist you further?', additional_kwargs={'refusal': None}, response_metadata={'token_usage': {'completion_tokens': 13, 'prompt_tokens': 39, 'total_tokens': 52, 'completion_tokens_details': {'accepted_prediction_tokens': 0, 'audio_tokens': 0, 'reasoning_tokens': 0, 'rejected_prediction_tokens': 0}, 'prompt_tokens_details': {'audio_tokens': 0, 'cached_tokens': 0}}, 'model_name': 'gpt-4o-mini-2024-07-18', 'system_fingerprint': 'fp_560af6e559', 'id': 'chatcmpl-CAILrbncJvrqVubda3VFoGjtwutSa', 'service_tier': 'default', 'finish_reason': 'stop', 'logprobs': None}, id='run--78bf6e70-32d9-4963-bec6-17edb3fd9e3f-0', usage_metadata={'input_tokens': 39, 'output_tokens': 13, 'total_tokens': 52, 'input_token_details': {'audio': 0, 'cache_read': 0}, 'output_token_details': {'audio': 0, 'reasoning': 0}})"
      ]
     },
     "execution_count": 6,
     "metadata": {},
     "output_type": "execute_result"
    }
   ],
   "source": [
    "from langchain_core.messages import HumanMessage\n",
    "\n",
    "content = input(\"Enter your message\")\n",
    "\n",
    "config = {\"configurable\": {\"session_id\": \"1\"}}\n",
    "model_with_message_history.invoke(\n",
    "    [HumanMessage(content = content)],\n",
    "    config = config\n",
    ")"
   ]
  },
  {
   "cell_type": "code",
   "execution_count": 7,
   "id": "91e774d7",
   "metadata": {},
   "outputs": [
    {
     "data": {
      "text/plain": [
       "[HumanMessage(content='My Name is Leela', additional_kwargs={}, response_metadata={}),\n",
       " AIMessage(content='Nice to meet you, Leela! How can I assist you today?', additional_kwargs={'refusal': None}, response_metadata={'token_usage': {'completion_tokens': 15, 'prompt_tokens': 12, 'total_tokens': 27, 'completion_tokens_details': {'accepted_prediction_tokens': 0, 'audio_tokens': 0, 'reasoning_tokens': 0, 'rejected_prediction_tokens': 0}, 'prompt_tokens_details': {'audio_tokens': 0, 'cached_tokens': 0}}, 'model_name': 'gpt-4o-mini-2024-07-18', 'system_fingerprint': 'fp_560af6e559', 'id': 'chatcmpl-CAILcezNRBX54XNRz2RsDvz1Quyt6', 'service_tier': 'default', 'finish_reason': 'stop', 'logprobs': None}, id='run--655bd655-c749-49ed-b568-6df00d67220e-0', usage_metadata={'input_tokens': 12, 'output_tokens': 15, 'total_tokens': 27, 'input_token_details': {'audio': 0, 'cache_read': 0}, 'output_token_details': {'audio': 0, 'reasoning': 0}}),\n",
       " HumanMessage(content='What is my name', additional_kwargs={}, response_metadata={}),\n",
       " AIMessage(content='Your name is Leela! How can I assist you further?', additional_kwargs={'refusal': None}, response_metadata={'token_usage': {'completion_tokens': 13, 'prompt_tokens': 39, 'total_tokens': 52, 'completion_tokens_details': {'accepted_prediction_tokens': 0, 'audio_tokens': 0, 'reasoning_tokens': 0, 'rejected_prediction_tokens': 0}, 'prompt_tokens_details': {'audio_tokens': 0, 'cached_tokens': 0}}, 'model_name': 'gpt-4o-mini-2024-07-18', 'system_fingerprint': 'fp_560af6e559', 'id': 'chatcmpl-CAILrbncJvrqVubda3VFoGjtwutSa', 'service_tier': 'default', 'finish_reason': 'stop', 'logprobs': None}, id='run--78bf6e70-32d9-4963-bec6-17edb3fd9e3f-0', usage_metadata={'input_tokens': 39, 'output_tokens': 13, 'total_tokens': 52, 'input_token_details': {'audio': 0, 'cache_read': 0}, 'output_token_details': {'audio': 0, 'reasoning': 0}})]"
      ]
     },
     "execution_count": 7,
     "metadata": {},
     "output_type": "execute_result"
    }
   ],
   "source": [
    "model_with_message_history.get_session_history(\"1\").messages"
   ]
  },
  {
   "cell_type": "code",
   "execution_count": null,
   "id": "db2bb0b6",
   "metadata": {},
   "outputs": [],
   "source": [
    "pip install gradio"
   ]
  },
  {
   "cell_type": "markdown",
   "id": "b5f1b322",
   "metadata": {},
   "source": [
    "Chatbot With Gradio and RunnableWithMessageHistory"
   ]
  },
  {
   "cell_type": "code",
   "execution_count": 17,
   "id": "287b9dda",
   "metadata": {},
   "outputs": [
    {
     "name": "stderr",
     "output_type": "stream",
     "text": [
      "c:\\Leela\\genai_workspace\\.venv\\Lib\\site-packages\\gradio\\chat_interface.py:345: UserWarning: The 'tuples' format for chatbot messages is deprecated and will be removed in a future version of Gradio. Please set type='messages' instead, which uses openai-style 'role' and 'content' keys.\n",
      "  self.chatbot = Chatbot(\n"
     ]
    },
    {
     "name": "stdout",
     "output_type": "stream",
     "text": [
      "* Running on local URL:  http://127.0.0.1:7860\n",
      "* To create a public link, set `share=True` in `launch()`.\n"
     ]
    },
    {
     "data": {
      "text/html": [
       "<div><iframe src=\"http://127.0.0.1:7860/\" width=\"100%\" height=\"500\" allow=\"autoplay; camera; microphone; clipboard-read; clipboard-write;\" frameborder=\"0\" allowfullscreen></iframe></div>"
      ],
      "text/plain": [
       "<IPython.core.display.HTML object>"
      ]
     },
     "metadata": {},
     "output_type": "display_data"
    },
    {
     "name": "stdout",
     "output_type": "stream",
     "text": [
      "[HumanMessage(content='My Name is Leela', additional_kwargs={}, response_metadata={}), AIMessage(content='Nice to meet you, Leela! How can I assist you today?', additional_kwargs={'refusal': None}, response_metadata={'token_usage': {'completion_tokens': 15, 'prompt_tokens': 12, 'total_tokens': 27, 'completion_tokens_details': {'accepted_prediction_tokens': 0, 'audio_tokens': 0, 'reasoning_tokens': 0, 'rejected_prediction_tokens': 0}, 'prompt_tokens_details': {'audio_tokens': 0, 'cached_tokens': 0}}, 'model_name': 'gpt-4o-mini-2024-07-18', 'system_fingerprint': 'fp_51db84afab', 'id': 'chatcmpl-CAJ1nUu7kmtytL5dIDJAlPHkHo04A', 'service_tier': 'default', 'finish_reason': 'stop', 'logprobs': None}, id='run--b4935e61-7034-4978-94e5-122a3e22da4e-0', usage_metadata={'input_tokens': 12, 'output_tokens': 15, 'total_tokens': 27, 'input_token_details': {'audio': 0, 'cache_read': 0}, 'output_token_details': {'audio': 0, 'reasoning': 0}})]\n",
      "[HumanMessage(content='My Name is Leela', additional_kwargs={}, response_metadata={}), AIMessage(content='Nice to meet you, Leela! How can I assist you today?', additional_kwargs={'refusal': None}, response_metadata={'token_usage': {'completion_tokens': 15, 'prompt_tokens': 12, 'total_tokens': 27, 'completion_tokens_details': {'accepted_prediction_tokens': 0, 'audio_tokens': 0, 'reasoning_tokens': 0, 'rejected_prediction_tokens': 0}, 'prompt_tokens_details': {'audio_tokens': 0, 'cached_tokens': 0}}, 'model_name': 'gpt-4o-mini-2024-07-18', 'system_fingerprint': 'fp_51db84afab', 'id': 'chatcmpl-CAJ1nUu7kmtytL5dIDJAlPHkHo04A', 'service_tier': 'default', 'finish_reason': 'stop', 'logprobs': None}, id='run--b4935e61-7034-4978-94e5-122a3e22da4e-0', usage_metadata={'input_tokens': 12, 'output_tokens': 15, 'total_tokens': 27, 'input_token_details': {'audio': 0, 'cache_read': 0}, 'output_token_details': {'audio': 0, 'reasoning': 0}}), HumanMessage(content='what is my name', additional_kwargs={}, response_metadata={}), AIMessage(content='Your name is Leela. How can I assist you further?', additional_kwargs={'refusal': None}, response_metadata={'token_usage': {'completion_tokens': 13, 'prompt_tokens': 39, 'total_tokens': 52, 'completion_tokens_details': {'accepted_prediction_tokens': 0, 'audio_tokens': 0, 'reasoning_tokens': 0, 'rejected_prediction_tokens': 0}, 'prompt_tokens_details': {'audio_tokens': 0, 'cached_tokens': 0}}, 'model_name': 'gpt-4o-mini-2024-07-18', 'system_fingerprint': 'fp_560af6e559', 'id': 'chatcmpl-CAJ1sCzfVKWOZK20fn0Ea8oaLbhQm', 'service_tier': 'default', 'finish_reason': 'stop', 'logprobs': None}, id='run--bd884228-983f-4e35-87a1-99cf2a479624-0', usage_metadata={'input_tokens': 39, 'output_tokens': 13, 'total_tokens': 52, 'input_token_details': {'audio': 0, 'cache_read': 0}, 'output_token_details': {'audio': 0, 'reasoning': 0}})]\n",
      "[HumanMessage(content='My Name is Leela', additional_kwargs={}, response_metadata={}), AIMessage(content='Nice to meet you, Leela! How can I assist you today?', additional_kwargs={'refusal': None}, response_metadata={'token_usage': {'completion_tokens': 15, 'prompt_tokens': 12, 'total_tokens': 27, 'completion_tokens_details': {'accepted_prediction_tokens': 0, 'audio_tokens': 0, 'reasoning_tokens': 0, 'rejected_prediction_tokens': 0}, 'prompt_tokens_details': {'audio_tokens': 0, 'cached_tokens': 0}}, 'model_name': 'gpt-4o-mini-2024-07-18', 'system_fingerprint': 'fp_51db84afab', 'id': 'chatcmpl-CAJ1nUu7kmtytL5dIDJAlPHkHo04A', 'service_tier': 'default', 'finish_reason': 'stop', 'logprobs': None}, id='run--b4935e61-7034-4978-94e5-122a3e22da4e-0', usage_metadata={'input_tokens': 12, 'output_tokens': 15, 'total_tokens': 27, 'input_token_details': {'audio': 0, 'cache_read': 0}, 'output_token_details': {'audio': 0, 'reasoning': 0}}), HumanMessage(content='what is my name', additional_kwargs={}, response_metadata={}), AIMessage(content='Your name is Leela. How can I assist you further?', additional_kwargs={'refusal': None}, response_metadata={'token_usage': {'completion_tokens': 13, 'prompt_tokens': 39, 'total_tokens': 52, 'completion_tokens_details': {'accepted_prediction_tokens': 0, 'audio_tokens': 0, 'reasoning_tokens': 0, 'rejected_prediction_tokens': 0}, 'prompt_tokens_details': {'audio_tokens': 0, 'cached_tokens': 0}}, 'model_name': 'gpt-4o-mini-2024-07-18', 'system_fingerprint': 'fp_560af6e559', 'id': 'chatcmpl-CAJ1sCzfVKWOZK20fn0Ea8oaLbhQm', 'service_tier': 'default', 'finish_reason': 'stop', 'logprobs': None}, id='run--bd884228-983f-4e35-87a1-99cf2a479624-0', usage_metadata={'input_tokens': 39, 'output_tokens': 13, 'total_tokens': 52, 'input_token_details': {'audio': 0, 'cache_read': 0}, 'output_token_details': {'audio': 0, 'reasoning': 0}}), HumanMessage(content='what is 2 * 5', additional_kwargs={}, response_metadata={}), AIMessage(content='2 multiplied by 5 equals 10.', additional_kwargs={'refusal': None}, response_metadata={'token_usage': {'completion_tokens': 9, 'prompt_tokens': 67, 'total_tokens': 76, 'completion_tokens_details': {'accepted_prediction_tokens': 0, 'audio_tokens': 0, 'reasoning_tokens': 0, 'rejected_prediction_tokens': 0}, 'prompt_tokens_details': {'audio_tokens': 0, 'cached_tokens': 0}}, 'model_name': 'gpt-4o-mini-2024-07-18', 'system_fingerprint': 'fp_560af6e559', 'id': 'chatcmpl-CAJ1yn48QRT1m3MeRzWK9ZiSrOicn', 'service_tier': 'default', 'finish_reason': 'stop', 'logprobs': None}, id='run--4df64ab4-cd1c-4539-ad97-78a6864dd412-0', usage_metadata={'input_tokens': 67, 'output_tokens': 9, 'total_tokens': 76, 'input_token_details': {'audio': 0, 'cache_read': 0}, 'output_token_details': {'audio': 0, 'reasoning': 0}})]\n",
      "Keyboard interruption in main thread... closing server.\n"
     ]
    },
    {
     "data": {
      "text/plain": []
     },
     "execution_count": 17,
     "metadata": {},
     "output_type": "execute_result"
    }
   ],
   "source": [
    "import gradio as gr\n",
    "\n",
    "store = {}\n",
    "model = ChatOpenAI(model=\"gpt-4o-mini\")\n",
    "def predict(message, history):\n",
    "    chat_message_history = RunnableWithMessageHistory(model, get_session_history)\n",
    "    config = {\"configurable\": {\"session_id\": \"123\"}}\n",
    "    response = chat_message_history.invoke(\n",
    "        [HumanMessage(content=message)],\n",
    "        config=config\n",
    "    )\n",
    "    \n",
    "    print(chat_message_history.get_session_history(\"123\").messages)\n",
    "    return response.content\n",
    "\n",
    "gr.ChatInterface(predict).launch(debug=True)"
   ]
  },
  {
   "cell_type": "markdown",
   "id": "87f79469",
   "metadata": {},
   "source": [
    "Using PromptTemplate with RunnableWithMessageHistory"
   ]
  },
  {
   "cell_type": "code",
   "execution_count": 22,
   "id": "404556aa",
   "metadata": {},
   "outputs": [
    {
     "data": {
      "text/plain": [
       "ChatPromptTemplate(input_variables=['language', 'my_chat_history', 'myinput'], input_types={'my_chat_history': list[typing.Annotated[typing.Union[typing.Annotated[langchain_core.messages.ai.AIMessage, Tag(tag='ai')], typing.Annotated[langchain_core.messages.human.HumanMessage, Tag(tag='human')], typing.Annotated[langchain_core.messages.chat.ChatMessage, Tag(tag='chat')], typing.Annotated[langchain_core.messages.system.SystemMessage, Tag(tag='system')], typing.Annotated[langchain_core.messages.function.FunctionMessage, Tag(tag='function')], typing.Annotated[langchain_core.messages.tool.ToolMessage, Tag(tag='tool')], typing.Annotated[langchain_core.messages.ai.AIMessageChunk, Tag(tag='AIMessageChunk')], typing.Annotated[langchain_core.messages.human.HumanMessageChunk, Tag(tag='HumanMessageChunk')], typing.Annotated[langchain_core.messages.chat.ChatMessageChunk, Tag(tag='ChatMessageChunk')], typing.Annotated[langchain_core.messages.system.SystemMessageChunk, Tag(tag='SystemMessageChunk')], typing.Annotated[langchain_core.messages.function.FunctionMessageChunk, Tag(tag='FunctionMessageChunk')], typing.Annotated[langchain_core.messages.tool.ToolMessageChunk, Tag(tag='ToolMessageChunk')]], FieldInfo(annotation=NoneType, required=True, discriminator=Discriminator(discriminator=<function _get_type at 0x0000020F08C3BB00>, custom_error_type=None, custom_error_message=None, custom_error_context=None))]]}, partial_variables={}, messages=[SystemMessagePromptTemplate(prompt=PromptTemplate(input_variables=['language'], input_types={}, partial_variables={}, template='You are a helpful assistant. Answer all questions to the best of your ability in {language}'), additional_kwargs={}), MessagesPlaceholder(variable_name='my_chat_history'), HumanMessagePromptTemplate(prompt=PromptTemplate(input_variables=['myinput'], input_types={}, partial_variables={}, template='{myinput}'), additional_kwargs={})])\n",
       "| ChatOpenAI(client=<openai.resources.chat.completions.completions.Completions object at 0x0000020F1FAA2E90>, async_client=<openai.resources.chat.completions.completions.AsyncCompletions object at 0x0000020F1E89DC10>, root_client=<openai.OpenAI object at 0x0000020F1E3ABD10>, root_async_client=<openai.AsyncOpenAI object at 0x0000020F1FAF4510>, model_name='gpt-4o-mini', model_kwargs={}, openai_api_key=SecretStr('**********'))"
      ]
     },
     "execution_count": 22,
     "metadata": {},
     "output_type": "execute_result"
    }
   ],
   "source": [
    "from langchain_core.prompts import ChatPromptTemplate, MessagesPlaceholder\n",
    "\n",
    "prompt = ChatPromptTemplate.from_messages([\n",
    "    (\"system\", \"You are a helpful assistant. Answer all questions to the best of your ability in {language}\"),\n",
    "    MessagesPlaceholder(variable_name=\"my_chat_history\"),\n",
    "    (\"user\", \"{myinput}\")\n",
    "])\n",
    "\n",
    "chain = prompt | model\n",
    "chain"
   ]
  },
  {
   "cell_type": "code",
   "execution_count": 33,
   "id": "06e6a04a",
   "metadata": {},
   "outputs": [
    {
     "data": {
      "text/plain": [
       "AIMessage(content='Adding 2 to the previous result (7) gives you 9.', additional_kwargs={'refusal': None}, response_metadata={'token_usage': {'completion_tokens': 15, 'prompt_tokens': 57, 'total_tokens': 72, 'completion_tokens_details': {'accepted_prediction_tokens': 0, 'audio_tokens': 0, 'reasoning_tokens': 0, 'rejected_prediction_tokens': 0}, 'prompt_tokens_details': {'audio_tokens': 0, 'cached_tokens': 0}}, 'model_name': 'gpt-4o-mini-2024-07-18', 'system_fingerprint': 'fp_560af6e559', 'id': 'chatcmpl-CAJhdD0vCfGzxb8l2l3xtOB43L2aA', 'service_tier': 'default', 'finish_reason': 'stop', 'logprobs': None}, id='run--c5c5c5c8-6dd8-4baa-8d05-ba1b1c0694a0-0', usage_metadata={'input_tokens': 57, 'output_tokens': 15, 'total_tokens': 72, 'input_token_details': {'audio': 0, 'cache_read': 0}, 'output_token_details': {'audio': 0, 'reasoning': 0}})"
      ]
     },
     "execution_count": 33,
     "metadata": {},
     "output_type": "execute_result"
    }
   ],
   "source": [
    "model_with_message_history = RunnableWithMessageHistory(chain, get_session_history, history_messages_key=\"my_chat_history\", input_messages_key=\"myinput\")\n",
    "config = {\"configurable\": {\"session_id\": \"5\"}}\n",
    "\n",
    "content = input(\"Enter your message\")\n",
    "model_with_message_history.invoke(\n",
    "    {\"language\": \"english\", \"myinput\": content},\n",
    "    config=config\n",
    ")\n"
   ]
  },
  {
   "cell_type": "code",
   "execution_count": 26,
   "id": "89d5971c",
   "metadata": {},
   "outputs": [
    {
     "data": {
      "text/plain": [
       "[HumanMessage(content='tell me about trump in 2 bullet points', additional_kwargs={}, response_metadata={}),\n",
       " AIMessage(content='- Donald Trump is a businessman and politician who served as the 45th President of the United States from January 2017 to January 2021. He is known for his unconventional style, use of social media, and policies focused on immigration, tax reform, and deregulation.\\n\\n- Trump\\'s presidency was marked by significant events, including two impeachment trials, a controversial response to the COVID-19 pandemic, and a strong emphasis on an \"America First\" approach in both domestic and foreign policy. He remains a prominent figure in the Republican Party and has continued to influence American politics post-presidency.', additional_kwargs={'refusal': None}, response_metadata={'token_usage': {'completion_tokens': 120, 'prompt_tokens': 37, 'total_tokens': 157, 'completion_tokens_details': {'accepted_prediction_tokens': 0, 'audio_tokens': 0, 'reasoning_tokens': 0, 'rejected_prediction_tokens': 0}, 'prompt_tokens_details': {'audio_tokens': 0, 'cached_tokens': 0}}, 'model_name': 'gpt-4o-mini-2024-07-18', 'system_fingerprint': 'fp_51db84afab', 'id': 'chatcmpl-CAJcExAEwvyqTtweOFLG8ExA40Mmy', 'service_tier': 'default', 'finish_reason': 'stop', 'logprobs': None}, id='run--fc1f7722-7356-40ab-b437-b3ab3a609056-0', usage_metadata={'input_tokens': 37, 'output_tokens': 120, 'total_tokens': 157, 'input_token_details': {'audio': 0, 'cache_read': 0}, 'output_token_details': {'audio': 0, 'reasoning': 0}}),\n",
       " HumanMessage(content='what are his failures in 2 bullet points', additional_kwargs={}, response_metadata={}),\n",
       " AIMessage(content=\"- **Handling of the COVID-19 Pandemic**: Trump's administration faced criticism for its response to the COVID-19 pandemic, including downplaying the virus's severity, inconsistent messaging about masks and social distancing, and delays in implementing testing and public health measures, which many argue contributed to higher case numbers and deaths.\\n\\n- **Polarization and Division**: His presidency exacerbated political and social divisions in the U.S., leading to increased partisanship and civil unrest, including events such as the 2020 protests against racial injustice and the January 6, 2021, Capitol insurrection, which were viewed as a culmination of divisive rhetoric and policies.\", additional_kwargs={'refusal': None}, response_metadata={'token_usage': {'completion_tokens': 132, 'prompt_tokens': 174, 'total_tokens': 306, 'completion_tokens_details': {'accepted_prediction_tokens': 0, 'audio_tokens': 0, 'reasoning_tokens': 0, 'rejected_prediction_tokens': 0}, 'prompt_tokens_details': {'audio_tokens': 0, 'cached_tokens': 0}}, 'model_name': 'gpt-4o-mini-2024-07-18', 'system_fingerprint': 'fp_560af6e559', 'id': 'chatcmpl-CAJdXgUaWU4EjfhtZOMTEZAg4vaiU', 'service_tier': 'default', 'finish_reason': 'stop', 'logprobs': None}, id='run--6fc9b70b-d668-4ef2-9398-c3084497e6c4-0', usage_metadata={'input_tokens': 174, 'output_tokens': 132, 'total_tokens': 306, 'input_token_details': {'audio': 0, 'cache_read': 0}, 'output_token_details': {'audio': 0, 'reasoning': 0}})]"
      ]
     },
     "execution_count": 26,
     "metadata": {},
     "output_type": "execute_result"
    }
   ],
   "source": [
    "model_with_message_history.get_session_history(\"3\").messages"
   ]
  },
  {
   "cell_type": "code",
   "execution_count": null,
   "id": "90b302b7",
   "metadata": {},
   "outputs": [
    {
     "data": {
      "text/plain": [
       "[HumanMessage(content='tell me about his failures in 3 bullet points', additional_kwargs={}, response_metadata={}),\n",
       " AIMessage(content='To provide a more accurate response, could you please specify whose failures you would like to know about?', additional_kwargs={'refusal': None}, response_metadata={'token_usage': {'completion_tokens': 20, 'prompt_tokens': 38, 'total_tokens': 58, 'completion_tokens_details': {'accepted_prediction_tokens': 0, 'audio_tokens': 0, 'reasoning_tokens': 0, 'rejected_prediction_tokens': 0}, 'prompt_tokens_details': {'audio_tokens': 0, 'cached_tokens': 0}}, 'model_name': 'gpt-4o-mini-2024-07-18', 'system_fingerprint': 'fp_560af6e559', 'id': 'chatcmpl-CAJedD3B8kL4mVoY2241y206IMUQ7', 'service_tier': 'default', 'finish_reason': 'stop', 'logprobs': None}, id='run--455e5683-e33c-4ce2-80d4-373b97768c79-0', usage_metadata={'input_tokens': 38, 'output_tokens': 20, 'total_tokens': 58, 'input_token_details': {'audio': 0, 'cache_read': 0}, 'output_token_details': {'audio': 0, 'reasoning': 0}})]"
      ]
     },
     "execution_count": 30,
     "metadata": {},
     "output_type": "execute_result"
    }
   ],
   "source": [
    "\n",
    "model_with_message_history.get_session_history(\"4\").messages"
   ]
  },
  {
   "cell_type": "code",
   "execution_count": 7,
   "id": "939eab16",
   "metadata": {},
   "outputs": [],
   "source": [
    "from langchain_community.chat_message_histories import ChatMessageHistory\n",
    "\n",
    "store = {}\n",
    "\n",
    "def get_session_history_2(user_id: str, conversation_id: str) -> ChatMessageHistory:\n",
    "    if (user_id, conversation_id) not in store:\n",
    "        store[(user_id, conversation_id)] = ChatMessageHistory()\n",
    "    return store[(user_id, conversation_id)]"
   ]
  },
  {
   "cell_type": "code",
   "execution_count": 25,
   "id": "070754d6",
   "metadata": {},
   "outputs": [
    {
     "data": {
      "text/plain": [
       "AIMessage(content='7 multiplied by 3 equals 21.', additional_kwargs={'refusal': None}, response_metadata={'token_usage': {'completion_tokens': 9, 'prompt_tokens': 56, 'total_tokens': 65, 'completion_tokens_details': {'accepted_prediction_tokens': 0, 'audio_tokens': 0, 'reasoning_tokens': 0, 'rejected_prediction_tokens': 0}, 'prompt_tokens_details': {'audio_tokens': 0, 'cached_tokens': 0}}, 'model_name': 'gpt-4o-mini-2024-07-18', 'system_fingerprint': 'fp_d77b305a29', 'id': 'chatcmpl-CAXOkJR5xwaGmnN9oMVq03Re7Jo2x', 'service_tier': 'default', 'finish_reason': 'stop', 'logprobs': None}, id='run--0f50da3c-4418-4fa8-809d-cb1dee588b3a-0', usage_metadata={'input_tokens': 56, 'output_tokens': 9, 'total_tokens': 65, 'input_token_details': {'audio': 0, 'cache_read': 0}, 'output_token_details': {'audio': 0, 'reasoning': 0}})"
      ]
     },
     "execution_count": 25,
     "metadata": {},
     "output_type": "execute_result"
    }
   ],
   "source": [
    "from langchain_core.runnables import RunnableWithMessageHistory, ConfigurableFieldSpec\n",
    "from langchain_openai import ChatOpenAI\n",
    "from langchain_core.prompts import ChatPromptTemplate, MessagesPlaceholder\n",
    "\n",
    "prompt = ChatPromptTemplate.from_messages([\n",
    "    (\"system\", \"You are a helpful assistant. Answer all questions to the best of your ability in {language}\"),\n",
    "    MessagesPlaceholder(variable_name=\"my_chat_history\"),\n",
    "    (\"user\", \"{myinput}\")\n",
    "])\n",
    "\n",
    "model = ChatOpenAI(model=\"gpt-4o-mini\")\n",
    "\n",
    "chain = prompt | model\n",
    "chain\n",
    "\n",
    "model_with_history = RunnableWithMessageHistory(chain, get_session_history_2, \n",
    "                                                history_messages_key=\"my_chat_history\",\n",
    "                                                input_messages_key=\"myinput\",\n",
    "                                                history_factory_config=[\n",
    "                                                    ConfigurableFieldSpec(id=\"user_id\", annotation=str, is_shared=True),\n",
    "                                                    ConfigurableFieldSpec(id=\"conversation_id\", annotation=str, is_shared=False)\n",
    "                                                ])\n",
    "\n",
    "\n",
    "content = input(\"Enter the message\")\n",
    "config = {\"configurable\": {\"user_id\": \"100\", \"conversation_id\": \"2\"}}\n",
    "result = model_with_history.invoke(\n",
    "            {\"language\": \"english\", \"myinput\": content},\n",
    "            config=config\n",
    "        )\n",
    "\n",
    "result"
   ]
  },
  {
   "cell_type": "code",
   "execution_count": 27,
   "id": "9fec5790",
   "metadata": {},
   "outputs": [
    {
     "data": {
      "text/plain": [
       "[HumanMessage(content='My Name is Leela', additional_kwargs={}, response_metadata={}),\n",
       " AIMessage(content='Nice to meet you, Leela! How can I assist you today?', additional_kwargs={'refusal': None}, response_metadata={'token_usage': {'completion_tokens': 15, 'prompt_tokens': 33, 'total_tokens': 48, 'completion_tokens_details': {'accepted_prediction_tokens': 0, 'audio_tokens': 0, 'reasoning_tokens': 0, 'rejected_prediction_tokens': 0}, 'prompt_tokens_details': {'audio_tokens': 0, 'cached_tokens': 0}}, 'model_name': 'gpt-4o-mini-2024-07-18', 'system_fingerprint': 'fp_e665f7564b', 'id': 'chatcmpl-CAXNfaaI7C7SV3fsntKL6oQV2qkCk', 'service_tier': 'default', 'finish_reason': 'stop', 'logprobs': None}, id='run--a0fc0ebe-ef74-4f00-be30-62ed7606eaf3-0', usage_metadata={'input_tokens': 33, 'output_tokens': 15, 'total_tokens': 48, 'input_token_details': {'audio': 0, 'cache_read': 0}, 'output_token_details': {'audio': 0, 'reasoning': 0}}),\n",
       " HumanMessage(content='what is my Name?', additional_kwargs={}, response_metadata={}),\n",
       " AIMessage(content='Your name is Leela. How can I assist you further?', additional_kwargs={'refusal': None}, response_metadata={'token_usage': {'completion_tokens': 13, 'prompt_tokens': 61, 'total_tokens': 74, 'completion_tokens_details': {'accepted_prediction_tokens': 0, 'audio_tokens': 0, 'reasoning_tokens': 0, 'rejected_prediction_tokens': 0}, 'prompt_tokens_details': {'audio_tokens': 0, 'cached_tokens': 0}}, 'model_name': 'gpt-4o-mini-2024-07-18', 'system_fingerprint': 'fp_560af6e559', 'id': 'chatcmpl-CAXNzL1t1dNRmaWYmaBgArpdgzV5Z', 'service_tier': 'default', 'finish_reason': 'stop', 'logprobs': None}, id='run--5f8d6501-ff29-4040-b321-52f7ba8d0c6e-0', usage_metadata={'input_tokens': 61, 'output_tokens': 13, 'total_tokens': 74, 'input_token_details': {'audio': 0, 'cache_read': 0}, 'output_token_details': {'audio': 0, 'reasoning': 0}})]"
      ]
     },
     "execution_count": 27,
     "metadata": {},
     "output_type": "execute_result"
    }
   ],
   "source": [
    "model_with_history.get_session_history(\"100\", \"1\").messages"
   ]
  },
  {
   "cell_type": "code",
   "execution_count": 28,
   "id": "ff7850ef",
   "metadata": {},
   "outputs": [
    {
     "data": {
      "text/plain": [
       "[HumanMessage(content='what is 2 + 5?', additional_kwargs={}, response_metadata={}),\n",
       " AIMessage(content='2 + 5 equals 7.', additional_kwargs={'refusal': None}, response_metadata={'token_usage': {'completion_tokens': 8, 'prompt_tokens': 36, 'total_tokens': 44, 'completion_tokens_details': {'accepted_prediction_tokens': 0, 'audio_tokens': 0, 'reasoning_tokens': 0, 'rejected_prediction_tokens': 0}, 'prompt_tokens_details': {'audio_tokens': 0, 'cached_tokens': 0}}, 'model_name': 'gpt-4o-mini-2024-07-18', 'system_fingerprint': 'fp_560af6e559', 'id': 'chatcmpl-CAXOX64gdoW6MYjf7YUsIogmABCSJ', 'service_tier': 'default', 'finish_reason': 'stop', 'logprobs': None}, id='run--a3ca52f9-de20-4a43-9846-c02e4b008aa9-0', usage_metadata={'input_tokens': 36, 'output_tokens': 8, 'total_tokens': 44, 'input_token_details': {'audio': 0, 'cache_read': 0}, 'output_token_details': {'audio': 0, 'reasoning': 0}}),\n",
       " HumanMessage(content='multiply with 3', additional_kwargs={}, response_metadata={}),\n",
       " AIMessage(content='7 multiplied by 3 equals 21.', additional_kwargs={'refusal': None}, response_metadata={'token_usage': {'completion_tokens': 9, 'prompt_tokens': 56, 'total_tokens': 65, 'completion_tokens_details': {'accepted_prediction_tokens': 0, 'audio_tokens': 0, 'reasoning_tokens': 0, 'rejected_prediction_tokens': 0}, 'prompt_tokens_details': {'audio_tokens': 0, 'cached_tokens': 0}}, 'model_name': 'gpt-4o-mini-2024-07-18', 'system_fingerprint': 'fp_d77b305a29', 'id': 'chatcmpl-CAXOkJR5xwaGmnN9oMVq03Re7Jo2x', 'service_tier': 'default', 'finish_reason': 'stop', 'logprobs': None}, id='run--0f50da3c-4418-4fa8-809d-cb1dee588b3a-0', usage_metadata={'input_tokens': 56, 'output_tokens': 9, 'total_tokens': 65, 'input_token_details': {'audio': 0, 'cache_read': 0}, 'output_token_details': {'audio': 0, 'reasoning': 0}})]"
      ]
     },
     "execution_count": 28,
     "metadata": {},
     "output_type": "execute_result"
    }
   ],
   "source": [
    "model_with_history.get_session_history(\"100\", \"2\").messages"
   ]
  },
  {
   "cell_type": "code",
   "execution_count": 29,
   "id": "bb34c152",
   "metadata": {},
   "outputs": [
    {
     "data": {
      "text/plain": [
       "{('100',\n",
       "  1): InMemoryChatMessageHistory(messages=[HumanMessage(content='My Name is Leela', additional_kwargs={}, response_metadata={}), AIMessage(content='Nice to meet you, Leela! How can I assist you today?', additional_kwargs={'refusal': None}, response_metadata={'token_usage': {'completion_tokens': 15, 'prompt_tokens': 33, 'total_tokens': 48, 'completion_tokens_details': {'accepted_prediction_tokens': 0, 'audio_tokens': 0, 'reasoning_tokens': 0, 'rejected_prediction_tokens': 0}, 'prompt_tokens_details': {'audio_tokens': 0, 'cached_tokens': 0}}, 'model_name': 'gpt-4o-mini-2024-07-18', 'system_fingerprint': 'fp_51db84afab', 'id': 'chatcmpl-CAXKYQcZCQWMNrN4BGIA8B5F3uXNd', 'service_tier': 'default', 'finish_reason': 'stop', 'logprobs': None}, id='run--126b695f-f726-4d46-aff7-00a396b51693-0', usage_metadata={'input_tokens': 33, 'output_tokens': 15, 'total_tokens': 48, 'input_token_details': {'audio': 0, 'cache_read': 0}, 'output_token_details': {'audio': 0, 'reasoning': 0}}), HumanMessage(content='what is 2 + 5', additional_kwargs={}, response_metadata={}), AIMessage(content='2 + 5 equals 7.', additional_kwargs={'refusal': None}, response_metadata={'token_usage': {'completion_tokens': 8, 'prompt_tokens': 63, 'total_tokens': 71, 'completion_tokens_details': {'accepted_prediction_tokens': 0, 'audio_tokens': 0, 'reasoning_tokens': 0, 'rejected_prediction_tokens': 0}, 'prompt_tokens_details': {'audio_tokens': 0, 'cached_tokens': 0}}, 'model_name': 'gpt-4o-mini-2024-07-18', 'system_fingerprint': 'fp_560af6e559', 'id': 'chatcmpl-CAXNMHrLqnLA6YxNkAvHNm94OvPBo', 'service_tier': 'default', 'finish_reason': 'stop', 'logprobs': None}, id='run--033ad14d-81ef-41fb-92d0-6cb5a83624ca-0', usage_metadata={'input_tokens': 63, 'output_tokens': 8, 'total_tokens': 71, 'input_token_details': {'audio': 0, 'cache_read': 0}, 'output_token_details': {'audio': 0, 'reasoning': 0}})]),\n",
       " ('100',\n",
       "  '1'): InMemoryChatMessageHistory(messages=[HumanMessage(content='My Name is Leela', additional_kwargs={}, response_metadata={}), AIMessage(content='Nice to meet you, Leela! How can I assist you today?', additional_kwargs={'refusal': None}, response_metadata={'token_usage': {'completion_tokens': 15, 'prompt_tokens': 33, 'total_tokens': 48, 'completion_tokens_details': {'accepted_prediction_tokens': 0, 'audio_tokens': 0, 'reasoning_tokens': 0, 'rejected_prediction_tokens': 0}, 'prompt_tokens_details': {'audio_tokens': 0, 'cached_tokens': 0}}, 'model_name': 'gpt-4o-mini-2024-07-18', 'system_fingerprint': 'fp_e665f7564b', 'id': 'chatcmpl-CAXNfaaI7C7SV3fsntKL6oQV2qkCk', 'service_tier': 'default', 'finish_reason': 'stop', 'logprobs': None}, id='run--a0fc0ebe-ef74-4f00-be30-62ed7606eaf3-0', usage_metadata={'input_tokens': 33, 'output_tokens': 15, 'total_tokens': 48, 'input_token_details': {'audio': 0, 'cache_read': 0}, 'output_token_details': {'audio': 0, 'reasoning': 0}}), HumanMessage(content='what is my Name?', additional_kwargs={}, response_metadata={}), AIMessage(content='Your name is Leela. How can I assist you further?', additional_kwargs={'refusal': None}, response_metadata={'token_usage': {'completion_tokens': 13, 'prompt_tokens': 61, 'total_tokens': 74, 'completion_tokens_details': {'accepted_prediction_tokens': 0, 'audio_tokens': 0, 'reasoning_tokens': 0, 'rejected_prediction_tokens': 0}, 'prompt_tokens_details': {'audio_tokens': 0, 'cached_tokens': 0}}, 'model_name': 'gpt-4o-mini-2024-07-18', 'system_fingerprint': 'fp_560af6e559', 'id': 'chatcmpl-CAXNzL1t1dNRmaWYmaBgArpdgzV5Z', 'service_tier': 'default', 'finish_reason': 'stop', 'logprobs': None}, id='run--5f8d6501-ff29-4040-b321-52f7ba8d0c6e-0', usage_metadata={'input_tokens': 61, 'output_tokens': 13, 'total_tokens': 74, 'input_token_details': {'audio': 0, 'cache_read': 0}, 'output_token_details': {'audio': 0, 'reasoning': 0}})]),\n",
       " ('100',\n",
       "  '2'): InMemoryChatMessageHistory(messages=[HumanMessage(content='what is 2 + 5?', additional_kwargs={}, response_metadata={}), AIMessage(content='2 + 5 equals 7.', additional_kwargs={'refusal': None}, response_metadata={'token_usage': {'completion_tokens': 8, 'prompt_tokens': 36, 'total_tokens': 44, 'completion_tokens_details': {'accepted_prediction_tokens': 0, 'audio_tokens': 0, 'reasoning_tokens': 0, 'rejected_prediction_tokens': 0}, 'prompt_tokens_details': {'audio_tokens': 0, 'cached_tokens': 0}}, 'model_name': 'gpt-4o-mini-2024-07-18', 'system_fingerprint': 'fp_560af6e559', 'id': 'chatcmpl-CAXOX64gdoW6MYjf7YUsIogmABCSJ', 'service_tier': 'default', 'finish_reason': 'stop', 'logprobs': None}, id='run--a3ca52f9-de20-4a43-9846-c02e4b008aa9-0', usage_metadata={'input_tokens': 36, 'output_tokens': 8, 'total_tokens': 44, 'input_token_details': {'audio': 0, 'cache_read': 0}, 'output_token_details': {'audio': 0, 'reasoning': 0}}), HumanMessage(content='multiply with 3', additional_kwargs={}, response_metadata={}), AIMessage(content='7 multiplied by 3 equals 21.', additional_kwargs={'refusal': None}, response_metadata={'token_usage': {'completion_tokens': 9, 'prompt_tokens': 56, 'total_tokens': 65, 'completion_tokens_details': {'accepted_prediction_tokens': 0, 'audio_tokens': 0, 'reasoning_tokens': 0, 'rejected_prediction_tokens': 0}, 'prompt_tokens_details': {'audio_tokens': 0, 'cached_tokens': 0}}, 'model_name': 'gpt-4o-mini-2024-07-18', 'system_fingerprint': 'fp_d77b305a29', 'id': 'chatcmpl-CAXOkJR5xwaGmnN9oMVq03Re7Jo2x', 'service_tier': 'default', 'finish_reason': 'stop', 'logprobs': None}, id='run--0f50da3c-4418-4fa8-809d-cb1dee588b3a-0', usage_metadata={'input_tokens': 56, 'output_tokens': 9, 'total_tokens': 65, 'input_token_details': {'audio': 0, 'cache_read': 0}, 'output_token_details': {'audio': 0, 'reasoning': 0}})])}"
      ]
     },
     "execution_count": 29,
     "metadata": {},
     "output_type": "execute_result"
    }
   ],
   "source": [
    "store"
   ]
  },
  {
   "cell_type": "code",
   "execution_count": null,
   "id": "5d6cf283",
   "metadata": {},
   "outputs": [],
   "source": []
  }
 ],
 "metadata": {
  "kernelspec": {
   "display_name": ".venv",
   "language": "python",
   "name": "python3"
  },
  "language_info": {
   "codemirror_mode": {
    "name": "ipython",
    "version": 3
   },
   "file_extension": ".py",
   "mimetype": "text/x-python",
   "name": "python",
   "nbconvert_exporter": "python",
   "pygments_lexer": "ipython3",
   "version": "3.11.7"
  }
 },
 "nbformat": 4,
 "nbformat_minor": 5
}
