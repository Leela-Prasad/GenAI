{
 "cells": [
  {
   "cell_type": "code",
   "execution_count": 1,
   "id": "6a9f4175",
   "metadata": {},
   "outputs": [
    {
     "data": {
      "text/plain": [
       "True"
      ]
     },
     "execution_count": 1,
     "metadata": {},
     "output_type": "execute_result"
    }
   ],
   "source": [
    "from dotenv import load_dotenv\n",
    "\n",
    "load_dotenv()"
   ]
  },
  {
   "cell_type": "code",
   "execution_count": null,
   "id": "93eebbd0",
   "metadata": {},
   "outputs": [],
   "source": [
    "pip install langchain-experimental"
   ]
  },
  {
   "cell_type": "code",
   "execution_count": 5,
   "id": "6919c998",
   "metadata": {},
   "outputs": [],
   "source": [
    "from langchain_experimental.tools.python.tool import PythonREPLTool\n",
    "\n",
    "tools = [PythonREPLTool()]"
   ]
  },
  {
   "cell_type": "code",
   "execution_count": 6,
   "id": "8f830c43",
   "metadata": {},
   "outputs": [
    {
     "data": {
      "text/plain": [
       "PromptTemplate(input_variables=['agent_scratchpad', 'input', 'tool_names', 'tools'], input_types={}, partial_variables={}, metadata={'lc_hub_owner': 'hwchase17', 'lc_hub_repo': 'react', 'lc_hub_commit_hash': 'd15fe3c426f1c4b3f37c9198853e4a86e20c425ca7f4752ec0c9b0e97ca7ea4d'}, template='Answer the following questions as best you can. You have access to the following tools:\\n\\n{tools}\\n\\nUse the following format:\\n\\nQuestion: the input question you must answer\\nThought: you should always think about what to do\\nAction: the action to take, should be one of [{tool_names}]\\nAction Input: the input to the action\\nObservation: the result of the action\\n... (this Thought/Action/Action Input/Observation can repeat N times)\\nThought: I now know the final answer\\nFinal Answer: the final answer to the original input question\\n\\nBegin!\\n\\nQuestion: {input}\\nThought:{agent_scratchpad}')"
      ]
     },
     "execution_count": 6,
     "metadata": {},
     "output_type": "execute_result"
    }
   ],
   "source": [
    "from langsmith import Client\n",
    "client = Client()\n",
    "prompt = client.pull_prompt(\"hwchase17/react\", include_model=True)\n",
    "\n",
    "prompt"
   ]
  },
  {
   "cell_type": "code",
   "execution_count": null,
   "id": "f10f451b",
   "metadata": {},
   "outputs": [],
   "source": [
    "pip install qrcode"
   ]
  },
  {
   "cell_type": "code",
   "execution_count": 9,
   "id": "75a5c228",
   "metadata": {},
   "outputs": [
    {
     "name": "stdout",
     "output_type": "stream",
     "text": [
      "\n",
      "\n",
      "\u001b[1m> Entering new AgentExecutor chain...\u001b[0m\n"
     ]
    },
    {
     "name": "stderr",
     "output_type": "stream",
     "text": [
      "Python REPL can execute arbitrary code. Use with caution.\n"
     ]
    },
    {
     "name": "stdout",
     "output_type": "stream",
     "text": [
      "\u001b[32;1m\u001b[1;3mTo generate and save two QR codes that point to \"https://www.youtube.com,\" I will use the `qrcode` package in Python. I will create two QR code images and save them in the current working directory.\n",
      "\n",
      "Action: Python_REPL  \n",
      "Action Input: \n",
      "```python\n",
      "import qrcode\n",
      "\n",
      "# Create a QR code for the URL\n",
      "url = \"https://www.youtube.com\"\n",
      "qr1 = qrcode.make(url)\n",
      "qr2 = qrcode.make(url)\n",
      "\n",
      "# Save the QR codes to the current working directory\n",
      "qr1.save(\"youtube_qr1.png\")\n",
      "qr2.save(\"youtube_qr2.png\")\n",
      "```  \u001b[0m\u001b[36;1m\u001b[1;3m\u001b[0m\u001b[32;1m\u001b[1;3mI have successfully generated and saved two QR codes that point to \"https://www.youtube.com\" in the current working directory. The files are named \"youtube_qr1.png\" and \"youtube_qr2.png.\"\n",
      "\n",
      "Final Answer: Two QR code images have been generated and saved as \"youtube_qr1.png\" and \"youtube_qr2.png\" in the current working directory.\u001b[0m\n",
      "\n",
      "\u001b[1m> Finished chain.\u001b[0m\n"
     ]
    },
    {
     "data": {
      "text/plain": [
       "{'input': 'Generate and Save in current working directory 2 QR Codes that point\\n                to \"https://www.youtube.com\", you have qrcode package installed already\\n    ',\n",
       " 'output': 'Two QR code images have been generated and saved as \"youtube_qr1.png\" and \"youtube_qr2.png\" in the current working directory.'}"
      ]
     },
     "execution_count": 9,
     "metadata": {},
     "output_type": "execute_result"
    }
   ],
   "source": [
    "from langchain_openai import ChatOpenAI\n",
    "from langchain.agents import create_react_agent, AgentExecutor\n",
    "\n",
    "llm = ChatOpenAI(model=\"gpt-4o-mini\")\n",
    "\n",
    "agent = create_react_agent(llm=llm, prompt=prompt, tools=tools)\n",
    "\n",
    "agent_executor = AgentExecutor(agent=agent, tools=tools, verbose=True)\n",
    "\n",
    "agent_executor.invoke({\n",
    "    \"input\": \"\"\"Generate and Save in current working directory 2 QR Codes that point\n",
    "                to \"https://www.youtube.com\", you have qrcode package installed already\n",
    "    \"\"\"\n",
    "})\n"
   ]
  },
  {
   "cell_type": "code",
   "execution_count": null,
   "id": "4e07b9c0",
   "metadata": {},
   "outputs": [],
   "source": []
  }
 ],
 "metadata": {
  "kernelspec": {
   "display_name": ".venv",
   "language": "python",
   "name": "python3"
  },
  "language_info": {
   "codemirror_mode": {
    "name": "ipython",
    "version": 3
   },
   "file_extension": ".py",
   "mimetype": "text/x-python",
   "name": "python",
   "nbconvert_exporter": "python",
   "pygments_lexer": "ipython3",
   "version": "3.11.7"
  }
 },
 "nbformat": 4,
 "nbformat_minor": 5
}
