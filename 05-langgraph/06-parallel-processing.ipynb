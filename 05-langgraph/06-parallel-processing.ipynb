{
 "cells": [
  {
   "cell_type": "code",
   "execution_count": 1,
   "id": "20532b56",
   "metadata": {},
   "outputs": [
    {
     "data": {
      "text/plain": [
       "True"
      ]
     },
     "execution_count": 1,
     "metadata": {},
     "output_type": "execute_result"
    }
   ],
   "source": [
    "from dotenv import load_dotenv\n",
    "load_dotenv()"
   ]
  },
  {
   "cell_type": "code",
   "execution_count": 2,
   "id": "728b722b",
   "metadata": {},
   "outputs": [],
   "source": [
    "from langchain_openai import ChatOpenAI\n",
    "llm = ChatOpenAI(model=\"gpt-4o-mini\")"
   ]
  },
  {
   "cell_type": "code",
   "execution_count": 7,
   "id": "9d5d9c29",
   "metadata": {},
   "outputs": [],
   "source": [
    "from typing import TypedDict, Annotated\n",
    "from operator import add\n",
    "\n",
    "class State(TypedDict):\n",
    "    topic: str\n",
    "    subjects: list\n",
    "    jokes: Annotated[list, add]\n",
    "    best_selected_joke: str\n",
    "    \n",
    "class JokeState(TypedDict):\n",
    "    subject: str"
   ]
  },
  {
   "cell_type": "code",
   "execution_count": 4,
   "id": "738e5e4c",
   "metadata": {},
   "outputs": [],
   "source": [
    "from pydantic import BaseModel\n",
    "\n",
    "class Subject(BaseModel):\n",
    "    subjects: list[str]"
   ]
  },
  {
   "cell_type": "code",
   "execution_count": null,
   "id": "7fabb76a",
   "metadata": {},
   "outputs": [],
   "source": [
    "prompt_template = \"\"\"Generate a comma separated list between 2 and 5 examples related to {topic}\"\"\"\n",
    "\n",
    "def generate_subjects(state: State) -> State:\n",
    "    prompt = prompt_template.format(topic=state[\"topic\"])\n",
    "    response = llm.with_structured_output(Subject).invoke(prompt)\n",
    "    \n",
    "    print(\"Response :: \", response)\n",
    "    return {\"subjects\": response.subjects}\n"
   ]
  },
  {
   "cell_type": "code",
   "execution_count": 6,
   "id": "81bf0a00",
   "metadata": {},
   "outputs": [
    {
     "name": "stdout",
     "output_type": "stream",
     "text": [
      "Response ::  subjects=['Lion', 'Elephant', 'Dolphin', 'Penguin', 'Kangaroo']\n"
     ]
    },
    {
     "data": {
      "text/plain": [
       "{'subjects': ['Lion', 'Elephant', 'Dolphin', 'Penguin', 'Kangaroo']}"
      ]
     },
     "execution_count": 6,
     "metadata": {},
     "output_type": "execute_result"
    }
   ],
   "source": [
    "generate_subjects({\"topic\": \"Animal\"})"
   ]
  },
  {
   "cell_type": "code",
   "execution_count": 9,
   "id": "e20e0f8e",
   "metadata": {},
   "outputs": [],
   "source": [
    "import threading\n",
    "\n",
    "def generate_joke(state: JokeState) -> State:\n",
    "    thread_name = threading.current_thread().name\n",
    "    print(f\"Thread Name: {thread_name}... Inside generate_joke\")\n",
    "    \n",
    "    prompt = \"\"\"Generate a Joke about {subject}\"\"\".format(subject=state[\"subject\"])\n",
    "    response = llm.invoke(prompt)\n",
    "    \n",
    "    return {\"jokes\": [response.content]}"
   ]
  },
  {
   "cell_type": "code",
   "execution_count": 10,
   "id": "ccd5db62",
   "metadata": {},
   "outputs": [
    {
     "name": "stdout",
     "output_type": "stream",
     "text": [
      "Thread Name: MainThread... Inside generate_joke\n",
      "{'jokes': ['Why did the lion eat the tightrope walker?\\n\\nBecause he wanted a well-balanced meal!']}\n",
      "Thread Name: MainThread... Inside generate_joke\n",
      "{'jokes': ['Why did the elephant bring a suitcase to the party?\\n\\nBecause it wanted to pack its trunk! 🐘🎉']}\n",
      "Thread Name: MainThread... Inside generate_joke\n",
      "{'jokes': ['Why did the dolphin bring a towel to the party?\\n\\nBecause he wanted to make a splash on the dance floor!']}\n",
      "Thread Name: MainThread... Inside generate_joke\n",
      "{'jokes': ['Why don’t penguins like talking to strangers at parties?\\n\\nBecause they find it hard to break the ice! ']}\n",
      "Thread Name: MainThread... Inside generate_joke\n",
      "{'jokes': ['Why did the kangaroo get kicked out of the party?\\n\\nBecause he kept hopping around and stealing the spotlight!']}\n"
     ]
    }
   ],
   "source": [
    "subjects = ['Lion', 'Elephant', 'Dolphin', 'Penguin', 'Kangaroo']\n",
    "for subject in subjects:\n",
    "    print(generate_joke({\"subject\": subject}))"
   ]
  },
  {
   "cell_type": "code",
   "execution_count": 22,
   "id": "490124f3",
   "metadata": {},
   "outputs": [],
   "source": [
    "def best_joke(state: State) -> State:\n",
    "    thread_name = threading.current_thread().name\n",
    "    print(f\"Thread Name: {thread_name}... Inside best_joke\")\n",
    "    \n",
    "    template = \"\"\"Below are a bunch of jokes about {topic}.\n",
    "                Select the best one \n",
    "                Jokes: {jokes}\n",
    "            \"\"\"\n",
    "    prompt = template.format(topic=state[\"topic\"], jokes=state[\"jokes\"])\n",
    "    response = llm.invoke(prompt)\n",
    "    \n",
    "    return {\"best_selected_joke\": response.content}"
   ]
  },
  {
   "cell_type": "code",
   "execution_count": 12,
   "id": "4c139e8e",
   "metadata": {},
   "outputs": [
    {
     "name": "stdout",
     "output_type": "stream",
     "text": [
      "Thread Name: MainThread... Inside best_joke\n",
      "{'best_selected_joke': \"The best joke is subjective, but one of the standout options is:\\n\\n**'Why don’t penguins like talking to strangers at parties?\\\\n\\\\nBecause they find it hard to break the ice!'**\\n\\nThis joke is clever and has a nice pun. Let's assign it an ID of 3 for selection. \\n\\nSo, the ID of the best one is **3**.\"}\n"
     ]
    }
   ],
   "source": [
    "jokes = [\"Why did the lion eat the tightrope walker?\\n\\nBecause he wanted a well-balanced meal!\",\n",
    "         \"Why did the elephant bring a suitcase to the party?\\n\\nBecause it wanted to pack its trunk! 🐘🎉\",\n",
    "         \"Why did the dolphin bring a towel to the party?\\n\\nBecause he wanted to make a splash on the dance floor!\",\n",
    "         \"Why don’t penguins like talking to strangers at parties?\\n\\nBecause they find it hard to break the ice!\",\n",
    "         \"Why did the kangaroo get kicked out of the party?\\n\\nBecause he kept hopping around and stealing the spotlight!\"]\n",
    "\n",
    "print(best_joke({\"topic\": \"Animal\", \"jokes\": jokes}))"
   ]
  },
  {
   "cell_type": "code",
   "execution_count": 14,
   "id": "7edbe7c6",
   "metadata": {},
   "outputs": [],
   "source": [
    "from langgraph.types import Send\n",
    "\n",
    "def continue_to_jokes(state: State):\n",
    "    sends = [Send(\"generate_joke\", {\"subject\": subject}) for subject in subjects]\n",
    "    return sends\n"
   ]
  },
  {
   "cell_type": "code",
   "execution_count": 23,
   "id": "ec12a08d",
   "metadata": {},
   "outputs": [
    {
     "data": {
      "image/png": "[encoded data removed]",
      "text/plain": [
       "<IPython.core.display.Image object>"
      ]
     },
     "execution_count": 23,
     "metadata": {},
     "output_type": "execute_result"
    }
   ],
   "source": [
    "from langgraph.graph import StateGraph, START, END\n",
    "from IPython.display import Image\n",
    "\n",
    "flow = StateGraph(state_schema=State)\n",
    "\n",
    "flow.add_node(\"generate_subjects\", generate_subjects)\n",
    "flow.add_node(\"generate_joke\", generate_joke)\n",
    "flow.add_node(\"best_joke\", best_joke)\n",
    "\n",
    "flow.add_edge(START, \"generate_subjects\")\n",
    "flow.add_conditional_edges(\"generate_subjects\", continue_to_jokes, [\"generate_joke\"])\n",
    "flow.add_edge(\"generate_joke\", \"best_joke\")\n",
    "flow.add_edge(\"best_joke\", END)\n",
    "\n",
    "graph = flow.compile()\n",
    "Image(graph.get_graph().draw_mermaid_png())"
   ]
  },
  {
   "cell_type": "code",
   "execution_count": 24,
   "id": "7c107ff3",
   "metadata": {},
   "outputs": [
    {
     "name": "stdout",
     "output_type": "stream",
     "text": [
      "Response ::  subjects=['Lions', 'Elephants', 'Dolphins', 'Giraffes', 'Polar Bears']\n",
      "Thread Name: ThreadPoolExecutor-1_0... Inside generate_joke\n",
      "Thread Name: ThreadPoolExecutor-1_1... Inside generate_joke\n",
      "Thread Name: ThreadPoolExecutor-1_2... Inside generate_joke\n",
      "Thread Name: ThreadPoolExecutor-1_3... Inside generate_joke\n",
      "Thread Name: ThreadPoolExecutor-1_4... Inside generate_joke\n",
      "Thread Name: MainThread... Inside best_joke\n",
      "{'topic': 'Animals', 'subjects': ['Lions', 'Elephants', 'Dolphins', 'Giraffes', 'Polar Bears'], 'jokes': ['Why don’t lions ever use smartphones?\\n\\nBecause they always get caught in the “roar” of the moment! 🦁📱', \"Why do elephants never use computers?\\n\\nBecause they're afraid of the mouse! 🐘🐭\", 'Why did the dolphin bring a towel to the party? \\n\\nBecause he wanted to make a splash!', \"Why don't penguins like talking to strangers at parties?\\n\\nBecause they find it hard to break the ice! 🐧😄\", 'Why don’t kangaroos make good secret agents?\\n\\nBecause they always jump to conclusions! 🦘'], 'best_selected_joke': 'It\\'s a tough choice, but the best joke among the options is:\\n\\n\"Why don\\'t penguins like talking to strangers at parties?\\\\n\\\\nBecause they find it hard to break the ice! 🐧😄\"\\n\\nThis joke has a clever play on words and a relatable theme that makes it particularly enjoyable!'}\n"
     ]
    }
   ],
   "source": [
    "response = graph.invoke({\"topic\": \"Animals\"})\n",
    "print(response)"
   ]
  },
  {
   "cell_type": "code",
   "execution_count": null,
   "id": "8f61be06",
   "metadata": {},
   "outputs": [],
   "source": []
  }
 ],
 "metadata": {
  "kernelspec": {
   "display_name": ".venv",
   "language": "python",
   "name": "python3"
  },
  "language_info": {
   "codemirror_mode": {
    "name": "ipython",
    "version": 3
   },
   "file_extension": ".py",
   "mimetype": "text/x-python",
   "name": "python",
   "nbconvert_exporter": "python",
   "pygments_lexer": "ipython3",
   "version": "3.11.7"
  }
 },
 "nbformat": 4,
 "nbformat_minor": 5
}
