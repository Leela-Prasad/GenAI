{
 "cells": [
  {
   "cell_type": "code",
   "execution_count": 18,
   "id": "1d6280aa",
   "metadata": {},
   "outputs": [
    {
     "data": {
      "text/plain": [
       "True"
      ]
     },
     "execution_count": 18,
     "metadata": {},
     "output_type": "execute_result"
    }
   ],
   "source": [
    "from dotenv import load_dotenv\n",
    "load_dotenv()"
   ]
  },
  {
   "cell_type": "code",
   "execution_count": 1,
   "id": "759cc8ce",
   "metadata": {},
   "outputs": [
    {
     "data": {
      "text/plain": [
       "[AIMessage(content='Hello! How can I assist you?', additional_kwargs={}, response_metadata={}, name='Model', id='1'),\n",
       " HumanMessage(content='I am looking for information on marine biology', additional_kwargs={}, response_metadata={}, name='Lance', id='2'),\n",
       " HumanMessage(content='I am looking information on whales, specifically', additional_kwargs={}, response_metadata={}, name='Lance', id='2')]"
      ]
     },
     "execution_count": 1,
     "metadata": {},
     "output_type": "execute_result"
    }
   ],
   "source": [
    "from operator import add\n",
    "from langchain_core.messages import HumanMessage, AIMessage\n",
    "\n",
    "initial_messages = [\n",
    "    AIMessage(content=\"Hello! How can I assist you?\", name=\"Model\", id=\"1\"),\n",
    "    HumanMessage(content=\"I am looking for information on marine biology\", name=\"Lance\", id=\"2\")\n",
    "]\n",
    "\n",
    "new_message = HumanMessage(content=\"I am looking information on whales, specifically\", name=\"Lance\", id=\"2\")\n",
    "\n",
    "add(initial_messages, [new_message])"
   ]
  },
  {
   "cell_type": "code",
   "execution_count": 2,
   "id": "e64a67c1",
   "metadata": {},
   "outputs": [
    {
     "data": {
      "text/plain": [
       "[AIMessage(content='Hello! How can I assist you?', additional_kwargs={}, response_metadata={}, name='Model', id='1'),\n",
       " HumanMessage(content='I am looking information on whales, specifically', additional_kwargs={}, response_metadata={}, name='Lance', id='2')]"
      ]
     },
     "execution_count": 2,
     "metadata": {},
     "output_type": "execute_result"
    }
   ],
   "source": [
    "from langchain_core.messages import HumanMessage, AIMessage\n",
    "from langgraph.graph.message import add_messages\n",
    "\n",
    "initial_messages = [\n",
    "    AIMessage(content=\"Hello! How can I assist you?\", name=\"Model\", id=\"1\"),\n",
    "    HumanMessage(content=\"I am looking for information on marine biology\", name=\"Lance\", id=\"2\")\n",
    "]\n",
    "\n",
    "new_message = HumanMessage(content=\"I am looking information on whales, specifically\", name=\"Lance\", id=\"2\")\n",
    "\n",
    "add_messages(initial_messages, [new_message])"
   ]
  },
  {
   "cell_type": "code",
   "execution_count": 3,
   "id": "13fc11e0",
   "metadata": {},
   "outputs": [
    {
     "data": {
      "text/plain": [
       "[AIMessage(content='Hello! How can I assist you?', additional_kwargs={}, response_metadata={}, name='Model', id='38006d2b-3cb9-4322-8ed5-ccd07df2e86b'),\n",
       " HumanMessage(content='I am looking for information on marine biology', additional_kwargs={}, response_metadata={}, name='Lance', id='c42290c7-7a71-481b-a2d9-61aea896432f'),\n",
       " HumanMessage(content='I am looking information on whales, specifically', additional_kwargs={}, response_metadata={}, name='Lance', id='3c1cd0e3-f815-4682-8d50-0b2d8e165bb0')]"
      ]
     },
     "execution_count": 3,
     "metadata": {},
     "output_type": "execute_result"
    }
   ],
   "source": [
    "from langchain_core.messages import HumanMessage, AIMessage\n",
    "from langgraph.graph.message import add_messages\n",
    "\n",
    "initial_messages = [\n",
    "    AIMessage(content=\"Hello! How can I assist you?\", name=\"Model\"),\n",
    "    HumanMessage(content=\"I am looking for information on marine biology\", name=\"Lance\")\n",
    "]\n",
    "\n",
    "new_message = HumanMessage(content=\"I am looking information on whales, specifically\", name=\"Lance\")\n",
    "\n",
    "add_messages(initial_messages, [new_message])"
   ]
  },
  {
   "cell_type": "code",
   "execution_count": 7,
   "id": "45209c2e",
   "metadata": {},
   "outputs": [
    {
     "data": {
      "text/plain": [
       "[AIMessage(content='Message1', additional_kwargs={}, response_metadata={}, name='bot', id='1'),\n",
       " HumanMessage(content='Message2', additional_kwargs={}, response_metadata={}, name='user', id='2'),\n",
       " AIMessage(content='Message3', additional_kwargs={}, response_metadata={}, name='bot', id='3'),\n",
       " HumanMessage(content='Message4', additional_kwargs={}, response_metadata={}, name='user', id='4')]"
      ]
     },
     "execution_count": 7,
     "metadata": {},
     "output_type": "execute_result"
    }
   ],
   "source": [
    "messages = [\n",
    "    AIMessage(\"Message1\", name=\"bot\", id=\"1\"),\n",
    "    HumanMessage(\"Message2\", name=\"user\", id=\"2\"),\n",
    "    AIMessage(\"Message3\", name=\"bot\", id=\"3\"),\n",
    "    HumanMessage(\"Message4\", name=\"user\", id=\"4\")\n",
    "]\n",
    "\n",
    "messages"
   ]
  },
  {
   "cell_type": "code",
   "execution_count": 9,
   "id": "e35b60dc",
   "metadata": {},
   "outputs": [
    {
     "data": {
      "text/plain": [
       "[RemoveMessage(content='', additional_kwargs={}, response_metadata={}, id='1'),\n",
       " RemoveMessage(content='', additional_kwargs={}, response_metadata={}, id='2')]"
      ]
     },
     "execution_count": 9,
     "metadata": {},
     "output_type": "execute_result"
    }
   ],
   "source": [
    "from langchain_core.messages import RemoveMessage\n",
    "\n",
    "deleted_messages = [RemoveMessage(m.id) for m in messages[:-2]]\n",
    "deleted_messages"
   ]
  },
  {
   "cell_type": "code",
   "execution_count": 10,
   "id": "b535d329",
   "metadata": {},
   "outputs": [
    {
     "data": {
      "text/plain": [
       "[AIMessage(content='Message3', additional_kwargs={}, response_metadata={}, name='bot', id='3'),\n",
       " HumanMessage(content='Message4', additional_kwargs={}, response_metadata={}, name='user', id='4')]"
      ]
     },
     "execution_count": 10,
     "metadata": {},
     "output_type": "execute_result"
    }
   ],
   "source": [
    "add_messages(messages, deleted_messages)"
   ]
  },
  {
   "cell_type": "code",
   "execution_count": 1,
   "id": "511c08cb",
   "metadata": {},
   "outputs": [],
   "source": [
    "from langchain.agents import tool\n",
    "\n",
    "@tool\n",
    "def multiply(a: int, b: int) -> int:\n",
    "    \"\"\"Multiply a a nd b\n",
    "    \n",
    "    Args: \n",
    "        a: first int\n",
    "        b: second int\n",
    "    \"\"\"\n",
    "    \n",
    "    return a * b\n",
    "\n",
    "@tool\n",
    "def add(a: int, b: int) -> int:\n",
    "    \"\"\"Add a a nd b\n",
    "    \n",
    "    Args: \n",
    "        a: first int\n",
    "        b: second int\n",
    "    \"\"\"\n",
    "    \n",
    "    return a + b\n",
    "\n",
    "@tool\n",
    "def divide(a: int, b: int) -> float:\n",
    "    \"\"\"Divide a a nd b\n",
    "    \n",
    "    Args: \n",
    "        a: first int\n",
    "        b: second int\n",
    "    \"\"\"\n",
    "    "
   ]
  },
  {
   "cell_type": "code",
   "execution_count": 2,
   "id": "22862431",
   "metadata": {},
   "outputs": [],
   "source": [
    "from langchain_community.tools.openweathermap import OpenWeatherMapQueryRun\n",
    "from langchain_openai import ChatOpenAI\n",
    "\n",
    "tools = [OpenWeatherMapQueryRun(), add, multiply, divide]\n",
    "llm = ChatOpenAI(model=\"gpt-4o-mini\")\n",
    "model = llm.bind_tools(tools)\n"
   ]
  },
  {
   "cell_type": "code",
   "execution_count": 3,
   "id": "0bb453dd",
   "metadata": {},
   "outputs": [],
   "source": [
    "def function_1(state):\n",
    "    messages = state[\"messages\"]\n",
    "    response = model.invoke(messages)\n",
    "    return {\"messages\": [response]}"
   ]
  },
  {
   "cell_type": "code",
   "execution_count": 23,
   "id": "adb697a4",
   "metadata": {},
   "outputs": [
    {
     "data": {
      "text/plain": [
       "{'messages': [AIMessage(content='', additional_kwargs={'tool_calls': [{'id': 'call_VNNdVzRz1FMa0yytKbjdwtDd', 'function': {'arguments': '{\"location\":\"Chennai,IN\"}', 'name': 'open_weather_map'}, 'type': 'function'}], 'refusal': None}, response_metadata={'token_usage': {'completion_tokens': 18, 'prompt_tokens': 190, 'total_tokens': 208, 'completion_tokens_details': {'accepted_prediction_tokens': 0, 'audio_tokens': 0, 'reasoning_tokens': 0, 'rejected_prediction_tokens': 0}, 'prompt_tokens_details': {'audio_tokens': 0, 'cached_tokens': 0}}, 'model_name': 'gpt-4o-mini-2024-07-18', 'system_fingerprint': 'fp_560af6e559', 'id': 'chatcmpl-CPA839jJLr2HlueMZNq8IXQrtfryj', 'service_tier': 'default', 'finish_reason': 'tool_calls', 'logprobs': None}, id='run--92fae489-3cac-44a9-a2b0-78db3822d133-0', tool_calls=[{'name': 'open_weather_map', 'args': {'location': 'Chennai,IN'}, 'id': 'call_VNNdVzRz1FMa0yytKbjdwtDd', 'type': 'tool_call'}], usage_metadata={'input_tokens': 190, 'output_tokens': 18, 'total_tokens': 208, 'input_token_details': {'audio': 0, 'cache_read': 0}, 'output_token_details': {'audio': 0, 'reasoning': 0}})]}"
      ]
     },
     "execution_count": 23,
     "metadata": {},
     "output_type": "execute_result"
    }
   ],
   "source": [
    "inputs = {\"messages\": [HumanMessage(\"what is temparature in chennai\")]}\n",
    "function_1(inputs)"
   ]
  },
  {
   "cell_type": "code",
   "execution_count": 24,
   "id": "63a4e182",
   "metadata": {},
   "outputs": [
    {
     "data": {
      "text/plain": [
       "{'messages': [AIMessage(content='Narendra Modi is the Prime Minister of India, known for his leadership since 2014, his role in implementing economic reforms, and a focus on nationalism and development.', additional_kwargs={'refusal': None}, response_metadata={'token_usage': {'completion_tokens': 35, 'prompt_tokens': 189, 'total_tokens': 224, 'completion_tokens_details': {'accepted_prediction_tokens': 0, 'audio_tokens': 0, 'reasoning_tokens': 0, 'rejected_prediction_tokens': 0}, 'prompt_tokens_details': {'audio_tokens': 0, 'cached_tokens': 0}}, 'model_name': 'gpt-4o-mini-2024-07-18', 'system_fingerprint': 'fp_560af6e559', 'id': 'chatcmpl-CPA8yPH8U5Me2mh8K9pucBEGnQW0V', 'service_tier': 'default', 'finish_reason': 'stop', 'logprobs': None}, id='run--231583f7-1a33-46e6-a13c-05057266287d-0', usage_metadata={'input_tokens': 189, 'output_tokens': 35, 'total_tokens': 224, 'input_token_details': {'audio': 0, 'cache_read': 0}, 'output_token_details': {'audio': 0, 'reasoning': 0}})]}"
      ]
     },
     "execution_count": 24,
     "metadata": {},
     "output_type": "execute_result"
    }
   ],
   "source": [
    "inputs = {\"messages\": [HumanMessage(\"tell me about modi in one sentence\")]}\n",
    "function_1(inputs)"
   ]
  },
  {
   "cell_type": "code",
   "execution_count": 4,
   "id": "9e13988f",
   "metadata": {},
   "outputs": [],
   "source": [
    "def where_to_go(state):\n",
    "    message = state[\"messages\"][-1]\n",
    "    if \"tool_calls\" in message.additional_kwargs:\n",
    "        return \"continue\"\n",
    "    else:\n",
    "        return \"end\"\n",
    "    "
   ]
  },
  {
   "cell_type": "code",
   "execution_count": 5,
   "id": "8501ba02",
   "metadata": {},
   "outputs": [],
   "source": [
    "from typing import TypedDict, Annotated\n",
    "from langgraph.graph import add_messages\n",
    "\n",
    "class AgentState(TypedDict):\n",
    "    messages: Annotated[list, add_messages]"
   ]
  },
  {
   "cell_type": "code",
   "execution_count": 34,
   "id": "060e0555",
   "metadata": {},
   "outputs": [
    {
     "data": {
      "image/png": "[encoded data removed]",
      "text/plain": [
       "<IPython.core.display.Image object>"
      ]
     },
     "execution_count": 34,
     "metadata": {},
     "output_type": "execute_result"
    }
   ],
   "source": [
    "from langgraph.graph import StateGraph, END\n",
    "from langgraph.prebuilt import ToolNode\n",
    "from langgraph.types import RetryPolicy\n",
    "from IPython.display import Image\n",
    "\n",
    "workflow = StateGraph(state_schema=AgentState)\n",
    "workflow.add_node(\"agent\", function_1)\n",
    "workflow.add_node(\"tools\", ToolNode(tools), retry_policy=RetryPolicy(max_attempts=5))\n",
    "\n",
    "workflow.add_conditional_edges(\"agent\", \n",
    "                               where_to_go, {\n",
    "                                    \"continue\": \"tools\",\n",
    "                                    \"end\": END\n",
    "                                })\n",
    "\n",
    "workflow.add_edge(\"tools\", \"agent\")\n",
    "\n",
    "workflow.set_entry_point(\"agent\")\n",
    "\n",
    "app = workflow.compile()\n",
    "Image(app.get_graph().draw_mermaid_png())"
   ]
  },
  {
   "cell_type": "code",
   "execution_count": 32,
   "id": "c8031652",
   "metadata": {},
   "outputs": [
    {
     "data": {
      "text/plain": [
       "{'messages': [HumanMessage(content='what is the humidity in chennai', additional_kwargs={}, response_metadata={}, id='8bca0838-05f0-4b37-a9b8-9f7c524725db'),\n",
       "  AIMessage(content='', additional_kwargs={'tool_calls': [{'id': 'call_NtgFgtzGuPT4ZOG259Z0i6I7', 'function': {'arguments': '{\"location\":\"Chennai,IN\"}', 'name': 'open_weather_map'}, 'type': 'function'}], 'refusal': None}, response_metadata={'token_usage': {'completion_tokens': 18, 'prompt_tokens': 189, 'total_tokens': 207, 'completion_tokens_details': {'accepted_prediction_tokens': 0, 'audio_tokens': 0, 'reasoning_tokens': 0, 'rejected_prediction_tokens': 0}, 'prompt_tokens_details': {'audio_tokens': 0, 'cached_tokens': 0}}, 'model_name': 'gpt-4o-mini-2024-07-18', 'system_fingerprint': 'fp_560af6e559', 'id': 'chatcmpl-CPAeNXXUGEpSTFF3vSECkfF5QoFnx', 'service_tier': 'default', 'finish_reason': 'tool_calls', 'logprobs': None}, id='run--70874a93-7603-40fa-9eba-c813150bf449-0', tool_calls=[{'name': 'open_weather_map', 'args': {'location': 'Chennai,IN'}, 'id': 'call_NtgFgtzGuPT4ZOG259Z0i6I7', 'type': 'tool_call'}], usage_metadata={'input_tokens': 189, 'output_tokens': 18, 'total_tokens': 207, 'input_token_details': {'audio': 0, 'cache_read': 0}, 'output_token_details': {'audio': 0, 'reasoning': 0}}),\n",
       "  ToolMessage(content='In Chennai,IN, the current weather is as follows:\\nDetailed status: broken clouds\\nWind speed: 4.89 m/s, direction: 163°\\nHumidity: 75%\\nTemperature: \\n  - Current: 28.16°C\\n  - High: 28.16°C\\n  - Low: 28.16°C\\n  - Feels like: 31.71°C\\nRain: {}\\nHeat index: None\\nCloud cover: 80%', name='open_weather_map', id='daf8fcbf-cd51-4908-b5a0-18ee61fdd25b', tool_call_id='call_NtgFgtzGuPT4ZOG259Z0i6I7'),\n",
       "  AIMessage(content='The humidity in Chennai is currently 75%.', additional_kwargs={'refusal': None}, response_metadata={'token_usage': {'completion_tokens': 10, 'prompt_tokens': 313, 'total_tokens': 323, 'completion_tokens_details': {'accepted_prediction_tokens': 0, 'audio_tokens': 0, 'reasoning_tokens': 0, 'rejected_prediction_tokens': 0}, 'prompt_tokens_details': {'audio_tokens': 0, 'cached_tokens': 0}}, 'model_name': 'gpt-4o-mini-2024-07-18', 'system_fingerprint': 'fp_560af6e559', 'id': 'chatcmpl-CPAeOobaV1jX3xSzpXEuIPLQCyIrT', 'service_tier': 'default', 'finish_reason': 'stop', 'logprobs': None}, id='run--65416e09-cd49-4f6b-9ee6-c30e02500ce3-0', usage_metadata={'input_tokens': 313, 'output_tokens': 10, 'total_tokens': 323, 'input_token_details': {'audio': 0, 'cache_read': 0}, 'output_token_details': {'audio': 0, 'reasoning': 0}})]}"
      ]
     },
     "execution_count": 32,
     "metadata": {},
     "output_type": "execute_result"
    }
   ],
   "source": [
    "inputs = {\"messages\": [HumanMessage(\"what is the humidity in chennai\")]}\n",
    "app.invoke(inputs)"
   ]
  },
  {
   "cell_type": "code",
   "execution_count": 35,
   "id": "9fd505b2",
   "metadata": {},
   "outputs": [
    {
     "data": {
      "text/plain": [
       "{'messages': [HumanMessage(content='tell me about elon musk in one sentence', additional_kwargs={}, response_metadata={}, id='afec01f4-a3fd-4d51-931e-5ca376c1afd5'),\n",
       "  AIMessage(content='Elon Musk is a billionaire entrepreneur and CEO known for founding SpaceX, co-founding Tesla, Inc., and advocating for innovative technologies in transportation, energy, and space exploration.', additional_kwargs={'refusal': None}, response_metadata={'token_usage': {'completion_tokens': 37, 'prompt_tokens': 191, 'total_tokens': 228, 'completion_tokens_details': {'accepted_prediction_tokens': 0, 'audio_tokens': 0, 'reasoning_tokens': 0, 'rejected_prediction_tokens': 0}, 'prompt_tokens_details': {'audio_tokens': 0, 'cached_tokens': 0}}, 'model_name': 'gpt-4o-mini-2024-07-18', 'system_fingerprint': 'fp_560af6e559', 'id': 'chatcmpl-CPAwRF5Y9UDIyBXTevEehkgO8MxlW', 'service_tier': 'default', 'finish_reason': 'stop', 'logprobs': None}, id='run--7793184d-6eb2-4d78-a92b-9b05ce507cc0-0', usage_metadata={'input_tokens': 191, 'output_tokens': 37, 'total_tokens': 228, 'input_token_details': {'audio': 0, 'cache_read': 0}, 'output_token_details': {'audio': 0, 'reasoning': 0}})]}"
      ]
     },
     "execution_count": 35,
     "metadata": {},
     "output_type": "execute_result"
    }
   ],
   "source": [
    "inputs = {\"messages\": [HumanMessage(\"tell me about elon musk in one sentence\")]}\n",
    "app.invoke(inputs)"
   ]
  },
  {
   "cell_type": "code",
   "execution_count": 36,
   "id": "f77a1063",
   "metadata": {},
   "outputs": [
    {
     "data": {
      "text/plain": [
       "{'messages': [HumanMessage(content='what is my earlier question?', additional_kwargs={}, response_metadata={}, id='ede7e9a1-619d-4999-9d2d-268859c7b9d0'),\n",
       "  AIMessage(content=\"I'm unable to recall previous interactions or questions you've asked. However, I'm here to help you with any current questions or topics you have in mind! What would you like to know?\", additional_kwargs={'refusal': None}, response_metadata={'token_usage': {'completion_tokens': 37, 'prompt_tokens': 188, 'total_tokens': 225, 'completion_tokens_details': {'accepted_prediction_tokens': 0, 'audio_tokens': 0, 'reasoning_tokens': 0, 'rejected_prediction_tokens': 0}, 'prompt_tokens_details': {'audio_tokens': 0, 'cached_tokens': 0}}, 'model_name': 'gpt-4o-mini-2024-07-18', 'system_fingerprint': 'fp_560af6e559', 'id': 'chatcmpl-CPAzbR3e8suNXJAqFkSX1VgRtkaO4', 'service_tier': 'default', 'finish_reason': 'stop', 'logprobs': None}, id='run--9af79a1b-42eb-4a87-b663-389cbaccaa7e-0', usage_metadata={'input_tokens': 188, 'output_tokens': 37, 'total_tokens': 225, 'input_token_details': {'audio': 0, 'cache_read': 0}, 'output_token_details': {'audio': 0, 'reasoning': 0}})]}"
      ]
     },
     "execution_count": 36,
     "metadata": {},
     "output_type": "execute_result"
    }
   ],
   "source": [
    "inputs = {\"messages\": [HumanMessage(\"what is my earlier question?\")]}\n",
    "app.invoke(inputs)"
   ]
  },
  {
   "cell_type": "code",
   "execution_count": 6,
   "id": "f799eafc",
   "metadata": {},
   "outputs": [
    {
     "data": {
      "image/png": "[encoded data removed]",
      "text/plain": [
       "<IPython.core.display.Image object>"
      ]
     },
     "execution_count": 6,
     "metadata": {},
     "output_type": "execute_result"
    }
   ],
   "source": [
    "from langgraph.graph import StateGraph, END\n",
    "from langgraph.prebuilt import ToolNode\n",
    "from langgraph.types import RetryPolicy\n",
    "from IPython.display import Image\n",
    "from langgraph.checkpoint.memory import MemorySaver\n",
    "\n",
    "workflow = StateGraph(state_schema=AgentState)\n",
    "workflow.add_node(\"agent\", function_1)\n",
    "workflow.add_node(\"tools\", ToolNode(tools), retry_policy=RetryPolicy(max_attempts=5))\n",
    "\n",
    "workflow.add_conditional_edges(\"agent\", \n",
    "                               where_to_go, {\n",
    "                                    \"continue\": \"tools\",\n",
    "                                    \"end\": END\n",
    "                                })\n",
    "\n",
    "workflow.add_edge(\"tools\", \"agent\")\n",
    "\n",
    "workflow.set_entry_point(\"agent\")\n",
    "\n",
    "memory_saver = MemorySaver()\n",
    "app = workflow.compile(checkpointer=memory_saver)\n",
    "Image(app.get_graph().draw_mermaid_png())"
   ]
  },
  {
   "cell_type": "code",
   "execution_count": 9,
   "id": "64cb941d",
   "metadata": {},
   "outputs": [
    {
     "data": {
      "text/plain": [
       "{'messages': [HumanMessage(content='tell me about elon musk in one sentence', additional_kwargs={}, response_metadata={}, id='0734fe04-6a47-40bf-9ea5-01f6007d2224'),\n",
       "  AIMessage(content='Elon Musk is a billionaire entrepreneur and CEO known for founding and leading companies such as Tesla, SpaceX, Neuralink, and The Boring Company, focusing on innovation in electric vehicles, space exploration, and advanced technologies.', additional_kwargs={'refusal': None}, response_metadata={'token_usage': {'completion_tokens': 46, 'prompt_tokens': 191, 'total_tokens': 237, 'completion_tokens_details': {'accepted_prediction_tokens': 0, 'audio_tokens': 0, 'reasoning_tokens': 0, 'rejected_prediction_tokens': 0}, 'prompt_tokens_details': {'audio_tokens': 0, 'cached_tokens': 0}}, 'model_name': 'gpt-4o-mini-2024-07-18', 'system_fingerprint': 'fp_560af6e559', 'id': 'chatcmpl-CPqva2LeFaFW9KRPm9Sw2CiWKAwVR', 'service_tier': 'default', 'finish_reason': 'stop', 'logprobs': None}, id='run--30386d77-bfa9-4a0e-84f0-58949018ee4f-0', usage_metadata={'input_tokens': 191, 'output_tokens': 46, 'total_tokens': 237, 'input_token_details': {'audio': 0, 'cache_read': 0}, 'output_token_details': {'audio': 0, 'reasoning': 0}})]}"
      ]
     },
     "execution_count": 9,
     "metadata": {},
     "output_type": "execute_result"
    }
   ],
   "source": [
    "from langchain_core.messages import HumanMessage\n",
    "\n",
    "config = {\"configurable\": {\"thread_id\": 1}}\n",
    "inputs = {\"messages\": [HumanMessage(\"tell me about elon musk in one sentence\")]}\n",
    "app.invoke(inputs, config=config)"
   ]
  },
  {
   "cell_type": "code",
   "execution_count": 11,
   "id": "47056442",
   "metadata": {},
   "outputs": [
    {
     "data": {
      "text/plain": [
       "{'messages': [HumanMessage(content='tell me about elon musk in one sentence', additional_kwargs={}, response_metadata={}, id='0734fe04-6a47-40bf-9ea5-01f6007d2224'),\n",
       "  AIMessage(content='Elon Musk is a billionaire entrepreneur and CEO known for founding and leading companies such as Tesla, SpaceX, Neuralink, and The Boring Company, focusing on innovation in electric vehicles, space exploration, and advanced technologies.', additional_kwargs={'refusal': None}, response_metadata={'token_usage': {'completion_tokens': 46, 'prompt_tokens': 191, 'total_tokens': 237, 'completion_tokens_details': {'accepted_prediction_tokens': 0, 'audio_tokens': 0, 'reasoning_tokens': 0, 'rejected_prediction_tokens': 0}, 'prompt_tokens_details': {'audio_tokens': 0, 'cached_tokens': 0}}, 'model_name': 'gpt-4o-mini-2024-07-18', 'system_fingerprint': 'fp_560af6e559', 'id': 'chatcmpl-CPqva2LeFaFW9KRPm9Sw2CiWKAwVR', 'service_tier': 'default', 'finish_reason': 'stop', 'logprobs': None}, id='run--30386d77-bfa9-4a0e-84f0-58949018ee4f-0', usage_metadata={'input_tokens': 191, 'output_tokens': 46, 'total_tokens': 237, 'input_token_details': {'audio': 0, 'cache_read': 0}, 'output_token_details': {'audio': 0, 'reasoning': 0}}),\n",
       "  HumanMessage(content='what is my earlier question?', additional_kwargs={}, response_metadata={}, id='025a3c54-773d-47b7-815f-337c1fd99f46'),\n",
       "  AIMessage(content='Your earlier question was to tell you about Elon Musk in one sentence.', additional_kwargs={'refusal': None}, response_metadata={'token_usage': {'completion_tokens': 15, 'prompt_tokens': 250, 'total_tokens': 265, 'completion_tokens_details': {'accepted_prediction_tokens': 0, 'audio_tokens': 0, 'reasoning_tokens': 0, 'rejected_prediction_tokens': 0}, 'prompt_tokens_details': {'audio_tokens': 0, 'cached_tokens': 0}}, 'model_name': 'gpt-4o-mini-2024-07-18', 'system_fingerprint': 'fp_560af6e559', 'id': 'chatcmpl-CPqxSnSkKHptFR2gnsE2DpGKFqVnv', 'service_tier': 'default', 'finish_reason': 'stop', 'logprobs': None}, id='run--5d14b925-b735-4871-b2ae-6a957f711cc1-0', usage_metadata={'input_tokens': 250, 'output_tokens': 15, 'total_tokens': 265, 'input_token_details': {'audio': 0, 'cache_read': 0}, 'output_token_details': {'audio': 0, 'reasoning': 0}})]}"
      ]
     },
     "execution_count": 11,
     "metadata": {},
     "output_type": "execute_result"
    }
   ],
   "source": [
    "inputs = {\"messages\": [HumanMessage(\"what is my earlier question?\")]}\n",
    "app.invoke(inputs, config=config)"
   ]
  },
  {
   "cell_type": "code",
   "execution_count": 12,
   "id": "e0bf4bb9",
   "metadata": {},
   "outputs": [
    {
     "data": {
      "text/plain": [
       "{'messages': [HumanMessage(content='tell me about elon musk in one sentence', additional_kwargs={}, response_metadata={}, id='0734fe04-6a47-40bf-9ea5-01f6007d2224'),\n",
       "  AIMessage(content='Elon Musk is a billionaire entrepreneur and CEO known for founding and leading companies such as Tesla, SpaceX, Neuralink, and The Boring Company, focusing on innovation in electric vehicles, space exploration, and advanced technologies.', additional_kwargs={'refusal': None}, response_metadata={'token_usage': {'completion_tokens': 46, 'prompt_tokens': 191, 'total_tokens': 237, 'completion_tokens_details': {'accepted_prediction_tokens': 0, 'audio_tokens': 0, 'reasoning_tokens': 0, 'rejected_prediction_tokens': 0}, 'prompt_tokens_details': {'audio_tokens': 0, 'cached_tokens': 0}}, 'model_name': 'gpt-4o-mini-2024-07-18', 'system_fingerprint': 'fp_560af6e559', 'id': 'chatcmpl-CPqva2LeFaFW9KRPm9Sw2CiWKAwVR', 'service_tier': 'default', 'finish_reason': 'stop', 'logprobs': None}, id='run--30386d77-bfa9-4a0e-84f0-58949018ee4f-0', usage_metadata={'input_tokens': 191, 'output_tokens': 46, 'total_tokens': 237, 'input_token_details': {'audio': 0, 'cache_read': 0}, 'output_token_details': {'audio': 0, 'reasoning': 0}}),\n",
       "  HumanMessage(content='what is my earlier question?', additional_kwargs={}, response_metadata={}, id='025a3c54-773d-47b7-815f-337c1fd99f46'),\n",
       "  AIMessage(content='Your earlier question was to tell you about Elon Musk in one sentence.', additional_kwargs={'refusal': None}, response_metadata={'token_usage': {'completion_tokens': 15, 'prompt_tokens': 250, 'total_tokens': 265, 'completion_tokens_details': {'accepted_prediction_tokens': 0, 'audio_tokens': 0, 'reasoning_tokens': 0, 'rejected_prediction_tokens': 0}, 'prompt_tokens_details': {'audio_tokens': 0, 'cached_tokens': 0}}, 'model_name': 'gpt-4o-mini-2024-07-18', 'system_fingerprint': 'fp_560af6e559', 'id': 'chatcmpl-CPqxSnSkKHptFR2gnsE2DpGKFqVnv', 'service_tier': 'default', 'finish_reason': 'stop', 'logprobs': None}, id='run--5d14b925-b735-4871-b2ae-6a957f711cc1-0', usage_metadata={'input_tokens': 250, 'output_tokens': 15, 'total_tokens': 265, 'input_token_details': {'audio': 0, 'cache_read': 0}, 'output_token_details': {'audio': 0, 'reasoning': 0}}),\n",
       "  HumanMessage(content='what is 2+3', additional_kwargs={}, response_metadata={}, id='88436727-6873-40a2-983d-f88a6590d5fb'),\n",
       "  AIMessage(content='', additional_kwargs={'tool_calls': [{'id': 'call_3l0eS5tXlIWgLWGMuDgdjcZt', 'function': {'arguments': '{\"a\":2,\"b\":3}', 'name': 'add'}, 'type': 'function'}], 'refusal': None}, response_metadata={'token_usage': {'completion_tokens': 17, 'prompt_tokens': 278, 'total_tokens': 295, 'completion_tokens_details': {'accepted_prediction_tokens': 0, 'audio_tokens': 0, 'reasoning_tokens': 0, 'rejected_prediction_tokens': 0}, 'prompt_tokens_details': {'audio_tokens': 0, 'cached_tokens': 0}}, 'model_name': 'gpt-4o-mini-2024-07-18', 'system_fingerprint': 'fp_560af6e559', 'id': 'chatcmpl-CPqxwvY98KvY1wVYkLD90uIRfGtNJ', 'service_tier': 'default', 'finish_reason': 'tool_calls', 'logprobs': None}, id='run--badbae26-8853-46ef-ae5e-5b7ef5e79ab6-0', tool_calls=[{'name': 'add', 'args': {'a': 2, 'b': 3}, 'id': 'call_3l0eS5tXlIWgLWGMuDgdjcZt', 'type': 'tool_call'}], usage_metadata={'input_tokens': 278, 'output_tokens': 17, 'total_tokens': 295, 'input_token_details': {'audio': 0, 'cache_read': 0}, 'output_token_details': {'audio': 0, 'reasoning': 0}}),\n",
       "  ToolMessage(content='5', name='add', id='96589307-c6c6-41ee-9af7-19abcfd1ecb2', tool_call_id='call_3l0eS5tXlIWgLWGMuDgdjcZt'),\n",
       "  AIMessage(content='2 + 3 equals 5.', additional_kwargs={'refusal': None}, response_metadata={'token_usage': {'completion_tokens': 9, 'prompt_tokens': 303, 'total_tokens': 312, 'completion_tokens_details': {'accepted_prediction_tokens': 0, 'audio_tokens': 0, 'reasoning_tokens': 0, 'rejected_prediction_tokens': 0}, 'prompt_tokens_details': {'audio_tokens': 0, 'cached_tokens': 0}}, 'model_name': 'gpt-4o-mini-2024-07-18', 'system_fingerprint': 'fp_560af6e559', 'id': 'chatcmpl-CPqxxLoPju9kKi8ixSceoHfX95QvI', 'service_tier': 'default', 'finish_reason': 'stop', 'logprobs': None}, id='run--06bd900f-45f9-4a3c-baef-813316d102e2-0', usage_metadata={'input_tokens': 303, 'output_tokens': 9, 'total_tokens': 312, 'input_token_details': {'audio': 0, 'cache_read': 0}, 'output_token_details': {'audio': 0, 'reasoning': 0}})]}"
      ]
     },
     "execution_count": 12,
     "metadata": {},
     "output_type": "execute_result"
    }
   ],
   "source": [
    "inputs = {\"messages\": [HumanMessage(\"what is 2+3\")]}\n",
    "app.invoke(inputs, config=config)"
   ]
  },
  {
   "cell_type": "code",
   "execution_count": 13,
   "id": "629eb7c3",
   "metadata": {},
   "outputs": [
    {
     "data": {
      "text/plain": [
       "{'messages': [HumanMessage(content='tell me about elon musk in one sentence', additional_kwargs={}, response_metadata={}, id='0734fe04-6a47-40bf-9ea5-01f6007d2224'),\n",
       "  AIMessage(content='Elon Musk is a billionaire entrepreneur and CEO known for founding and leading companies such as Tesla, SpaceX, Neuralink, and The Boring Company, focusing on innovation in electric vehicles, space exploration, and advanced technologies.', additional_kwargs={'refusal': None}, response_metadata={'token_usage': {'completion_tokens': 46, 'prompt_tokens': 191, 'total_tokens': 237, 'completion_tokens_details': {'accepted_prediction_tokens': 0, 'audio_tokens': 0, 'reasoning_tokens': 0, 'rejected_prediction_tokens': 0}, 'prompt_tokens_details': {'audio_tokens': 0, 'cached_tokens': 0}}, 'model_name': 'gpt-4o-mini-2024-07-18', 'system_fingerprint': 'fp_560af6e559', 'id': 'chatcmpl-CPqva2LeFaFW9KRPm9Sw2CiWKAwVR', 'service_tier': 'default', 'finish_reason': 'stop', 'logprobs': None}, id='run--30386d77-bfa9-4a0e-84f0-58949018ee4f-0', usage_metadata={'input_tokens': 191, 'output_tokens': 46, 'total_tokens': 237, 'input_token_details': {'audio': 0, 'cache_read': 0}, 'output_token_details': {'audio': 0, 'reasoning': 0}}),\n",
       "  HumanMessage(content='what is my earlier question?', additional_kwargs={}, response_metadata={}, id='025a3c54-773d-47b7-815f-337c1fd99f46'),\n",
       "  AIMessage(content='Your earlier question was to tell you about Elon Musk in one sentence.', additional_kwargs={'refusal': None}, response_metadata={'token_usage': {'completion_tokens': 15, 'prompt_tokens': 250, 'total_tokens': 265, 'completion_tokens_details': {'accepted_prediction_tokens': 0, 'audio_tokens': 0, 'reasoning_tokens': 0, 'rejected_prediction_tokens': 0}, 'prompt_tokens_details': {'audio_tokens': 0, 'cached_tokens': 0}}, 'model_name': 'gpt-4o-mini-2024-07-18', 'system_fingerprint': 'fp_560af6e559', 'id': 'chatcmpl-CPqxSnSkKHptFR2gnsE2DpGKFqVnv', 'service_tier': 'default', 'finish_reason': 'stop', 'logprobs': None}, id='run--5d14b925-b735-4871-b2ae-6a957f711cc1-0', usage_metadata={'input_tokens': 250, 'output_tokens': 15, 'total_tokens': 265, 'input_token_details': {'audio': 0, 'cache_read': 0}, 'output_token_details': {'audio': 0, 'reasoning': 0}}),\n",
       "  HumanMessage(content='what is 2+3', additional_kwargs={}, response_metadata={}, id='88436727-6873-40a2-983d-f88a6590d5fb'),\n",
       "  AIMessage(content='', additional_kwargs={'tool_calls': [{'id': 'call_3l0eS5tXlIWgLWGMuDgdjcZt', 'function': {'arguments': '{\"a\":2,\"b\":3}', 'name': 'add'}, 'type': 'function'}], 'refusal': None}, response_metadata={'token_usage': {'completion_tokens': 17, 'prompt_tokens': 278, 'total_tokens': 295, 'completion_tokens_details': {'accepted_prediction_tokens': 0, 'audio_tokens': 0, 'reasoning_tokens': 0, 'rejected_prediction_tokens': 0}, 'prompt_tokens_details': {'audio_tokens': 0, 'cached_tokens': 0}}, 'model_name': 'gpt-4o-mini-2024-07-18', 'system_fingerprint': 'fp_560af6e559', 'id': 'chatcmpl-CPqxwvY98KvY1wVYkLD90uIRfGtNJ', 'service_tier': 'default', 'finish_reason': 'tool_calls', 'logprobs': None}, id='run--badbae26-8853-46ef-ae5e-5b7ef5e79ab6-0', tool_calls=[{'name': 'add', 'args': {'a': 2, 'b': 3}, 'id': 'call_3l0eS5tXlIWgLWGMuDgdjcZt', 'type': 'tool_call'}], usage_metadata={'input_tokens': 278, 'output_tokens': 17, 'total_tokens': 295, 'input_token_details': {'audio': 0, 'cache_read': 0}, 'output_token_details': {'audio': 0, 'reasoning': 0}}),\n",
       "  ToolMessage(content='5', name='add', id='96589307-c6c6-41ee-9af7-19abcfd1ecb2', tool_call_id='call_3l0eS5tXlIWgLWGMuDgdjcZt'),\n",
       "  AIMessage(content='2 + 3 equals 5.', additional_kwargs={'refusal': None}, response_metadata={'token_usage': {'completion_tokens': 9, 'prompt_tokens': 303, 'total_tokens': 312, 'completion_tokens_details': {'accepted_prediction_tokens': 0, 'audio_tokens': 0, 'reasoning_tokens': 0, 'rejected_prediction_tokens': 0}, 'prompt_tokens_details': {'audio_tokens': 0, 'cached_tokens': 0}}, 'model_name': 'gpt-4o-mini-2024-07-18', 'system_fingerprint': 'fp_560af6e559', 'id': 'chatcmpl-CPqxxLoPju9kKi8ixSceoHfX95QvI', 'service_tier': 'default', 'finish_reason': 'stop', 'logprobs': None}, id='run--06bd900f-45f9-4a3c-baef-813316d102e2-0', usage_metadata={'input_tokens': 303, 'output_tokens': 9, 'total_tokens': 312, 'input_token_details': {'audio': 0, 'cache_read': 0}, 'output_token_details': {'audio': 0, 'reasoning': 0}}),\n",
       "  HumanMessage(content='what is my earlier question?', additional_kwargs={}, response_metadata={}, id='398771ec-a64b-4ff1-87ad-a581453f2c62'),\n",
       "  AIMessage(content='Your earlier question was \"what is 2+3.\"', additional_kwargs={'refusal': None}, response_metadata={'token_usage': {'completion_tokens': 13, 'prompt_tokens': 325, 'total_tokens': 338, 'completion_tokens_details': {'accepted_prediction_tokens': 0, 'audio_tokens': 0, 'reasoning_tokens': 0, 'rejected_prediction_tokens': 0}, 'prompt_tokens_details': {'audio_tokens': 0, 'cached_tokens': 0}}, 'model_name': 'gpt-4o-mini-2024-07-18', 'system_fingerprint': 'fp_560af6e559', 'id': 'chatcmpl-CPr02AUFvN4x5dhbccJssDKRFjYpk', 'service_tier': 'default', 'finish_reason': 'stop', 'logprobs': None}, id='run--90231218-d8e5-42c7-8206-0c01c17f6aa2-0', usage_metadata={'input_tokens': 325, 'output_tokens': 13, 'total_tokens': 338, 'input_token_details': {'audio': 0, 'cache_read': 0}, 'output_token_details': {'audio': 0, 'reasoning': 0}})]}"
      ]
     },
     "execution_count": 13,
     "metadata": {},
     "output_type": "execute_result"
    }
   ],
   "source": [
    "inputs = {\"messages\": [HumanMessage(\"what is my earlier question?\")]}\n",
    "app.invoke(inputs, config=config)"
   ]
  },
  {
   "cell_type": "code",
   "execution_count": 14,
   "id": "1d412651",
   "metadata": {},
   "outputs": [
    {
     "data": {
      "text/plain": [
       "{'messages': [HumanMessage(content='what is my earlier question?', additional_kwargs={}, response_metadata={}, id='4f658a49-acb0-4f01-bf4b-afa6a348a232'),\n",
       "  AIMessage(content=\"I'm unable to access previous interactions or questions. However, if you'd like to repeat or rephrase your question, I'm here to help!\", additional_kwargs={'refusal': None}, response_metadata={'token_usage': {'completion_tokens': 28, 'prompt_tokens': 188, 'total_tokens': 216, 'completion_tokens_details': {'accepted_prediction_tokens': 0, 'audio_tokens': 0, 'reasoning_tokens': 0, 'rejected_prediction_tokens': 0}, 'prompt_tokens_details': {'audio_tokens': 0, 'cached_tokens': 0}}, 'model_name': 'gpt-4o-mini-2024-07-18', 'system_fingerprint': 'fp_560af6e559', 'id': 'chatcmpl-CPrMm61iEw3DoP66pEeAmdsIpexZH', 'service_tier': 'default', 'finish_reason': 'stop', 'logprobs': None}, id='run--7937adce-bb79-417f-a905-69b3801b6635-0', usage_metadata={'input_tokens': 188, 'output_tokens': 28, 'total_tokens': 216, 'input_token_details': {'audio': 0, 'cache_read': 0}, 'output_token_details': {'audio': 0, 'reasoning': 0}})]}"
      ]
     },
     "execution_count": 14,
     "metadata": {},
     "output_type": "execute_result"
    }
   ],
   "source": [
    "config = {\"configurable\": {\"thread_id\": 2}}\n",
    "inputs = {\"messages\": [HumanMessage(\"what is my earlier question?\")]}\n",
    "app.invoke(inputs, config=config)"
   ]
  },
  {
   "cell_type": "code",
   "execution_count": 15,
   "id": "7b7c20c9",
   "metadata": {},
   "outputs": [],
   "source": [
    "class OverallState(TypedDict):\n",
    "    question: str\n",
    "    answer: str\n",
    "    notes: str\n",
    "    \n",
    "\n",
    "def thinking_node(state: OverallState):\n",
    "    return {\"answer\": \"bye\", \"notes\": \"... his name is Leela\"}\n",
    "\n",
    "def answer_node(state: OverallState):\n",
    "    return {\"answer\": \"bye Leela\"}"
   ]
  },
  {
   "cell_type": "code",
   "execution_count": 19,
   "id": "7f8b2865",
   "metadata": {},
   "outputs": [
    {
     "data": {
      "image/png": "[encoded data removed]",
      "text/plain": [
       "<IPython.core.display.Image object>"
      ]
     },
     "metadata": {},
     "output_type": "display_data"
    }
   ],
   "source": [
    "from langgraph.constants import START, END\n",
    "\n",
    "workflow = StateGraph(state_schema=OverallState)\n",
    "workflow.add_node(\"thinking_node\", thinking_node)\n",
    "workflow.add_node(\"answer_node\", answer_node)\n",
    "\n",
    "workflow.add_edge(START, \"thinking_node\")\n",
    "workflow.add_edge(\"thinking_node\", \"answer_node\")\n",
    "workflow.add_edge(\"answer_node\", END)\n",
    "\n",
    "graph = workflow.compile()\n",
    "\n",
    "display(Image(graph.get_graph().draw_mermaid_png()))"
   ]
  },
  {
   "cell_type": "code",
   "execution_count": 20,
   "id": "1791f108",
   "metadata": {},
   "outputs": [
    {
     "data": {
      "text/plain": [
       "{'question': 'hi', 'answer': 'bye Leela', 'notes': '... his name is Leela'}"
      ]
     },
     "execution_count": 20,
     "metadata": {},
     "output_type": "execute_result"
    }
   ],
   "source": [
    "graph.invoke({\"question\": \"hi\"})"
   ]
  },
  {
   "cell_type": "code",
   "execution_count": 29,
   "id": "26276ca7",
   "metadata": {},
   "outputs": [],
   "source": [
    "class InputState(TypedDict):\n",
    "    question: str\n",
    "    \n",
    "class OutputState(TypedDict):\n",
    "    answer: str\n",
    "\n",
    "class OverallState(TypedDict):\n",
    "    question: str\n",
    "    answer: str\n",
    "    notes: str\n",
    "    \n",
    "def thinking_node(state: InputState) -> OverallState:\n",
    "    return {\"answer\": \"bye\", \"notes\": \"... his name is Leela\"}\n",
    "\n",
    "def answer_node(state: OverallState) -> OutputState:\n",
    "    return {\"answer\": \"bye Leela\"}"
   ]
  },
  {
   "cell_type": "code",
   "execution_count": 31,
   "id": "2161b1be",
   "metadata": {},
   "outputs": [
    {
     "data": {
      "text/plain": [
       "{'answer': 'bye Leela'}"
      ]
     },
     "execution_count": 31,
     "metadata": {},
     "output_type": "execute_result"
    }
   ],
   "source": [
    "from langgraph.constants import START, END\n",
    "\n",
    "workflow = StateGraph(state_schema=OverallState, input_schema=InputState, output_schema=OutputState)\n",
    "workflow.add_node(\"thinking_node\", thinking_node)\n",
    "workflow.add_node(\"answer_node\", answer_node)\n",
    "\n",
    "workflow.add_edge(START, \"thinking_node\")\n",
    "workflow.add_edge(\"thinking_node\", \"answer_node\")\n",
    "workflow.add_edge(\"answer_node\", END)\n",
    "\n",
    "graph = workflow.compile()\n",
    "\n",
    "graph.invoke({\"question\": \"hi\"})"
   ]
  },
  {
   "cell_type": "code",
   "execution_count": null,
   "id": "1d431c13",
   "metadata": {},
   "outputs": [],
   "source": []
  }
 ],
 "metadata": {
  "kernelspec": {
   "display_name": ".venv",
   "language": "python",
   "name": "python3"
  },
  "language_info": {
   "codemirror_mode": {
    "name": "ipython",
    "version": 3
   },
   "file_extension": ".py",
   "mimetype": "text/x-python",
   "name": "python",
   "nbconvert_exporter": "python",
   "pygments_lexer": "ipython3",
   "version": "3.11.7"
  }
 },
 "nbformat": 4,
 "nbformat_minor": 5
}
