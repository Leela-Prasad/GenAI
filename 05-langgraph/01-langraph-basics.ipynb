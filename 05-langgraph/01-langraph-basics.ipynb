{
 "cells": [
  {
   "cell_type": "code",
   "execution_count": null,
   "id": "a7968e1c",
   "metadata": {},
   "outputs": [],
   "source": [
    "pip install langgraph"
   ]
  },
  {
   "cell_type": "code",
   "execution_count": 12,
   "id": "f140e45a",
   "metadata": {},
   "outputs": [],
   "source": [
    "def function_1(state):\n",
    "    input_1 = state.get(\"input_1\")\n",
    "    return {\"input_2\": input_1 + \" Hi\"}\n",
    "\n",
    "def function_2(state):\n",
    "    input_2 = state.get(\"input_2\")\n",
    "    return input_2 + \" there\""
   ]
  },
  {
   "cell_type": "code",
   "execution_count": 7,
   "id": "a5aa0045",
   "metadata": {},
   "outputs": [
    {
     "data": {
      "image/png": "[encoded data removed]",
      "text/plain": [
       "<IPython.core.display.Image object>"
      ]
     },
     "execution_count": 7,
     "metadata": {},
     "output_type": "execute_result"
    }
   ],
   "source": [
    "from langgraph.graph import StateGraph, END\n",
    "from IPython.display import Image\n",
    "\n",
    "workflow = StateGraph(dict)\n",
    "workflow.add_node(\"node_1\", function_1)\n",
    "workflow.add_node(\"node_2\", function_2)\n",
    "\n",
    "workflow.add_edge(\"node_1\", \"node_2\")\n",
    "workflow.add_edge(\"node_2\", END)\n",
    "\n",
    "workflow.set_entry_point(\"node_1\")\n",
    "workflow.set_finish_point(\"node_2\")\n",
    "\n",
    "app = workflow.compile()\n",
    "\n",
    "Image(app.get_graph().draw_mermaid_png())"
   ]
  },
  {
   "cell_type": "code",
   "execution_count": 8,
   "id": "eb5854d7",
   "metadata": {},
   "outputs": [
    {
     "data": {
      "text/plain": [
       "'Hello Hi there'"
      ]
     },
     "execution_count": 8,
     "metadata": {},
     "output_type": "execute_result"
    }
   ],
   "source": [
    "app.invoke({\"input_1\": \"Hello\"})"
   ]
  },
  {
   "cell_type": "code",
   "execution_count": 9,
   "id": "a036832f",
   "metadata": {},
   "outputs": [
    {
     "name": "stdout",
     "output_type": "stream",
     "text": [
      "{'node_1': {'input_2': 'Hello Hi'}}\n",
      "{'node_2': 'Hello Hi there'}\n"
     ]
    }
   ],
   "source": [
    "for output in app.stream({\"input_1\": \"Hello\"}):\n",
    "    print(output)"
   ]
  },
  {
   "cell_type": "code",
   "execution_count": 13,
   "id": "de02e92e",
   "metadata": {},
   "outputs": [
    {
     "name": "stdout",
     "output_type": "stream",
     "text": [
      "Ouput from node 'node_1: \n",
      "---\n",
      "{'input_2': 'Hello Hi'}\n",
      "Ouput from node 'node_2: \n",
      "---\n",
      "Hello Hi there\n"
     ]
    }
   ],
   "source": [
    "for output in app.stream({\"input_1\": \"Hello\"}):\n",
    "    for k,v in output.items():\n",
    "        print(f\"Ouput from node '{k}: \")\n",
    "        print(\"---\")\n",
    "        print(v)"
   ]
  },
  {
   "cell_type": "code",
   "execution_count": 1,
   "id": "84d9f5be",
   "metadata": {},
   "outputs": [],
   "source": [
    "from dotenv import load_dotenv\n",
    "from langchain_openai import ChatOpenAI\n",
    "\n",
    "load_dotenv()\n",
    "llm = ChatOpenAI(model=\"gpt-4o-mini\")"
   ]
  },
  {
   "cell_type": "code",
   "execution_count": 23,
   "id": "899b5ee9",
   "metadata": {},
   "outputs": [],
   "source": [
    "def function_1(state):\n",
    "    input_1 = state.get(\"input_1\")\n",
    "    response = llm.invoke(input_1)\n",
    "    return response.content\n",
    "\n",
    "\n",
    "def function_2(state):\n",
    "    return \"Agent Says :: \" + state"
   ]
  },
  {
   "cell_type": "code",
   "execution_count": 24,
   "id": "eaccffbd",
   "metadata": {},
   "outputs": [],
   "source": [
    "from langgraph.graph import StateGraph, END\n",
    "\n",
    "workflow = StateGraph(dict)\n",
    "workflow.add_node(\"agent\", function_1)\n",
    "workflow.add_node(\"node_2\", function_2)\n",
    "\n",
    "workflow.add_edge(\"agent\", \"node_2\")\n",
    "workflow.add_edge(\"node_2\", END)\n",
    "\n",
    "workflow.set_entry_point(\"agent\")\n",
    "workflow.set_finish_point(\"node_2\")\n",
    "\n",
    "app = workflow.compile()"
   ]
  },
  {
   "cell_type": "code",
   "execution_count": 25,
   "id": "778f9ec0",
   "metadata": {},
   "outputs": [
    {
     "name": "stdout",
     "output_type": "stream",
     "text": [
      "Ouput from node 'agent: \n",
      "---\n",
      "Hello! How can I assist you today?\n",
      "Ouput from node 'node_2: \n",
      "---\n",
      "Agent Says :: Hello! How can I assist you today?\n"
     ]
    }
   ],
   "source": [
    "for output in app.stream({\"input_1\": \"Hello\"}):\n",
    "    for k,v in output.items():\n",
    "        print(f\"Ouput from node '{k}: \")\n",
    "        print(\"---\")\n",
    "        print(v)"
   ]
  },
  {
   "cell_type": "code",
   "execution_count": 33,
   "id": "54144ced",
   "metadata": {},
   "outputs": [],
   "source": [
    "def function_1(state):\n",
    "    input_1 = state.get(\"input_1\")\n",
    "    complete_query = f\"Your task is to provide only the city name based on the user query. \\\n",
    "                        Nothing more, just the city name mentioned. Following is the user query: {input_1}\"\n",
    "    response = llm.invoke(complete_query)\n",
    "    return response.content\n",
    "\n",
    "\n",
    "def function_2(state):\n",
    "    return \"Agent Says :: \" + state"
   ]
  },
  {
   "cell_type": "code",
   "execution_count": 34,
   "id": "8c61f7aa",
   "metadata": {},
   "outputs": [
    {
     "data": {
      "text/plain": [
       "'Chennai'"
      ]
     },
     "execution_count": 34,
     "metadata": {},
     "output_type": "execute_result"
    }
   ],
   "source": [
    "function_1({\"input_1\": \"I am in chennai\"})"
   ]
  },
  {
   "cell_type": "code",
   "execution_count": null,
   "id": "fb8a85ad",
   "metadata": {},
   "outputs": [],
   "source": [
    "pip install pyowm"
   ]
  },
  {
   "cell_type": "code",
   "execution_count": 7,
   "id": "9006ee95",
   "metadata": {},
   "outputs": [
    {
     "name": "stdout",
     "output_type": "stream",
     "text": [
      "In Chennai, the current weather is as follows:\n",
      "Detailed status: overcast clouds\n",
      "Wind speed: 4.83 m/s, direction: 154°\n",
      "Humidity: 76%\n",
      "Temperature: \n",
      "  - Current: 28.5°C\n",
      "  - High: 28.5°C\n",
      "  - Low: 28.5°C\n",
      "  - Feels like: 32.66°C\n",
      "Rain: {}\n",
      "Heat index: None\n",
      "Cloud cover: 95%\n"
     ]
    }
   ],
   "source": [
    "from langchain_community.utilities import OpenWeatherMapAPIWrapper\n",
    "\n",
    "weather = OpenWeatherMapAPIWrapper()\n",
    "weather_data = weather.run(\"Chennai\")\n",
    "print(weather_data)"
   ]
  },
  {
   "cell_type": "code",
   "execution_count": 9,
   "id": "14265fcb",
   "metadata": {},
   "outputs": [],
   "source": [
    "from langchain_community.utilities import OpenWeatherMapAPIWrapper\n",
    "\n",
    "weather = OpenWeatherMapAPIWrapper()\n",
    "\n",
    "def function_1(state):\n",
    "    input_1 = state.get(\"input_1\")\n",
    "    complete_query = f\"Your task is to provide only the city name based on the user query. \\\n",
    "                        Nothing more, just the city name mentioned. Following is the user query: {input_1}\"\n",
    "    response = llm.invoke(complete_query)\n",
    "    return response.content\n",
    "\n",
    "\n",
    "def function_2(state):\n",
    "    return weather.run(state) "
   ]
  },
  {
   "cell_type": "code",
   "execution_count": 10,
   "id": "74e84a4a",
   "metadata": {},
   "outputs": [],
   "source": [
    "from langgraph.graph import StateGraph, END\n",
    "\n",
    "workflow = StateGraph(dict)\n",
    "workflow.add_node(\"agent\", function_1)\n",
    "workflow.add_node(\"tool\", function_2)\n",
    "\n",
    "workflow.add_edge(\"agent\", \"tool\")\n",
    "workflow.add_edge(\"tool\", END)\n",
    "\n",
    "workflow.set_entry_point(\"agent\")\n",
    "workflow.set_finish_point(\"tool\")\n",
    "\n",
    "app = workflow.compile()"
   ]
  },
  {
   "cell_type": "code",
   "execution_count": 12,
   "id": "e7dc8fc1",
   "metadata": {},
   "outputs": [
    {
     "name": "stdout",
     "output_type": "stream",
     "text": [
      "Ouput from node 'agent: \n",
      "---\n",
      "Chennai\n",
      "Ouput from node 'tool: \n",
      "---\n",
      "In Chennai, the current weather is as follows:\n",
      "Detailed status: overcast clouds\n",
      "Wind speed: 4.83 m/s, direction: 154°\n",
      "Humidity: 76%\n",
      "Temperature: \n",
      "  - Current: 28.5°C\n",
      "  - High: 28.5°C\n",
      "  - Low: 28.5°C\n",
      "  - Feels like: 32.66°C\n",
      "Rain: {}\n",
      "Heat index: None\n",
      "Cloud cover: 95%\n"
     ]
    }
   ],
   "source": [
    "for output in app.stream({\"input_1\": \"What is temparature in chennai\"}):\n",
    "    for k,v in output.items():\n",
    "        print(f\"Ouput from node '{k}: \")\n",
    "        print(\"---\")\n",
    "        print(v)"
   ]
  },
  {
   "cell_type": "code",
   "execution_count": 13,
   "id": "949815fa",
   "metadata": {},
   "outputs": [
    {
     "data": {
      "text/plain": [
       "{'messages': []}"
      ]
     },
     "execution_count": 13,
     "metadata": {},
     "output_type": "execute_result"
    }
   ],
   "source": [
    "AgentState = {}\n",
    "AgentState[\"messages\"] = []\n",
    "\n",
    "AgentState"
   ]
  },
  {
   "cell_type": "code",
   "execution_count": 2,
   "id": "f22c9b2b",
   "metadata": {},
   "outputs": [],
   "source": [
    "from langchain_community.utilities import OpenWeatherMapAPIWrapper\n",
    "from langchain_openai import ChatOpenAI\n",
    "\n",
    "def function_1(state):\n",
    "    messages = state[\"messages\"]\n",
    "    user_input = messages[-1]\n",
    "    complete_query = f\"Your task is to provide only the city name based on the user query. \\\n",
    "                        Nothing more, just the city name mentioned. Following is the user query: {user_input}\"\n",
    "    response = llm.invoke(complete_query)\n",
    "    state[\"messages\"].append(response.content)\n",
    "    return state\n",
    "\n",
    "def function_2(state):\n",
    "    messages = state[\"messages\"]\n",
    "    agent_response = messages[-1]\n",
    "    weather = OpenWeatherMapAPIWrapper()\n",
    "    weather_data = weather.run(agent_response)\n",
    "    state[\"messages\"].append(weather_data)\n",
    "    return state \n",
    "\n",
    "def function_3(state):\n",
    "    messages = state[\"messages\"]\n",
    "    user_input = messages[0]\n",
    "    agent_response = messages[-1]\n",
    "    llm = ChatOpenAI(model=\"gpt-4o-mini\")\n",
    "    \n",
    "    complete_query = f\"Your task is to provide info concisely based on the user query \\\n",
    "        and the available information. \\\n",
    "        Following is the user query: {user_input}, Available information: {agent_response}\"\n",
    "    response = llm.invoke(complete_query)\n",
    "    return response.content    \n",
    "    \n",
    "    "
   ]
  },
  {
   "cell_type": "code",
   "execution_count": 3,
   "id": "477fe4ae",
   "metadata": {},
   "outputs": [],
   "source": [
    "from langgraph.graph import StateGraph, END\n",
    "\n",
    "workflow = StateGraph(dict)\n",
    "workflow.add_node(\"agent\", function_1)\n",
    "workflow.add_node(\"tool\", function_2)\n",
    "workflow.add_node(\"responder\", function_3)\n",
    "\n",
    "workflow.add_edge(\"agent\", \"tool\")\n",
    "workflow.add_edge(\"tool\", \"responder\")\n",
    "workflow.add_edge(\"responder\", END)\n",
    "\n",
    "workflow.set_entry_point(\"agent\")\n",
    "workflow.set_finish_point(\"responder\")\n",
    "\n",
    "app = workflow.compile()"
   ]
  },
  {
   "cell_type": "code",
   "execution_count": 4,
   "id": "a441f6ec",
   "metadata": {},
   "outputs": [
    {
     "data": {
      "text/plain": [
       "'The current humidity in Chennai is 78%.'"
      ]
     },
     "execution_count": 4,
     "metadata": {},
     "output_type": "execute_result"
    }
   ],
   "source": [
    "inputs = {\"messages\": [\"what is the humidity in chennai\"]}\n",
    "\n",
    "app.invoke(inputs)"
   ]
  },
  {
   "cell_type": "code",
   "execution_count": 6,
   "id": "59f05569",
   "metadata": {},
   "outputs": [],
   "source": [
    "from typing import TypedDict, Annotated\n",
    "import operator\n",
    "\n",
    "class AgentState(TypedDict):\n",
    "    messages: Annotated[list, operator.add]"
   ]
  },
  {
   "cell_type": "code",
   "execution_count": 12,
   "id": "8a8ad6c1",
   "metadata": {},
   "outputs": [],
   "source": [
    "from langchain_community.utilities import OpenWeatherMapAPIWrapper\n",
    "from langchain_openai import ChatOpenAI\n",
    "\n",
    "def function_1(state):\n",
    "    messages = state[\"messages\"]\n",
    "    user_input = messages[-1]\n",
    "    complete_query = f\"Your task is to provide only the city name based on the user query. \\\n",
    "                        Nothing more, just the city name mentioned. Following is the user query: {user_input}\"\n",
    "    response = llm.invoke(complete_query)\n",
    "    return {\"messages\": [response.content]}\n",
    "\n",
    "def function_2(state):\n",
    "    messages = state[\"messages\"]\n",
    "    agent_response = messages[-1]\n",
    "    weather = OpenWeatherMapAPIWrapper()\n",
    "    weather_data = weather.run(agent_response)\n",
    "    return {\"messages\": [weather_data]}\n",
    "\n",
    "def function_3(state):\n",
    "    messages = state[\"messages\"]\n",
    "    user_input = messages[0]\n",
    "    agent_response = messages[-1]\n",
    "    llm = ChatOpenAI(model=\"gpt-4o-mini\")\n",
    "    \n",
    "    complete_query = f\"Your task is to provide info concisely based on the user query \\\n",
    "        and the available information. \\\n",
    "        Following is the user query: {user_input}, Available information: {agent_response}\"\n",
    "    response = llm.invoke(complete_query)\n",
    "    return {\"messages\": [response.content]}    \n",
    "    \n",
    "    "
   ]
  },
  {
   "cell_type": "code",
   "execution_count": 13,
   "id": "f01a92e2",
   "metadata": {},
   "outputs": [],
   "source": [
    "from langgraph.graph import StateGraph, END\n",
    "\n",
    "workflow = StateGraph(state_schema=AgentState)\n",
    "workflow.add_node(\"agent\", function_1)\n",
    "workflow.add_node(\"tool\", function_2)\n",
    "workflow.add_node(\"responder\", function_3)\n",
    "\n",
    "workflow.add_edge(\"agent\", \"tool\")\n",
    "workflow.add_edge(\"tool\", \"responder\")\n",
    "workflow.add_edge(\"responder\", END)\n",
    "\n",
    "workflow.set_entry_point(\"agent\")\n",
    "workflow.set_finish_point(\"responder\")\n",
    "\n",
    "app = workflow.compile()"
   ]
  },
  {
   "cell_type": "code",
   "execution_count": 14,
   "id": "e479b535",
   "metadata": {},
   "outputs": [
    {
     "data": {
      "text/plain": [
       "{'messages': ['what is the humidity in chennai',\n",
       "  'Chennai',\n",
       "  'In Chennai, the current weather is as follows:\\nDetailed status: overcast clouds\\nWind speed: 4.11 m/s, direction: 168°\\nHumidity: 77%\\nTemperature: \\n  - Current: 27.89°C\\n  - High: 27.89°C\\n  - Low: 27.89°C\\n  - Feels like: 31.39°C\\nRain: {}\\nHeat index: None\\nCloud cover: 98%',\n",
       "  'The current humidity in Chennai is 77%.']}"
      ]
     },
     "execution_count": 14,
     "metadata": {},
     "output_type": "execute_result"
    }
   ],
   "source": [
    "inputs = {\"messages\": [\"what is the humidity in chennai\"]}\n",
    "\n",
    "app.invoke(inputs)"
   ]
  },
  {
   "cell_type": "code",
   "execution_count": null,
   "id": "5f05e3f4",
   "metadata": {},
   "outputs": [],
   "source": []
  }
 ],
 "metadata": {
  "kernelspec": {
   "display_name": ".venv",
   "language": "python",
   "name": "python3"
  },
  "language_info": {
   "codemirror_mode": {
    "name": "ipython",
    "version": 3
   },
   "file_extension": ".py",
   "mimetype": "text/x-python",
   "name": "python",
   "nbconvert_exporter": "python",
   "pygments_lexer": "ipython3",
   "version": "3.11.7"
  }
 },
 "nbformat": 4,
 "nbformat_minor": 5
}
