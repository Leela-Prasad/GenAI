{
 "cells": [
  {
   "cell_type": "code",
   "execution_count": 1,
   "id": "8dfeaac9",
   "metadata": {},
   "outputs": [],
   "source": [
    "import sqlite3\n",
    "import pandas as pd\n",
    "\n",
    "def get_warehouse_inventory(warehouse_id):\n",
    "    conn = sqlite3.connect(\"inventory_management.db\")\n",
    "    query = \"\"\"\n",
    "    SELECT \n",
    "        w.name as warehouse_name,\n",
    "        p.name as product_name,\n",
    "        p.category,\n",
    "        i.current_stock,\n",
    "        p.reorder_point,\n",
    "        (SELECT SUM(quantity)\n",
    "            FROM sales s\n",
    "            WHERE s.warehouse_id = w.warehouse_id\n",
    "            AND s.product_id = p.product_id\n",
    "            AND s.sale_date >= date('now', '-30 days')\n",
    "        ) as monthly_sales\n",
    "    FROM inventory i\n",
    "    JOIN warehouses w ON i.warehouse_id = w.warehouse_id\n",
    "    JOIN products p ON i.product_id = p.product_id\n",
    "    WHERE w.warehouse_id = ?\n",
    "    \"\"\"\n",
    "    \n",
    "    df = pd.read_sql(query, conn, params = [warehouse_id])\n",
    "    conn.close()\n",
    "    \n",
    "    return df"
   ]
  },
  {
   "cell_type": "code",
   "execution_count": 2,
   "id": "312e6047",
   "metadata": {},
   "outputs": [
    {
     "data": {
      "text/html": [
       "<div>\n",
       "<style scoped>\n",
       "    .dataframe tbody tr th:only-of-type {\n",
       "        vertical-align: middle;\n",
       "    }\n",
       "\n",
       "    .dataframe tbody tr th {\n",
       "        vertical-align: top;\n",
       "    }\n",
       "\n",
       "    .dataframe thead th {\n",
       "        text-align: right;\n",
       "    }\n",
       "</style>\n",
       "<table border=\"1\" class=\"dataframe\">\n",
       "  <thead>\n",
       "    <tr style=\"text-align: right;\">\n",
       "      <th></th>\n",
       "      <th>warehouse_name</th>\n",
       "      <th>product_name</th>\n",
       "      <th>category</th>\n",
       "      <th>current_stock</th>\n",
       "      <th>reorder_point</th>\n",
       "      <th>monthly_sales</th>\n",
       "    </tr>\n",
       "  </thead>\n",
       "  <tbody>\n",
       "    <tr>\n",
       "      <th>0</th>\n",
       "      <td>North Hub</td>\n",
       "      <td>Laptop Pro</td>\n",
       "      <td>Electronics</td>\n",
       "      <td>45</td>\n",
       "      <td>50</td>\n",
       "      <td>62</td>\n",
       "    </tr>\n",
       "    <tr>\n",
       "      <th>1</th>\n",
       "      <td>North Hub</td>\n",
       "      <td>Smartphone X</td>\n",
       "      <td>Electronics</td>\n",
       "      <td>80</td>\n",
       "      <td>75</td>\n",
       "      <td>66</td>\n",
       "    </tr>\n",
       "    <tr>\n",
       "      <th>2</th>\n",
       "      <td>North Hub</td>\n",
       "      <td>Wireless Earbuds</td>\n",
       "      <td>Electronics</td>\n",
       "      <td>95</td>\n",
       "      <td>100</td>\n",
       "      <td>15</td>\n",
       "    </tr>\n",
       "  </tbody>\n",
       "</table>\n",
       "</div>"
      ],
      "text/plain": [
       "  warehouse_name      product_name     category  current_stock  reorder_point  \\\n",
       "0      North Hub        Laptop Pro  Electronics             45             50   \n",
       "1      North Hub      Smartphone X  Electronics             80             75   \n",
       "2      North Hub  Wireless Earbuds  Electronics             95            100   \n",
       "\n",
       "   monthly_sales  \n",
       "0             62  \n",
       "1             66  \n",
       "2             15  "
      ]
     },
     "execution_count": 2,
     "metadata": {},
     "output_type": "execute_result"
    }
   ],
   "source": [
    "get_warehouse_inventory(1)"
   ]
  },
  {
   "cell_type": "code",
   "execution_count": 29,
   "id": "e4a98b2f",
   "metadata": {},
   "outputs": [
    {
     "data": {
      "text/html": [
       "<div>\n",
       "<style scoped>\n",
       "    .dataframe tbody tr th:only-of-type {\n",
       "        vertical-align: middle;\n",
       "    }\n",
       "\n",
       "    .dataframe tbody tr th {\n",
       "        vertical-align: top;\n",
       "    }\n",
       "\n",
       "    .dataframe thead th {\n",
       "        text-align: right;\n",
       "    }\n",
       "</style>\n",
       "<table border=\"1\" class=\"dataframe\">\n",
       "  <thead>\n",
       "    <tr style=\"text-align: right;\">\n",
       "      <th></th>\n",
       "      <th>warehouse_name</th>\n",
       "      <th>product_name</th>\n",
       "      <th>category</th>\n",
       "      <th>current_stock</th>\n",
       "      <th>reorder_point</th>\n",
       "      <th>monthly_sales</th>\n",
       "    </tr>\n",
       "  </thead>\n",
       "  <tbody>\n",
       "    <tr>\n",
       "      <th>0</th>\n",
       "      <td>Central Distribution</td>\n",
       "      <td>Laptop Pro</td>\n",
       "      <td>Electronics</td>\n",
       "      <td>55</td>\n",
       "      <td>50</td>\n",
       "      <td>55</td>\n",
       "    </tr>\n",
       "    <tr>\n",
       "      <th>1</th>\n",
       "      <td>Central Distribution</td>\n",
       "      <td>Smartphone X</td>\n",
       "      <td>Electronics</td>\n",
       "      <td>65</td>\n",
       "      <td>75</td>\n",
       "      <td>52</td>\n",
       "    </tr>\n",
       "    <tr>\n",
       "      <th>2</th>\n",
       "      <td>Central Distribution</td>\n",
       "      <td>Smart Watch</td>\n",
       "      <td>Electronics</td>\n",
       "      <td>58</td>\n",
       "      <td>60</td>\n",
       "      <td>17</td>\n",
       "    </tr>\n",
       "  </tbody>\n",
       "</table>\n",
       "</div>"
      ],
      "text/plain": [
       "         warehouse_name  product_name     category  current_stock  \\\n",
       "0  Central Distribution    Laptop Pro  Electronics             55   \n",
       "1  Central Distribution  Smartphone X  Electronics             65   \n",
       "2  Central Distribution   Smart Watch  Electronics             58   \n",
       "\n",
       "   reorder_point  monthly_sales  \n",
       "0             50             55  \n",
       "1             75             52  \n",
       "2             60             17  "
      ]
     },
     "execution_count": 29,
     "metadata": {},
     "output_type": "execute_result"
    }
   ],
   "source": [
    "get_warehouse_inventory(2)"
   ]
  },
  {
   "cell_type": "code",
   "execution_count": 30,
   "id": "0207ad44",
   "metadata": {},
   "outputs": [
    {
     "data": {
      "text/html": [
       "<div>\n",
       "<style scoped>\n",
       "    .dataframe tbody tr th:only-of-type {\n",
       "        vertical-align: middle;\n",
       "    }\n",
       "\n",
       "    .dataframe tbody tr th {\n",
       "        vertical-align: top;\n",
       "    }\n",
       "\n",
       "    .dataframe thead th {\n",
       "        text-align: right;\n",
       "    }\n",
       "</style>\n",
       "<table border=\"1\" class=\"dataframe\">\n",
       "  <thead>\n",
       "    <tr style=\"text-align: right;\">\n",
       "      <th></th>\n",
       "      <th>warehouse_name</th>\n",
       "      <th>product_name</th>\n",
       "      <th>category</th>\n",
       "      <th>current_stock</th>\n",
       "      <th>reorder_point</th>\n",
       "      <th>monthly_sales</th>\n",
       "    </tr>\n",
       "  </thead>\n",
       "  <tbody>\n",
       "    <tr>\n",
       "      <th>0</th>\n",
       "      <td>East Coast Center</td>\n",
       "      <td>Wireless Earbuds</td>\n",
       "      <td>Electronics</td>\n",
       "      <td>85</td>\n",
       "      <td>100</td>\n",
       "      <td>57</td>\n",
       "    </tr>\n",
       "    <tr>\n",
       "      <th>1</th>\n",
       "      <td>East Coast Center</td>\n",
       "      <td>Smart Watch</td>\n",
       "      <td>Electronics</td>\n",
       "      <td>52</td>\n",
       "      <td>60</td>\n",
       "      <td>25</td>\n",
       "    </tr>\n",
       "    <tr>\n",
       "      <th>2</th>\n",
       "      <td>East Coast Center</td>\n",
       "      <td>Tablet Ultra</td>\n",
       "      <td>Electronics</td>\n",
       "      <td>35</td>\n",
       "      <td>40</td>\n",
       "      <td>28</td>\n",
       "    </tr>\n",
       "  </tbody>\n",
       "</table>\n",
       "</div>"
      ],
      "text/plain": [
       "      warehouse_name      product_name     category  current_stock  \\\n",
       "0  East Coast Center  Wireless Earbuds  Electronics             85   \n",
       "1  East Coast Center       Smart Watch  Electronics             52   \n",
       "2  East Coast Center      Tablet Ultra  Electronics             35   \n",
       "\n",
       "   reorder_point  monthly_sales  \n",
       "0            100             57  \n",
       "1             60             25  \n",
       "2             40             28  "
      ]
     },
     "execution_count": 30,
     "metadata": {},
     "output_type": "execute_result"
    }
   ],
   "source": [
    "get_warehouse_inventory(3)"
   ]
  },
  {
   "cell_type": "code",
   "execution_count": 3,
   "id": "aa472968",
   "metadata": {},
   "outputs": [],
   "source": [
    "def get_all_warehouses():\n",
    "    conn = sqlite3.connect(\"inventory_management.db\")\n",
    "    df = pd.read_sql(\"SELECT * FROM warehouses\", conn)\n",
    "    conn.close()\n",
    "    \n",
    "    return df.warehouse_id.tolist()\n",
    "    "
   ]
  },
  {
   "cell_type": "code",
   "execution_count": 4,
   "id": "4b623448",
   "metadata": {},
   "outputs": [
    {
     "data": {
      "text/plain": [
       "[1, 2, 3]"
      ]
     },
     "execution_count": 4,
     "metadata": {},
     "output_type": "execute_result"
    }
   ],
   "source": [
    "get_all_warehouses()"
   ]
  },
  {
   "cell_type": "code",
   "execution_count": 21,
   "id": "9104fb5b",
   "metadata": {},
   "outputs": [],
   "source": [
    "from typing import TypedDict, Annotated\n",
    "from operator import add\n",
    "\n",
    "class State(TypedDict):\n",
    "    warehouses: list\n",
    "    recommendations: Annotated[list, add]\n",
    "    final_plan: str\n",
    "    next: list\n",
    "\n",
    "class WarehouseState(TypedDict):\n",
    "    warehouse_id: int"
   ]
  },
  {
   "cell_type": "code",
   "execution_count": 31,
   "id": "0cdda574",
   "metadata": {},
   "outputs": [],
   "source": [
    "def analyze_warehouse(state: WarehouseState):\n",
    "    df = get_warehouse_inventory(state[\"warehouse_id\"])\n",
    "    \n",
    "    recommendations = []\n",
    "    \n",
    "    for _,row in df.iterrows():\n",
    "        monthly_sales = row[\"monthly_sales\"] if row[\"monthly_sales\"] else 0\n",
    "        if row[\"current_stock\"] < row[\"reorder_point\"]:\n",
    "            recommendations.append(\n",
    "                f'URGENT: Restock {row[\"product_name\"]} at {row[\"warehouse_name\"]}'\n",
    "                f'Current Stock: {row[\"current_stock\"]}, Reorder point: {row[\"reorder_point\"]}'\n",
    "            )\n",
    "        elif row[\"current_stock\"] <= monthly_sales:\n",
    "            recommendations.append(\n",
    "                f'WARNING: Low stock for {row[\"product_name\"]} at {row[\"warehouse_name\"]}'\n",
    "                f'Current Stock {row[\"current_stock\"]} is below monthly sales {monthly_sales}'\n",
    "            )\n",
    "            \n",
    "    return {\"recommendations\": recommendations}\n",
    "    "
   ]
  },
  {
   "cell_type": "code",
   "execution_count": 26,
   "id": "15a697d0",
   "metadata": {},
   "outputs": [],
   "source": [
    "def create_final_plan(state: State):\n",
    "    recommendations = state[\"recommendations\"]\n",
    "    urgent_items = [r for r in recommendations if r.startswith(\"URGENT\")]\n",
    "    warning_items = [r for r in recommendations if r.startswith(\"WARNING\")]\n",
    "    \n",
    "    final_plan = \"Priority Restocking Plan:\\n\\n\"\n",
    "    final_plan += \"URGENT ACTIONS:\\n\" + \"\\n\".join(urgent_items) + \"\\n\\n\"\n",
    "    final_plan += \"WARNINGS:\\n\" + \"\\n\".join(warning_items)\n",
    "    \n",
    "    return {\"final_plan\": final_plan}"
   ]
  },
  {
   "cell_type": "code",
   "execution_count": 13,
   "id": "7a0cb42c",
   "metadata": {},
   "outputs": [],
   "source": [
    "from langgraph.types import Send\n",
    "def continue_to_analysis(state: State):\n",
    "    warehouses = get_all_warehouses()\n",
    "    \n",
    "    sends = [Send(\"analyze_warehouse\", {\"warehouse_id\": w}) for w in warehouses]\n",
    "    return {\n",
    "        \"warehouses\": warehouses,\n",
    "        \"next\": sends\n",
    "    }    "
   ]
  },
  {
   "cell_type": "code",
   "execution_count": 32,
   "id": "9bb79856",
   "metadata": {},
   "outputs": [
    {
     "data": {
      "image/png": "[encoded data removed]",
      "text/plain": [
       "<IPython.core.display.Image object>"
      ]
     },
     "execution_count": 32,
     "metadata": {},
     "output_type": "execute_result"
    }
   ],
   "source": [
    "from langgraph.graph import StateGraph, START, END\n",
    "from IPython.display import Image\n",
    "\n",
    "flow = StateGraph(state_schema=State)\n",
    "flow.add_node(\"analyze_warehouse\", analyze_warehouse)\n",
    "flow.add_node(\"create_final_plan\", create_final_plan)\n",
    "flow.add_node(\"continue_to_analysis\", continue_to_analysis)\n",
    "\n",
    "flow.add_edge(START, \"continue_to_analysis\")\n",
    "flow.add_conditional_edges(\"continue_to_analysis\", lambda state: state[\"next\"], [\"analyze_warehouse\"])\n",
    "flow.add_edge(\"analyze_warehouse\", \"create_final_plan\")\n",
    "flow.add_edge(\"create_final_plan\", END)\n",
    "\n",
    "graph = flow.compile()\n",
    "Image(graph.get_graph().draw_mermaid_png())"
   ]
  },
  {
   "cell_type": "code",
   "execution_count": 33,
   "id": "72d392ab",
   "metadata": {},
   "outputs": [
    {
     "name": "stdout",
     "output_type": "stream",
     "text": [
      "Priority Restocking Plan:\n",
      "\n",
      "URGENT ACTIONS:\n",
      "URGENT: Restock Laptop Pro at North HubCurrent Stock: 45, Reorder point: 50\n",
      "URGENT: Restock Wireless Earbuds at North HubCurrent Stock: 95, Reorder point: 100\n",
      "URGENT: Restock Smartphone X at Central DistributionCurrent Stock: 65, Reorder point: 75\n",
      "URGENT: Restock Smart Watch at Central DistributionCurrent Stock: 58, Reorder point: 60\n",
      "URGENT: Restock Wireless Earbuds at East Coast CenterCurrent Stock: 85, Reorder point: 100\n",
      "URGENT: Restock Smart Watch at East Coast CenterCurrent Stock: 52, Reorder point: 60\n",
      "URGENT: Restock Tablet Ultra at East Coast CenterCurrent Stock: 35, Reorder point: 40\n",
      "\n",
      "WARNINGS:\n",
      "WARNING: Low stock for Laptop Pro at Central DistributionCurrent Stock 55 is below monthly sales 55\n"
     ]
    }
   ],
   "source": [
    "result = graph.invoke({})\n",
    "print(result[\"final_plan\"])"
   ]
  },
  {
   "cell_type": "code",
   "execution_count": null,
   "id": "6ce6025e",
   "metadata": {},
   "outputs": [],
   "source": []
  }
 ],
 "metadata": {
  "kernelspec": {
   "display_name": ".venv",
   "language": "python",
   "name": "python3"
  },
  "language_info": {
   "codemirror_mode": {
    "name": "ipython",
    "version": 3
   },
   "file_extension": ".py",
   "mimetype": "text/x-python",
   "name": "python",
   "nbconvert_exporter": "python",
   "pygments_lexer": "ipython3",
   "version": "3.11.7"
  }
 },
 "nbformat": 4,
 "nbformat_minor": 5
}
