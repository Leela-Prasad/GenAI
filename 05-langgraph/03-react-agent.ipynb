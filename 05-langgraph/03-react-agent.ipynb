{
 "cells": [
  {
   "cell_type": "code",
   "execution_count": 10,
   "id": "7784142d",
   "metadata": {},
   "outputs": [
    {
     "data": {
      "text/plain": [
       "True"
      ]
     },
     "execution_count": 10,
     "metadata": {},
     "output_type": "execute_result"
    }
   ],
   "source": [
    "from dotenv import load_dotenv\n",
    "load_dotenv()"
   ]
  },
  {
   "cell_type": "code",
   "execution_count": 11,
   "id": "59908395",
   "metadata": {},
   "outputs": [
    {
     "data": {
      "text/plain": [
       "PromptTemplate(input_variables=['agent_scratchpad', 'input', 'tool_names', 'tools'], input_types={}, partial_variables={}, metadata={'lc_hub_owner': 'hwchase17', 'lc_hub_repo': 'react', 'lc_hub_commit_hash': 'd15fe3c426f1c4b3f37c9198853e4a86e20c425ca7f4752ec0c9b0e97ca7ea4d'}, template='Answer the following questions as best you can. You have access to the following tools:\\n\\n{tools}\\n\\nUse the following format:\\n\\nQuestion: the input question you must answer\\nThought: you should always think about what to do\\nAction: the action to take, should be one of [{tool_names}]\\nAction Input: the input to the action\\nObservation: the result of the action\\n... (this Thought/Action/Action Input/Observation can repeat N times)\\nThought: I now know the final answer\\nFinal Answer: the final answer to the original input question\\n\\nBegin!\\n\\nQuestion: {input}\\nThought:{agent_scratchpad}')"
      ]
     },
     "execution_count": 11,
     "metadata": {},
     "output_type": "execute_result"
    }
   ],
   "source": [
    "from langsmith import Client\n",
    "client = Client()\n",
    "prompt = client.pull_prompt(\"hwchase17/react\", include_model=True)\n",
    "\n",
    "prompt"
   ]
  },
  {
   "cell_type": "code",
   "execution_count": 12,
   "id": "55e4575e",
   "metadata": {},
   "outputs": [],
   "source": [
    "from langchain_core.tools import tool\n",
    "from langchain_community.tools import TavilySearchResults\n",
    "\n",
    "@tool\n",
    "def triple(num: float) -> float:\n",
    "    \"\"\"\n",
    "    param num: a number to triple\n",
    "    return: 3 multiplied by number\n",
    "    \"\"\"\n",
    "    \n",
    "    return 3 * num\n",
    "\n",
    "tavily_search_tool = TavilySearchResults(max_results=5)\n",
    "\n",
    "tools = [tavily_search_tool, triple]"
   ]
  },
  {
   "cell_type": "code",
   "execution_count": 13,
   "id": "a2f91581",
   "metadata": {},
   "outputs": [
    {
     "data": {
      "text/plain": [
       "RunnableAssign(mapper={\n",
       "  agent_scratchpad: RunnableLambda(lambda x: format_log_to_str(x['intermediate_steps']))\n",
       "})\n",
       "| PromptTemplate(input_variables=['agent_scratchpad', 'input'], input_types={}, partial_variables={'tools': 'tavily_search_results_json - A search engine optimized for comprehensive, accurate, and trusted results. Useful for when you need to answer questions about current events. Input should be a search query.\\ntriple(num: float) -> float - param num: a number to triple\\nreturn: 3 multiplied by number', 'tool_names': 'tavily_search_results_json, triple'}, metadata={'lc_hub_owner': 'hwchase17', 'lc_hub_repo': 'react', 'lc_hub_commit_hash': 'd15fe3c426f1c4b3f37c9198853e4a86e20c425ca7f4752ec0c9b0e97ca7ea4d'}, template='Answer the following questions as best you can. You have access to the following tools:\\n\\n{tools}\\n\\nUse the following format:\\n\\nQuestion: the input question you must answer\\nThought: you should always think about what to do\\nAction: the action to take, should be one of [{tool_names}]\\nAction Input: the input to the action\\nObservation: the result of the action\\n... (this Thought/Action/Action Input/Observation can repeat N times)\\nThought: I now know the final answer\\nFinal Answer: the final answer to the original input question\\n\\nBegin!\\n\\nQuestion: {input}\\nThought:{agent_scratchpad}')\n",
       "| RunnableBinding(bound=ChatOpenAI(client=<openai.resources.chat.completions.completions.Completions object at 0x000001E9CC5E10D0>, async_client=<openai.resources.chat.completions.completions.AsyncCompletions object at 0x000001E9DF6E9690>, root_client=<openai.OpenAI object at 0x000001E9DF741750>, root_async_client=<openai.AsyncOpenAI object at 0x000001E9DF70A950>, model_name='gpt-4o-mini', model_kwargs={}, openai_api_key=SecretStr('**********')), kwargs={'stop': ['\\nObservation']}, config={}, config_factories=[])\n",
       "| ReActSingleInputOutputParser()"
      ]
     },
     "execution_count": 13,
     "metadata": {},
     "output_type": "execute_result"
    }
   ],
   "source": [
    "from langchain_openai import ChatOpenAI\n",
    "from langchain.agents import create_react_agent\n",
    "\n",
    "llm = ChatOpenAI(model=\"gpt-4o-mini\")\n",
    "\n",
    "react_agent = create_react_agent(llm=llm, tools=tools, prompt=prompt)\n",
    "react_agent"
   ]
  },
  {
   "cell_type": "code",
   "execution_count": 7,
   "id": "20241478",
   "metadata": {},
   "outputs": [
    {
     "data": {
      "text/plain": [
       "AgentAction(tool='tavily_search_results_json', tool_input='Elon Musk summary', log='I should provide a concise summary of Elon Musk in a single bullet point that captures his significance. However, since he\\'s a well-known figure with a wide range of accomplishments and details, it might be useful to search for a summarized version. \\n\\nAction: tavily_search_results_json  \\nAction Input: \"Elon Musk summary\"  ')"
      ]
     },
     "execution_count": 7,
     "metadata": {},
     "output_type": "execute_result"
    }
   ],
   "source": [
    "temp_agent_action = react_agent.invoke({\n",
    "    \"input\": \"tell me about elon musk in 1 bullet point\",\n",
    "    \"intermediate_steps\": []\n",
    "})\n",
    "temp_agent_action"
   ]
  },
  {
   "cell_type": "code",
   "execution_count": 8,
   "id": "d59e0a1f",
   "metadata": {},
   "outputs": [
    {
     "data": {
      "text/plain": [
       "[{'title': \"Elon Musk's Biography Summary - Dante\",\n",
       "  'url': 'https://dantekim.com/notes/elon-musk-tesla-spacex-and-the-quest-for-a-fantastic-future/',\n",
       "  'content': 'The book first talks about Elon\\'s life growing up and his early educational career. Vance throws in Elon\\'s romantic relationships in places where it is appropriate.\\n Musk was bullied during his childhood and also had an extremely difficult relationship with his father, so much so that he did not want to talk about it. Musk says, however, that he is thankful for those difficult times because it shaped him into the man he is today. [...] During college Elon wrote an extremely detailed and long final paper explaining the inner workings of solar power and how it is becoming a very viable market due to rapid technological improvements. [...] \"instead of doing the fashionable Silicon Valley thing of \"pivoting\" toward a new idea or plan, Musk would dig in deeper.\"\\n\\n\"If you put a number on the projector that does not make sense, he will spot it. He (Elon) doesn\\'t miss details\".\\n\\n\"He (Elon) has to understand that you\\'re as crazy as he is. This ethos filtered through the entire company, and everyone quickly understood Musk meant business\".\\n\\nThis was during the time where both Tesla and SpaceX were on the very brink of bankruptcy.',\n",
       "  'score': 0.8047902},\n",
       " {'title': 'Elon Musk | SpaceX, Tesla, Twitter, X, Trump, DOGE, & Facts',\n",
       "  'url': 'https://www.britannica.com/money/Elon-Musk',\n",
       "  'content': 'Elon Musk (born June 28, 1971, Pretoria, South Africa) is a South African–born American entrepreneur who cofounded the electronic payment firm PayPal and formed SpaceX, maker of launch vehicles and spacecraft. He was also one of the first significant investors in, as well as chief executive officer of, the electric car manufacturer Tesla. In addition, Musk acquired Twitter (later X) in 2022. Musk led the Department of Government Efficiency (DOGE) in U.S. President Donald Trump’s second [...] Entertainment & Pop Culture\\n Literature\\n Sports & Recreation\\n Visual Arts\\n\\nImage GalleriesInfographicsPodcastsSummariesTop QuestionsBritannica Kids\\n\\nTable of Contents\\n\\n Introduction & Quick Facts\\n Early life\\n PayPal and SpaceX\\n Tesla\\n X (formerly Twitter)\\n OpenAI and artificial intelligence\\n The Boring Company\\n Neuralink\\n Politics and DOGE\\n\\nRead More\\n\\nXTesla, Inc.Peter Thiel\\n\\n# Elon Musk\\n\\nAmerican entrepreneur\\n\\nWritten and fact-checked byThe Editors of Encyclopaedia Britannica [...] Elon Musk cofounded the electronic payment firm PayPal, and in 2002 he founded SpaceX, a company that makes rockets and spacecraft. He was a major early funder of Tesla, which makes electric cars and batteries, and became its chief executive officer in 2008. He cofounded Neuralink, a neurotechnology company, in 2016. Musk purchased the social media service Twitter in 2022 and renamed it X in 2023.',\n",
       "  'score': 0.7306941},\n",
       " {'title': 'Elon Musk - Wikipedia',\n",
       "  'url': 'https://en.wikipedia.org/wiki/Elon_Musk',\n",
       "  'content': 'Elon Reeve Musk (/ˈ iː l ɒ n/_EE-lon_; born June 28, 1971) is a businessman and entrepreneur known for his leadership of Tesla, SpaceX, Twitter, and xAI \"XAI (company)\"). Musk has been the wealthiest person in the world since 2021; as of October 2025,( estimates his net worth to be US$500 billion. [...] | Occupation |  CEO and product architect of Tesla  Founder, CEO, and chief engineer of SpaceX  Founder and CEO of xAI \"XAI (company)\")  Founder of the Boring Company and X Corp.  Co-founder of Neuralink, OpenAI, Zip2, and X.com \"X.com (bank)\") (part of PayPal)  President of the Musk Foundation |\\n| Awards | Full list |\\n| Signature | Image 6 |\\n| Elon Musk\\'s voice Elon Musk on his departure from the Department of Government Efficiency Recorded May 30, 2025 |\\n|  | [...] In 2002, Musk founded the space technology company SpaceX, becoming its CEO and chief engineer; the company has since led innovations in reusable rockets and commercial spaceflight. Musk joined the automaker Tesla as an early investor in 2004 and became its CEO and product architect in 2008; it has since become a leader in electric vehicles. In 2015, he co-founded OpenAI to advance artificial intelligence (AI) research, but later left; growing discontent with the organization\\'s direction and',\n",
       "  'score': 0.71758664},\n",
       " {'title': 'Elon Musk: Biography, Entrepreneur, SpaceX and Tesla Founder',\n",
       "  'url': 'https://www.biography.com/business-leaders/elon-musk',\n",
       "  'content': 'At age 17, in 1988, Elon moved to Canada against his parents’ wishes to attend university and avoid mandatory service in the South African military. He obtained his Canadian citizenship that year, in part because he felt it would be easier to obtain U.S. citizenship via that path. Elon moved to the United States a few years later and officially became an American citizen in 2002. [...] Musk is the cofounder, CEO, and product architect at Tesla Motors, a company formed in 2003 that is dedicated to producing affordable, mass-market electric cars as well as battery products and solar roofs. Musk oversees all product development, engineering, and design of the Texas-based company’s products. [...] Musk is the richest person in the world, a title he has held at various points since early 2021. He regularly swaps spots with Amazon founder Jeff Bezos and French businessman Bernard Arnault, who is the founder and CEO of luxury goods conglomerate LVMH.',\n",
       "  'score': 0.6680367},\n",
       " {'title': 'Elon Musk | Research Starters - EBSCO',\n",
       "  'url': 'https://www.ebsco.com/research-starters/biography/elon-musk',\n",
       "  'content': \"product architect, helping design the groundbreaking Tesla Roadster. Musk, who became CEO of the company in October 2008, has been credited with many of the company's achievements, including the design, engineering, and manufacturing of Tesla products; launching the company's regional sales and service centers across two continents; securing a $50 million investment and strategic partnership from Germany's Daimler; spearheading a successful cost-down program that enabled the company to achieve [...] Musk is a self-described workaholic who has claimed to work more than a hundred hours per week, leaving scarce time for leisure activities. He is also an active philanthropist, counting among his philanthropic endeavors the Musk Foundation, which focuses its philanthropic efforts on science education, pediatric health, and clean energy; the X Prize Foundation, which promotes renewable energy technologies; and has served on the boards of the Space Foundation, the National Academies' Aeronautics [...] In addition to having been the primary founder and funder of SpaceX, Musk has been its CEO and chief technology officer. He envisions humans one day colonizing other planets such as Mars, a desire that has fueled the SpaceX mission from its inception. Toward that goal, Musk announced in September 2016 the Interplanetary Transport System program that will create the technology needed to support interplanetary space travel. Musk also continued to promote SpaceX, unveiling a new plan for the\",\n",
       "  'score': 0.64236575}]"
      ]
     },
     "execution_count": 8,
     "metadata": {},
     "output_type": "execute_result"
    }
   ],
   "source": [
    "tool_name = temp_agent_action.tool\n",
    "tool_input = temp_agent_action.tool_input\n",
    "\n",
    "tool_function = None\n",
    "for tool in tools:\n",
    "    if tool.name == tool_name:\n",
    "        tool_function = tool\n",
    "\n",
    "\n",
    "if tool_function:\n",
    "    if isinstance(tool_input, dict):\n",
    "        output = tool_function.invoke(**tool_input)\n",
    "    else:\n",
    "        output = tool_function.invoke(tool_input)\n",
    "        \n",
    "output"
   ]
  },
  {
   "cell_type": "code",
   "execution_count": 9,
   "id": "7b8a482b",
   "metadata": {},
   "outputs": [
    {
     "data": {
      "text/plain": [
       "'[{\\'title\\': \"Elon Musk\\'s Biography Summary - Dante\", \\'url\\': \\'https://dantekim.com/notes/elon-musk-tesla-spacex-and-the-quest-for-a-fantastic-future/\\', \\'content\\': \\'The book first talks about Elon\\\\\\'s life growing up and his early educational career. Vance throws in Elon\\\\\\'s romantic relationships in places where it is appropriate.\\\\n Musk was bullied during his childhood and also had an extremely difficult relationship with his father, so much so that he did not want to talk about it. Musk says, however, that he is thankful for those difficult times because it shaped him into the man he is today. [...] During college Elon wrote an extremely detailed and long final paper explaining the inner workings of solar power and how it is becoming a very viable market due to rapid technological improvements. [...] \"instead of doing the fashionable Silicon Valley thing of \"pivoting\" toward a new idea or plan, Musk would dig in deeper.\"\\\\n\\\\n\"If you put a number on the projector that does not make sense, he will spot it. He (Elon) doesn\\\\\\'t miss details\".\\\\n\\\\n\"He (Elon) has to understand that you\\\\\\'re as crazy as he is. This ethos filtered through the entire company, and everyone quickly understood Musk meant business\".\\\\n\\\\nThis was during the time where both Tesla and SpaceX were on the very brink of bankruptcy.\\', \\'score\\': 0.8047902}, {\\'title\\': \\'Elon Musk | SpaceX, Tesla, Twitter, X, Trump, DOGE, & Facts\\', \\'url\\': \\'https://www.britannica.com/money/Elon-Musk\\', \\'content\\': \\'Elon Musk (born June 28, 1971, Pretoria, South Africa) is a South African–born American entrepreneur who cofounded the electronic payment firm PayPal and formed SpaceX, maker of launch vehicles and spacecraft. He was also one of the first significant investors in, as well as chief executive officer of, the electric car manufacturer Tesla. In addition, Musk acquired Twitter (later X) in 2022. Musk led the Department of Government Efficiency (DOGE) in U.S. President Donald Trump’s second [...] Entertainment & Pop Culture\\\\n Literature\\\\n Sports & Recreation\\\\n Visual Arts\\\\n\\\\nImage GalleriesInfographicsPodcastsSummariesTop QuestionsBritannica Kids\\\\n\\\\nTable of Contents\\\\n\\\\n Introduction & Quick Facts\\\\n Early life\\\\n PayPal and SpaceX\\\\n Tesla\\\\n X (formerly Twitter)\\\\n OpenAI and artificial intelligence\\\\n The Boring Company\\\\n Neuralink\\\\n Politics and DOGE\\\\n\\\\nRead More\\\\n\\\\nXTesla, Inc.Peter Thiel\\\\n\\\\n# Elon Musk\\\\n\\\\nAmerican entrepreneur\\\\n\\\\nWritten and fact-checked byThe Editors of Encyclopaedia Britannica [...] Elon Musk cofounded the electronic payment firm PayPal, and in 2002 he founded SpaceX, a company that makes rockets and spacecraft. He was a major early funder of Tesla, which makes electric cars and batteries, and became its chief executive officer in 2008. He cofounded Neuralink, a neurotechnology company, in 2016. Musk purchased the social media service Twitter in 2022 and renamed it X in 2023.\\', \\'score\\': 0.7306941}, {\\'title\\': \\'Elon Musk - Wikipedia\\', \\'url\\': \\'https://en.wikipedia.org/wiki/Elon_Musk\\', \\'content\\': \\'Elon Reeve Musk (/ˈ iː l ɒ n/_EE-lon_; born June 28, 1971) is a businessman and entrepreneur known for his leadership of Tesla, SpaceX, Twitter, and xAI \"XAI (company)\"). Musk has been the wealthiest person in the world since 2021; as of October 2025,( estimates his net worth to be US$500 billion. [...] | Occupation |  CEO and product architect of Tesla  Founder, CEO, and chief engineer of SpaceX  Founder and CEO of xAI \"XAI (company)\")  Founder of the Boring Company and X Corp.  Co-founder of Neuralink, OpenAI, Zip2, and X.com \"X.com (bank)\") (part of PayPal)  President of the Musk Foundation |\\\\n| Awards | Full list |\\\\n| Signature | Image 6 |\\\\n| Elon Musk\\\\\\'s voice Elon Musk on his departure from the Department of Government Efficiency Recorded May 30, 2025 |\\\\n|  | [...] In 2002, Musk founded the space technology company SpaceX, becoming its CEO and chief engineer; the company has since led innovations in reusable rockets and commercial spaceflight. Musk joined the automaker Tesla as an early investor in 2004 and became its CEO and product architect in 2008; it has since become a leader in electric vehicles. In 2015, he co-founded OpenAI to advance artificial intelligence (AI) research, but later left; growing discontent with the organization\\\\\\'s direction and\\', \\'score\\': 0.71758664}, {\\'title\\': \\'Elon Musk: Biography, Entrepreneur, SpaceX and Tesla Founder\\', \\'url\\': \\'https://www.biography.com/business-leaders/elon-musk\\', \\'content\\': \\'At age 17, in 1988, Elon moved to Canada against his parents’ wishes to attend university and avoid mandatory service in the South African military. He obtained his Canadian citizenship that year, in part because he felt it would be easier to obtain U.S. citizenship via that path. Elon moved to the United States a few years later and officially became an American citizen in 2002. [...] Musk is the cofounder, CEO, and product architect at Tesla Motors, a company formed in 2003 that is dedicated to producing affordable, mass-market electric cars as well as battery products and solar roofs. Musk oversees all product development, engineering, and design of the Texas-based company’s products. [...] Musk is the richest person in the world, a title he has held at various points since early 2021. He regularly swaps spots with Amazon founder Jeff Bezos and French businessman Bernard Arnault, who is the founder and CEO of luxury goods conglomerate LVMH.\\', \\'score\\': 0.6680367}, {\\'title\\': \\'Elon Musk | Research Starters - EBSCO\\', \\'url\\': \\'https://www.ebsco.com/research-starters/biography/elon-musk\\', \\'content\\': \"product architect, helping design the groundbreaking Tesla Roadster. Musk, who became CEO of the company in October 2008, has been credited with many of the company\\'s achievements, including the design, engineering, and manufacturing of Tesla products; launching the company\\'s regional sales and service centers across two continents; securing a $50 million investment and strategic partnership from Germany\\'s Daimler; spearheading a successful cost-down program that enabled the company to achieve [...] Musk is a self-described workaholic who has claimed to work more than a hundred hours per week, leaving scarce time for leisure activities. He is also an active philanthropist, counting among his philanthropic endeavors the Musk Foundation, which focuses its philanthropic efforts on science education, pediatric health, and clean energy; the X Prize Foundation, which promotes renewable energy technologies; and has served on the boards of the Space Foundation, the National Academies\\' Aeronautics [...] In addition to having been the primary founder and funder of SpaceX, Musk has been its CEO and chief technology officer. He envisions humans one day colonizing other planets such as Mars, a desire that has fueled the SpaceX mission from its inception. Toward that goal, Musk announced in September 2016 the Interplanetary Transport System program that will create the technology needed to support interplanetary space travel. Musk also continued to promote SpaceX, unveiling a new plan for the\", \\'score\\': 0.64236575}]'"
      ]
     },
     "execution_count": 9,
     "metadata": {},
     "output_type": "execute_result"
    }
   ],
   "source": [
    "str(output)"
   ]
  },
  {
   "cell_type": "code",
   "execution_count": null,
   "id": "a8c0010d",
   "metadata": {},
   "outputs": [],
   "source": [
    "# from langgraph.prebuilt import ToolNode\n",
    "\n",
    "# tool_node = ToolNode(tools=tools)\n",
    "# print(temp_agent_action.tool_input)\n",
    "# response = tool_node.invoke(temp_agent_action.tool_input)\n",
    "# response"
   ]
  },
  {
   "cell_type": "code",
   "execution_count": 14,
   "id": "370e8317",
   "metadata": {},
   "outputs": [],
   "source": [
    "from typing import TypedDict, Union, Annotated\n",
    "from langchain.schema import AgentAction, AgentFinish\n",
    "from operator import add\n",
    "\n",
    "class AgentState(TypedDict):\n",
    "    input: str\n",
    "    agent_outcome: Union[AgentAction, AgentFinish, None]\n",
    "    intermediate_steps: Annotated[list[tuple[AgentAction, str]], add]"
   ]
  },
  {
   "cell_type": "code",
   "execution_count": 15,
   "id": "562112d2",
   "metadata": {},
   "outputs": [],
   "source": [
    "from langgraph.prebuilt import ToolNode\n",
    "\n",
    "def run_agent_reasoning_engine(state):\n",
    "    input = state[\"input\"]\n",
    "    agent_outcome = react_agent.invoke({\n",
    "                        \"input\": input,\n",
    "                        \"intermediate_steps\": state[\"intermediate_steps\"]\n",
    "                    })\n",
    "    \n",
    "    return {\"agent_outcome\": agent_outcome}\n",
    "\n",
    "\n",
    "def execute_tools(state):\n",
    "    tool_node = ToolNode(tools=tools)\n",
    "    agent_action = state[\"agent_outcome\"]\n",
    "    \n",
    "    tool_name = agent_action.tool\n",
    "    tool_input = agent_action.tool_input\n",
    "    \n",
    "    tool_function = None\n",
    "    for tool in tools:\n",
    "        if tool.name == tool_name:\n",
    "            tool_function = tool\n",
    "    \n",
    "    if tool_function:\n",
    "        if isinstance(tool_input, dict):\n",
    "            response = tool_function.invoke(**tool_input)\n",
    "        else:\n",
    "            response = tool_function.invoke(tool_input)\n",
    "    \n",
    "    return {\"intermediate_steps\": [(agent_action, str(response))]}\n",
    "\n",
    "\n",
    "def should_continue(state):\n",
    "    agent_action = state[\"agent_outcome\"]\n",
    "    if isinstance(agent_action, AgentFinish):\n",
    "        return \"end\"\n",
    "    else:\n",
    "        return \"act\"\n",
    "    \n",
    "    "
   ]
  },
  {
   "cell_type": "code",
   "execution_count": 16,
   "id": "abd633ee",
   "metadata": {},
   "outputs": [
    {
     "data": {
      "image/png": "[encoded data removed]",
      "text/plain": [
       "<IPython.core.display.Image object>"
      ]
     },
     "execution_count": 16,
     "metadata": {},
     "output_type": "execute_result"
    }
   ],
   "source": [
    "from langgraph.graph import StateGraph, END\n",
    "from IPython.display import Image\n",
    "\n",
    "flow = StateGraph(state_schema=AgentState)\n",
    "flow.add_node(\"reasoning_node\", run_agent_reasoning_engine)\n",
    "flow.add_node(\"tools\", execute_tools)\n",
    "\n",
    "flow.add_conditional_edges(\"reasoning_node\", should_continue, {\n",
    "    \"act\": \"tools\",\n",
    "    \"end\": END\n",
    "})\n",
    "\n",
    "flow.add_edge(\"tools\", \"reasoning_node\")\n",
    "\n",
    "flow.set_entry_point(\"reasoning_node\")\n",
    "app = flow.compile()\n",
    "Image(app.get_graph().draw_mermaid_png())"
   ]
  },
  {
   "cell_type": "code",
   "execution_count": 17,
   "id": "fe5ec06a",
   "metadata": {},
   "outputs": [
    {
     "data": {
      "text/plain": [
       "{'input': 'tell me about elon musk in 1 bullet point',\n",
       " 'agent_outcome': AgentFinish(return_values={'output': 'Elon Musk is the CEO of Tesla and SpaceX, known for his controversial public persona and significant impact on technology and business, particularly in 2023 where he faced substantial challenges, including financial losses and criticism regarding his influence over social media and the stock market.'}, log='I now have enough information to summarize Elon Musk in a concise manner. Based on the gathered data, I will create a bullet point that captures the essence of what is currently known about him.  \\n\\nFinal Answer: Elon Musk is the CEO of Tesla and SpaceX, known for his controversial public persona and significant impact on technology and business, particularly in 2023 where he faced substantial challenges, including financial losses and criticism regarding his influence over social media and the stock market.'),\n",
       " 'intermediate_steps': [(AgentAction(tool='tavily_search_results_json', tool_input='Elon Musk 2023', log='I need to gather information about Elon Musk to summarize it in one bullet point. I\\'ll perform a search to get the most accurate and up-to-date information about him.  \\nAction: tavily_search_results_json  \\nAction Input: \"Elon Musk 2023\"  '),\n",
       "   '[{\\'title\\': \\'Proxy advisor ISS opposes Tesla CEO Elon Musk $1 trillion pay plan\\', \\'url\\': \\'https://www.cnbc.com/2025/10/17/proxy-advisor-iss-opposes-tesla-ceo-elon-musk-1-trillion-pay-plan.html\\', \\'content\\': \"Elon Musk, CEO of SpaceX and Tesla, attends the Viva Technology conference at the Porte de Versailles exhibition center in Paris on June 16, 2023.\\\\n\\\\nGonzalo Fuentes | Reuters\\\\n\\\\nTop proxy advisor Institutional Shareholder Services is recommending that Tesla investors vote against a pay plan for CEO Elon Musk that would grant him nearly $1 trillion more in stock. [...] Representatives for ISS declined to comment beyond the report.\\\\n\\\\nISS, along with Glass Lewis and smaller peers, can influence how shareholders decide to cast their votes at annual elections. Musk accused ISS and Glass Lewis in 2023 of effectively controlling the stock market because of their influence with passive or index funds in some matters. He also baselessly compared ISS to a terrorist organization. [...] Among other ISS recommendations, the firm also suggested that shareholders should vote against giving Tesla\\'s board authorization to invest in xAI, the AI company that Musk started in March 2023 but only disclosed publicly in July that year. Tesla has sold tens of millions of dollars worth of its Megapack battery energy storage systems to xAI.\\\\n\\\\nISS also recommended against voting to reinstate Tesla board member Ira Ehrenpreis, a longstanding and close friend of Musk.\", \\'score\\': 0.82391036}, {\\'title\\': \\'6 setbacks for Elon Musk in a brutal 2023 - The Hill\\', \\'url\\': \\'https://thehill.com/policy/technology/4381849-6-setbacks-for-elon-musk-in-a-brutal-2023/\\', \\'content\\': \\'Skip to content\\\\n\\\\nPresident Trump meets with Cabinet amid DC takeover, Fed fight\\\\n\\\\n# 6 setbacks for Elon Musk in a brutal 2023\\\\n\\\\nby Julia Shapero - 01/01/24 5:56 PM ET\\\\n\\\\nElon Musk has faced dozens of setbacks over the past year, from massive advertising losses on X, the platform formerly known as Twitter, to repeated allegations of antisemitism to public legal battles with the Securities and Exchange Commission (SEC) and various watchdog groups. [...] Musk’s latest blow came Friday when X lost its bid to block a California content moderation law.\\\\n\\\\nHere’s a look back at the billionaire tech mogul’s somewhat brutal year:\\\\n\\\\n## Musk rings in 2023 plagued by advertiser losses following takeover\\\\n\\\\nMusk began the year still reeling from significant advertiser losses on Twitter, the platform that his since been renamed X. [...] Within a month, half of Twitter’s top 100 advertisers had stopped spending on the platform, according to a report from the left-leaning media watchdog group Media Matters for America.\\\\n\\\\nBy January, Guinness World Records reported that Musk had secured the world record for the largest loss of personal fortune in history, after losing about $182 billion between November 2021 and January 2023.\\', \\'score\\': 0.8170061}, {\\'title\\': \\'Elon Musk (Isaacson book) - Wikipedia\\', \\'url\\': \\'https://en.wikipedia.org/wiki/Elon_Musk_(Isaacson_book)\\', \\'content\\': \\'| First edition cover |\\\\n| Author | Walter Isaacson |\\\\n| Audio read by | Jeremy Bobb |\\\\n| Language | English |\\\\n| Subject | Elon Musk |\\\\n| Genre | Biography |\\\\n| Publisher | Simon & Schuster |\\\\n| Publication date | September 12, 2023 |\\\\n| Publication place | New York |\\\\n| Media type | Print (hardcover), e-book, audiobook |\\\\n| Pages | 688 pp. |\\\\n| ISBN \"ISBN (identifier)\") | 978-1-982181-28-4 (First edition hardcover) | [...] 9. ^ a b Darcy, Oliver (September 12, 2023). \"An explosive Elon Musk biography is just hitting shelves. But the book\\\\\\'s acclaimed author is already walking back a major claim | CNN Business\". CNN. Archived from the original on September 22, 2023. Retrieved September 15, 2023.\\\\n10. ^ Capoot, Ashley (September 9, 2023). \"Elon Musk biographer moves to \\\\\\'clarify\\\\\\' details about Ukraine and Starlink after backlash\". CNBC. Archived from the original on September 15, 2023. Retrieved September 14, 2023. [...] 21. ^ Grady, Constance (September 13, 2023). \"The big Elon Musk biography asks all the wrong questions\". Vox \"Vox (website)\"). Archived from the original on September 24, 2023. Retrieved October 1, 2023.\\\\n22. ^ Lepore, Jill (September 11, 2023). \"How Elon Musk Went from Superhero to Supervillain\". The New Yorker. Archived from the original on September 13, 2023. Retrieved September 14, 2023.\\', \\'score\\': 0.7872945}, {\\'title\\': \\'Elon Musk Has Turned His Eye to the UK - WIRED\\', \\'url\\': \\'https://www.wired.com/story/elon-musk-attention-on-uk-tommy-robinson/\\', \\'content\\': \\'Musk reinstated his account in November 2023. “I am grateful to @elonmusk for giving me my voice back at such an important time,” Robinson said in response. [...] Robinson was sentenced to 18 months in jail in October 2024 for contempt of court after he continued to post misinformation about a Syrian refugee that led to death threats against the refugee’s family. Musk continued to post about the UK. In the first week of January 2025, Musk posted almost 200 times about the UK “grooming gangs.” He suggested that government officials be jailed. He also reposted an account that claimed Musk had asked King Charles to dissolve Parliament and install a new [...] Musk posted incessantly about British politics at the beginning of the year, until his focus was consumed by DOGE. But, following his stormy departure from Washington, Musk’s focus on Europe is once again creating chaos. WIRED analyzed data provided by BrightData that shows a significant dropoff in the number of posts Musk made about the UK after January of this year. After he left DOGE in May, Musk’s posts about the UK increased dramatically again in August.\\', \\'score\\': 0.64719695}, {\\'title\\': \"Long Battle Over Elon Musk\\'s Tesla Pay Moves Closer to a Resolution\", \\'url\\': \\'https://www.nytimes.com/2025/10/15/business/elon-musk-delaware-pay-package.html\\', \\'content\\': \\'Tesla is challenging a 2023 decision by a lower-court judge, who found that shareholders had not been properly informed about the plan that helped make Mr. Musk, the automaker’s chief executive, the world’s richest person. The judge, Chancellor Kathaleen St. J. McCormick of the Delaware Court of Chancery, also found that members of Tesla’s board were not sufficiently independent.\\', \\'score\\': 0.5596998}]')]}"
      ]
     },
     "execution_count": 17,
     "metadata": {},
     "output_type": "execute_result"
    }
   ],
   "source": [
    "app.invoke({\n",
    "    \"input\": \"tell me about elon musk in 1 bullet point\"\n",
    "})"
   ]
  },
  {
   "cell_type": "code",
   "execution_count": null,
   "id": "84dea20a",
   "metadata": {},
   "outputs": [],
   "source": []
  }
 ],
 "metadata": {
  "kernelspec": {
   "display_name": ".venv",
   "language": "python",
   "name": "python3"
  },
  "language_info": {
   "codemirror_mode": {
    "name": "ipython",
    "version": 3
   },
   "file_extension": ".py",
   "mimetype": "text/x-python",
   "name": "python",
   "nbconvert_exporter": "python",
   "pygments_lexer": "ipython3",
   "version": "3.11.7"
  }
 },
 "nbformat": 4,
 "nbformat_minor": 5
}
