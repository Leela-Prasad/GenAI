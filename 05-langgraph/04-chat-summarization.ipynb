{
 "cells": [
  {
   "cell_type": "code",
   "execution_count": 48,
   "id": "d7140271",
   "metadata": {},
   "outputs": [
    {
     "data": {
      "text/plain": [
       "True"
      ]
     },
     "execution_count": 48,
     "metadata": {},
     "output_type": "execute_result"
    }
   ],
   "source": [
    "from dotenv import load_dotenv\n",
    "load_dotenv()"
   ]
  },
  {
   "cell_type": "code",
   "execution_count": 49,
   "id": "eb2207cb",
   "metadata": {},
   "outputs": [],
   "source": [
    "from langchain_openai import ChatOpenAI\n",
    "model = ChatOpenAI(model=\"gpt-4o-mini\")"
   ]
  },
  {
   "cell_type": "code",
   "execution_count": 51,
   "id": "1310737d",
   "metadata": {},
   "outputs": [],
   "source": [
    "from typing import Annotated\n",
    "from operator import add\n",
    "\n",
    "class State:\n",
    "    messages: Annotated[list, add]\n",
    "    summary: str"
   ]
  },
  {
   "cell_type": "code",
   "execution_count": 52,
   "id": "8ae9cbdb",
   "metadata": {},
   "outputs": [],
   "source": [
    "from langgraph.graph import MessagesState\n",
    "\n",
    "class State(MessagesState):\n",
    "    summary: str"
   ]
  },
  {
   "cell_type": "code",
   "execution_count": 53,
   "id": "0c5a288a",
   "metadata": {},
   "outputs": [],
   "source": [
    "from langchain_core.messages import SystemMessage\n",
    "\n",
    "def call_model(state: State):\n",
    "    summary = state[\"summary\"]\n",
    "    \n",
    "    if summary:\n",
    "        system_message = f\"Summary of Conversation earlier: {summary}\"\n",
    "        messages = [SystemMessage(content=system_message)] + state[\"messages\"]\n",
    "    else:\n",
    "        messages = state[\"messages\"]\n",
    "        \n",
    "    response = model.invoke(messages)\n",
    "    \n",
    "    return {\"messages\": [response]}"
   ]
  },
  {
   "cell_type": "code",
   "execution_count": 54,
   "id": "d3514730",
   "metadata": {},
   "outputs": [],
   "source": [
    "from langchain_core.messages import HumanMessage, RemoveMessage\n",
    "\n",
    "def summarize_conversations(state: State):\n",
    "    summary = state.get(\"summary\", \"\")\n",
    "    if summary:\n",
    "        summary_message = (\n",
    "                            f\"This is the summary of the conversation to date: {summary}\\n\\n \",\n",
    "                            \"Extend the summary by taking into account of new messages above:\"\n",
    "                           )\n",
    "    else:\n",
    "        summary_message = \"create a summary of conversation above:\"\n",
    "        \n",
    "    messages = state[\"messages\"] + [HumanMessage(content=summary_message)]\n",
    "    response = model.invoke(messages)\n",
    "    \n",
    "    deleted_messages = [RemoveMessage(id=m.id) for m in state[\"messages\"][:-2]]\n",
    "    \n",
    "    return {\"summary\": response.content, \"messages\": deleted_messages}"
   ]
  },
  {
   "cell_type": "code",
   "execution_count": 55,
   "id": "28f6742e",
   "metadata": {},
   "outputs": [],
   "source": [
    "from langgraph.graph import END\n",
    "\n",
    "def should_continue(state: State):\n",
    "    messages = state[\"messages\"]\n",
    "    \n",
    "    if len(messages) > 6:\n",
    "        return \"summarize_conversations\"\n",
    "    \n",
    "    return END"
   ]
  },
  {
   "cell_type": "code",
   "execution_count": 56,
   "id": "e1edfa95",
   "metadata": {},
   "outputs": [
    {
     "data": {
      "image/png": "[encoded data removed]",
      "text/plain": [
       "<IPython.core.display.Image object>"
      ]
     },
     "execution_count": 56,
     "metadata": {},
     "output_type": "execute_result"
    }
   ],
   "source": [
    "from langgraph.graph import StateGraph, START, END\n",
    "from IPython.display import Image\n",
    "from langgraph.checkpoint.memory import MemorySaver\n",
    "\n",
    "\n",
    "workflow = StateGraph(state_schema=State)\n",
    "workflow.add_node(\"conversation\", call_model)\n",
    "workflow.add_node(summarize_conversations)\n",
    "\n",
    "# workflow.set_entry_point(\"conversation\")\n",
    "\n",
    "workflow.add_conditional_edges(\"conversation\", should_continue, {\n",
    "    \"summarize_conversations\": \"summarize_conversations\",\n",
    "    \"__end__\": END\n",
    "})\n",
    "workflow.add_edge(START, \"conversation\")\n",
    "workflow.add_edge(\"summarize_conversations\", END)\n",
    "\n",
    "memory = MemorySaver()\n",
    "graph = workflow.compile(checkpointer=memory)\n",
    "Image(graph.get_graph().draw_mermaid_png())"
   ]
  },
  {
   "cell_type": "code",
   "execution_count": 57,
   "id": "64424d7f",
   "metadata": {},
   "outputs": [],
   "source": [
    "config = {\"configurable\": {\"thread_id\": 1}}\n",
    "\n",
    "input_message = HumanMessage(content=\"Hi, I am Leela\")\n",
    "output = graph.invoke({\"messages\": [input_message], \"summary\": None}, config)"
   ]
  },
  {
   "cell_type": "code",
   "execution_count": 58,
   "id": "58458735",
   "metadata": {},
   "outputs": [
    {
     "data": {
      "text/plain": [
       "{'messages': [HumanMessage(content='Hi, I am Leela', additional_kwargs={}, response_metadata={}, id='8d74374e-705d-4821-bab8-60c15e304512'),\n",
       "  AIMessage(content='Hi Leela! How can I assist you today?', additional_kwargs={'refusal': None}, response_metadata={'token_usage': {'completion_tokens': 11, 'prompt_tokens': 13, 'total_tokens': 24, 'completion_tokens_details': {'accepted_prediction_tokens': 0, 'audio_tokens': 0, 'reasoning_tokens': 0, 'rejected_prediction_tokens': 0}, 'prompt_tokens_details': {'audio_tokens': 0, 'cached_tokens': 0}}, 'model_name': 'gpt-4o-mini-2024-07-18', 'system_fingerprint': 'fp_560af6e559', 'id': 'chatcmpl-CTUyi6QRPhumA81Zk4knPwwGILWXG', 'service_tier': 'default', 'finish_reason': 'stop', 'logprobs': None}, id='run--8794bb3f-e004-47fc-9a76-ca3785016499-0', usage_metadata={'input_tokens': 13, 'output_tokens': 11, 'total_tokens': 24, 'input_token_details': {'audio': 0, 'cache_read': 0}, 'output_token_details': {'audio': 0, 'reasoning': 0}})],\n",
       " 'summary': None}"
      ]
     },
     "execution_count": 58,
     "metadata": {},
     "output_type": "execute_result"
    }
   ],
   "source": [
    "output"
   ]
  },
  {
   "cell_type": "code",
   "execution_count": 69,
   "id": "5b4b7750",
   "metadata": {},
   "outputs": [
    {
     "name": "stdout",
     "output_type": "stream",
     "text": [
      "================================\u001b[1m Human Message \u001b[0m=================================\n",
      "\n",
      "Hi, I am Leela\n",
      "==================================\u001b[1m Ai Message \u001b[0m==================================\n",
      "\n",
      "Hi Leela! How can I assist you today?\n"
     ]
    }
   ],
   "source": [
    "for message in output[\"messages\"]:\n",
    "    message.pretty_print()"
   ]
  },
  {
   "cell_type": "code",
   "execution_count": 70,
   "id": "5ea26bc0",
   "metadata": {},
   "outputs": [
    {
     "name": "stdout",
     "output_type": "stream",
     "text": [
      "================================\u001b[1m Human Message \u001b[0m=================================\n",
      "\n",
      "Hi, I am Leela\n",
      "==================================\u001b[1m Ai Message \u001b[0m==================================\n",
      "\n",
      "Hi Leela! How can I assist you today?\n",
      "================================\u001b[1m Human Message \u001b[0m=================================\n",
      "\n",
      "What is my name\n",
      "==================================\u001b[1m Ai Message \u001b[0m==================================\n",
      "\n",
      "Your name is Leela. How can I help you today?\n"
     ]
    }
   ],
   "source": [
    "input_message = HumanMessage(content=\"What is my name\")\n",
    "output = graph.invoke({\"messages\": [input_message], \"summary\": None}, config)\n",
    "\n",
    "for message in output[\"messages\"]:\n",
    "    message.pretty_print()"
   ]
  },
  {
   "cell_type": "code",
   "execution_count": 71,
   "id": "78496cde",
   "metadata": {},
   "outputs": [
    {
     "name": "stdout",
     "output_type": "stream",
     "text": [
      "================================\u001b[1m Human Message \u001b[0m=================================\n",
      "\n",
      "Hi, I am Leela\n",
      "==================================\u001b[1m Ai Message \u001b[0m==================================\n",
      "\n",
      "Hi Leela! How can I assist you today?\n",
      "================================\u001b[1m Human Message \u001b[0m=================================\n",
      "\n",
      "What is my name\n",
      "==================================\u001b[1m Ai Message \u001b[0m==================================\n",
      "\n",
      "Your name is Leela. How can I help you today?\n",
      "================================\u001b[1m Human Message \u001b[0m=================================\n",
      "\n",
      "Tell me about elon musk in 2 sentences\n",
      "==================================\u001b[1m Ai Message \u001b[0m==================================\n",
      "\n",
      "Elon Musk is a billionaire entrepreneur and CEO known for founding and leading several high-profile companies, including Tesla and SpaceX, focused on advancing electric vehicles and space exploration. He is recognized for his ambitious vision of the future, including the colonization of Mars and the development of sustainable energy solutions.\n"
     ]
    }
   ],
   "source": [
    "input_message = HumanMessage(content=\"Tell me about elon musk in 2 sentences\")\n",
    "output = graph.invoke({\"messages\": [input_message], \"summary\": None}, config)\n",
    "\n",
    "for message in output[\"messages\"]:\n",
    "    message.pretty_print()"
   ]
  },
  {
   "cell_type": "code",
   "execution_count": 73,
   "id": "4849d2be",
   "metadata": {},
   "outputs": [],
   "source": [
    "output[\"summary\"]"
   ]
  },
  {
   "cell_type": "code",
   "execution_count": 74,
   "id": "13c815aa",
   "metadata": {},
   "outputs": [
    {
     "name": "stdout",
     "output_type": "stream",
     "text": [
      "================================\u001b[1m Human Message \u001b[0m=================================\n",
      "\n",
      "Tell me about trump in 1 sentences\n",
      "==================================\u001b[1m Ai Message \u001b[0m==================================\n",
      "\n",
      "Donald Trump is a businessman and politician who served as the 45th President of the United States from 2017 to 2021, known for his controversial policies, unconventional communication style, and significant impact on American political discourse.\n"
     ]
    }
   ],
   "source": [
    "input_message = HumanMessage(content=\"Tell me about trump in 1 sentences\")\n",
    "output = graph.invoke({\"messages\": [input_message]}, config)\n",
    "\n",
    "for message in output[\"messages\"]:\n",
    "    message.pretty_print()"
   ]
  },
  {
   "cell_type": "code",
   "execution_count": 75,
   "id": "bfab7deb",
   "metadata": {},
   "outputs": [
    {
     "data": {
      "text/plain": [
       "'In the conversation, Leela introduced herself and asked for information about notable figures. I provided a brief overview of Elon Musk, highlighting his roles as CEO of Tesla and SpaceX and his vision for the future, and then summarized Donald Trump in one sentence, mentioning his presidency and impact on American politics.'"
      ]
     },
     "execution_count": 75,
     "metadata": {},
     "output_type": "execute_result"
    }
   ],
   "source": [
    "output[\"summary\"]"
   ]
  },
  {
   "cell_type": "code",
   "execution_count": 76,
   "id": "c2498ad7",
   "metadata": {},
   "outputs": [
    {
     "name": "stdout",
     "output_type": "stream",
     "text": [
      "================================\u001b[1m Human Message \u001b[0m=================================\n",
      "\n",
      "Tell me about trump in 1 sentences\n",
      "==================================\u001b[1m Ai Message \u001b[0m==================================\n",
      "\n",
      "Donald Trump is a businessman and politician who served as the 45th President of the United States from 2017 to 2021, known for his controversial policies, unconventional communication style, and significant impact on American political discourse.\n",
      "================================\u001b[1m Human Message \u001b[0m=================================\n",
      "\n",
      "I love python\n",
      "==================================\u001b[1m Ai Message \u001b[0m==================================\n",
      "\n",
      "That's great to hear! Python is a versatile and powerful programming language known for its simplicity and readability, making it popular for various applications, from web development to data analysis and machine learning. What do you enjoy most about using Python?\n"
     ]
    }
   ],
   "source": [
    "input_message = HumanMessage(content=\"I love python\")\n",
    "output = graph.invoke({\"messages\": [input_message]}, config)\n",
    "\n",
    "for message in output[\"messages\"]:\n",
    "    message.pretty_print()"
   ]
  },
  {
   "cell_type": "code",
   "execution_count": null,
   "id": "6b0527d1",
   "metadata": {},
   "outputs": [],
   "source": []
  }
 ],
 "metadata": {
  "kernelspec": {
   "display_name": ".venv",
   "language": "python",
   "name": "python3"
  },
  "language_info": {
   "codemirror_mode": {
    "name": "ipython",
    "version": 3
   },
   "file_extension": ".py",
   "mimetype": "text/x-python",
   "name": "python",
   "nbconvert_exporter": "python",
   "pygments_lexer": "ipython3",
   "version": "3.11.7"
  }
 },
 "nbformat": 4,
 "nbformat_minor": 5
}
